{
 "cells": [
  {
   "cell_type": "code",
   "execution_count": 1,
   "metadata": {},
   "outputs": [],
   "source": [
    "%load_ext sql"
   ]
  },
  {
   "cell_type": "code",
   "execution_count": 2,
   "metadata": {},
   "outputs": [
    {
     "data": {
      "text/plain": [
       "'Connected: @../CourseDataWarehouse.db'"
      ]
     },
     "execution_count": 2,
     "metadata": {},
     "output_type": "execute_result"
    }
   ],
   "source": [
    "%%sql\n",
    "sqlite:///../CourseDataWarehouse.db"
   ]
  },
  {
   "cell_type": "code",
   "execution_count": 3,
   "metadata": {},
   "outputs": [
    {
     "name": "stdout",
     "output_type": "stream",
     "text": [
      " * sqlite:///../CourseDataWarehouse.db\n",
      "Done.\n"
     ]
    },
    {
     "data": {
      "text/html": [
       "<table>\n",
       "    <tr>\n",
       "        <th>COUNT(*)</th>\n",
       "        <th>COUNT(*)_1</th>\n",
       "    </tr>\n",
       "    <tr>\n",
       "        <td>2159</td>\n",
       "        <td>2159</td>\n",
       "    </tr>\n",
       "</table>"
      ],
      "text/plain": [
       "[(2159, 2159)]"
      ]
     },
     "execution_count": 3,
     "metadata": {},
     "output_type": "execute_result"
    }
   ],
   "source": [
    "%%sql\n",
    "/* Testing for entity integrity */\n",
    "SELECT DISTINCT COUNT(*), COUNT(*) FROM DW_COURSES;"
   ]
  },
  {
   "cell_type": "code",
   "execution_count": 4,
   "metadata": {},
   "outputs": [
    {
     "name": "stdout",
     "output_type": "stream",
     "text": [
      " * sqlite:///../CourseDataWarehouse.db\n",
      "Done.\n"
     ]
    },
    {
     "data": {
      "text/html": [
       "<table>\n",
       "    <tr>\n",
       "        <th>COUNT(*)</th>\n",
       "        <th>COUNT(*)_1</th>\n",
       "    </tr>\n",
       "    <tr>\n",
       "        <td>571</td>\n",
       "        <td>571</td>\n",
       "    </tr>\n",
       "</table>"
      ],
      "text/plain": [
       "[(571, 571)]"
      ]
     },
     "execution_count": 4,
     "metadata": {},
     "output_type": "execute_result"
    }
   ],
   "source": [
    "%%sql\n",
    "/* Testing for entity integrity */\n",
    "SELECT DISTINCT COUNT(*), COUNT(*) FROM DW_INSTRUCTOR;"
   ]
  },
  {
   "cell_type": "code",
   "execution_count": 5,
   "metadata": {},
   "outputs": [
    {
     "name": "stdout",
     "output_type": "stream",
     "text": [
      " * sqlite:///../CourseDataWarehouse.db\n",
      "Done.\n"
     ]
    },
    {
     "data": {
      "text/html": [
       "<table>\n",
       "    <tr>\n",
       "        <th>COUNT(*)</th>\n",
       "        <th>COUNT(*)_1</th>\n",
       "    </tr>\n",
       "    <tr>\n",
       "        <td>2072</td>\n",
       "        <td>2072</td>\n",
       "    </tr>\n",
       "</table>"
      ],
      "text/plain": [
       "[(2072, 2072)]"
      ]
     },
     "execution_count": 5,
     "metadata": {},
     "output_type": "execute_result"
    }
   ],
   "source": [
    "%%sql\n",
    "/* Testing for entity integrity */\n",
    "SELECT DISTINCT COUNT(*), COUNT(*) FROM DW_COURSE_OFFERING;"
   ]
  },
  {
   "cell_type": "code",
   "execution_count": 6,
   "metadata": {},
   "outputs": [
    {
     "name": "stdout",
     "output_type": "stream",
     "text": [
      " * sqlite:///../CourseDataWarehouse.db\n",
      "Done.\n"
     ]
    },
    {
     "data": {
      "text/html": [
       "<table>\n",
       "    <tr>\n",
       "        <th>COUNT(*)</th>\n",
       "        <th>COUNT(*)_1</th>\n",
       "    </tr>\n",
       "    <tr>\n",
       "        <td>311159</td>\n",
       "        <td>311159</td>\n",
       "    </tr>\n",
       "</table>"
      ],
      "text/plain": [
       "[(311159, 311159)]"
      ]
     },
     "execution_count": 6,
     "metadata": {},
     "output_type": "execute_result"
    }
   ],
   "source": [
    "%%sql\n",
    "/* Testing for entity integrity */\n",
    "SELECT DISTINCT COUNT(*), COUNT(*) FROM DW_COURSE_MEETING;"
   ]
  },
  {
   "cell_type": "code",
   "execution_count": null,
   "metadata": {},
   "outputs": [],
   "source": []
  }
 ],
 "metadata": {
  "kernelspec": {
   "display_name": "Python 3",
   "language": "python",
   "name": "python3"
  },
  "language_info": {
   "codemirror_mode": {
    "name": "ipython",
    "version": 3
   },
   "file_extension": ".py",
   "mimetype": "text/x-python",
   "name": "python",
   "nbconvert_exporter": "python",
   "pygments_lexer": "ipython3",
   "version": "3.6.5"
  }
 },
 "nbformat": 4,
 "nbformat_minor": 2
}

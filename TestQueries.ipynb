{
 "cells": [
  {
   "cell_type": "code",
   "execution_count": 47,
   "metadata": {},
   "outputs": [
    {
     "name": "stdout",
     "output_type": "stream",
     "text": [
      "The sql extension is already loaded. To reload it, use:\n",
      "  %reload_ext sql\n"
     ]
    }
   ],
   "source": [
    "%load_ext sql"
   ]
  },
  {
   "cell_type": "code",
   "execution_count": 48,
   "metadata": {},
   "outputs": [
    {
     "data": {
      "text/plain": [
       "'Connected: @CourseData.db'"
      ]
     },
     "execution_count": 48,
     "metadata": {},
     "output_type": "execute_result"
    }
   ],
   "source": [
    "%%sql\n",
    "sqlite:///CourseData.db"
   ]
  },
  {
   "cell_type": "code",
   "execution_count": 49,
   "metadata": {},
   "outputs": [
    {
     "name": "stdout",
     "output_type": "stream",
     "text": [
      " * sqlite:///CourseData.db\n",
      "Done.\n"
     ]
    },
    {
     "data": {
      "text/html": [
       "<table>\n",
       "    <tr>\n",
       "        <th>primary_instructor</th>\n",
       "    </tr>\n",
       "    <tr>\n",
       "        <td>Michael P.  Coyne</td>\n",
       "    </tr>\n",
       "    <tr>\n",
       "        <td>Rebecca I.  Bloch</td>\n",
       "    </tr>\n",
       "    <tr>\n",
       "        <td>Paul   Caster</td>\n",
       "    </tr>\n",
       "    <tr>\n",
       "        <td>Jo Ann   Drusbosky</td>\n",
       "    </tr>\n",
       "    <tr>\n",
       "        <td>Arleen N.  Kardos</td>\n",
       "    </tr>\n",
       "    <tr>\n",
       "        <td>Scott M  Brenner</td>\n",
       "    </tr>\n",
       "    <tr>\n",
       "        <td>Kevin C.  Cassidy</td>\n",
       "    </tr>\n",
       "    <tr>\n",
       "        <td>Bruce   Bradford</td>\n",
       "    </tr>\n",
       "    <tr>\n",
       "        <td>Milo W.  Peck</td>\n",
       "    </tr>\n",
       "    <tr>\n",
       "        <td>Stephen E.  Yost</td>\n",
       "    </tr>\n",
       "</table>"
      ],
      "text/plain": [
       "[('Michael P.  Coyne',),\n",
       " ('Rebecca I.  Bloch',),\n",
       " ('Paul   Caster',),\n",
       " ('Jo Ann   Drusbosky',),\n",
       " ('Arleen N.  Kardos',),\n",
       " ('Scott M  Brenner',),\n",
       " ('Kevin C.  Cassidy',),\n",
       " ('Bruce   Bradford',),\n",
       " ('Milo W.  Peck',),\n",
       " ('Stephen E.  Yost',)]"
      ]
     },
     "execution_count": 49,
     "metadata": {},
     "output_type": "execute_result"
    }
   ],
   "source": [
    "%%sql\n",
    "SELECT DISTINCT primary_instructor\n",
    "FROM INSTRUCTOR \n",
    "LIMIT 10;"
   ]
  },
  {
   "cell_type": "code",
   "execution_count": 50,
   "metadata": {},
   "outputs": [
    {
     "name": "stdout",
     "output_type": "stream",
     "text": [
      " * sqlite:///CourseData.db\n",
      "Done.\n"
     ]
    },
    {
     "data": {
      "text/html": [
       "<table>\n",
       "    <tr>\n",
       "        <th>location</th>\n",
       "        <th>CRN</th>\n",
       "    </tr>\n",
       "    <tr>\n",
       "        <td>DSB 105</td>\n",
       "        <td>70384</td>\n",
       "    </tr>\n",
       "    <tr>\n",
       "        <td>DSB 105</td>\n",
       "        <td>70385</td>\n",
       "    </tr>\n",
       "    <tr>\n",
       "        <td>DSB 105</td>\n",
       "        <td>70382</td>\n",
       "    </tr>\n",
       "    <tr>\n",
       "        <td>DSB 111</td>\n",
       "        <td>70291</td>\n",
       "    </tr>\n",
       "    <tr>\n",
       "        <td>DSB 111</td>\n",
       "        <td>70350</td>\n",
       "    </tr>\n",
       "</table>"
      ],
      "text/plain": [
       "[('DSB 105', '70384'),\n",
       " ('DSB 105', '70385'),\n",
       " ('DSB 105', '70382'),\n",
       " ('DSB 111', '70291'),\n",
       " ('DSB 111', '70350')]"
      ]
     },
     "execution_count": 50,
     "metadata": {},
     "output_type": "execute_result"
    }
   ],
   "source": [
    "%%sql\n",
    "SELECT DISTINCT location, CRN\n",
    "FROM COURSE_MEETING\n",
    "LIMIT 5;"
   ]
  },
  {
   "cell_type": "code",
   "execution_count": 60,
   "metadata": {},
   "outputs": [
    {
     "name": "stdout",
     "output_type": "stream",
     "text": [
      " * sqlite:///CourseData.db\n",
      "Done.\n"
     ]
    },
    {
     "data": {
      "text/html": [
       "<table>\n",
       "    <tr>\n",
       "        <th>Teacher</th>\n",
       "        <th>Section</th>\n",
       "    </tr>\n",
       "    <tr>\n",
       "        <td>Nancy A.  Moriber</td>\n",
       "        <td>42</td>\n",
       "    </tr>\n",
       "    <tr>\n",
       "        <td>Michael P.  Pagano</td>\n",
       "        <td>26</td>\n",
       "    </tr>\n",
       "    <tr>\n",
       "        <td>Virginia A.  Kelly</td>\n",
       "        <td>24</td>\n",
       "    </tr>\n",
       "    <tr>\n",
       "        <td>Kathi M.  Mettler</td>\n",
       "        <td>23</td>\n",
       "    </tr>\n",
       "    <tr>\n",
       "        <td>Jeffrey N.  Denenberg</td>\n",
       "        <td>22</td>\n",
       "    </tr>\n",
       "    <tr>\n",
       "        <td>Deborah L.  Edelman</td>\n",
       "        <td>21</td>\n",
       "    </tr>\n",
       "    <tr>\n",
       "        <td>Erica E.  Hartwell</td>\n",
       "        <td>20</td>\n",
       "    </tr>\n",
       "    <tr>\n",
       "        <td>Lisa A.  Mainiero</td>\n",
       "        <td>20</td>\n",
       "    </tr>\n",
       "    <tr>\n",
       "        <td>Ryan P.  Colwell</td>\n",
       "        <td>20</td>\n",
       "    </tr>\n",
       "    <tr>\n",
       "        <td>Amalia I.  Rusu</td>\n",
       "        <td>19</td>\n",
       "    </tr>\n",
       "</table>"
      ],
      "text/plain": [
       "[('Nancy A.  Moriber', 42),\n",
       " ('Michael P.  Pagano', 26),\n",
       " ('Virginia A.  Kelly', 24),\n",
       " ('Kathi M.  Mettler', 23),\n",
       " ('Jeffrey N.  Denenberg', 22),\n",
       " ('Deborah L.  Edelman', 21),\n",
       " ('Erica E.  Hartwell', 20),\n",
       " ('Lisa A.  Mainiero', 20),\n",
       " ('Ryan P.  Colwell', 20),\n",
       " ('Amalia I.  Rusu', 19)]"
      ]
     },
     "execution_count": 60,
     "metadata": {},
     "output_type": "execute_result"
    }
   ],
   "source": [
    "%%sql\n",
    "SELECT DISTINCT (primary_instructor) AS Teacher, COUNT(section) AS Section\n",
    "FROM COURSE_OFFERING \n",
    "WHERE act > 10\n",
    "GROUP BY primary_instructor, section\n",
    "ORDER BY section DESC\n",
    "LIMIT 10;"
   ]
  },
  {
   "cell_type": "code",
   "execution_count": 45,
   "metadata": {},
   "outputs": [
    {
     "name": "stdout",
     "output_type": "stream",
     "text": [
      " * sqlite:///CourseData.db\n",
      "(sqlite3.OperationalError) no such column: Count [SQL: \"SELECT AVG(Count), (SELECT COUNT(section) FROM COURSE_OFFERING WHERE term = 'Fall2018') AS Count\\nFROM COURSE_OFFERING \\nWHERE term = 'Fall2018';\"] (Background on this error at: http://sqlalche.me/e/e3q8)\n"
     ]
    }
   ],
   "source": [
    "%%sql\n",
    "SELECT AVG(Count), (SELECT COUNT(section) FROM COURSE_OFFERING WHERE term = 'Fall2018') AS Count\n",
    "FROM COURSE_OFFERING \n",
    "WHERE term = 'Fall2018';"
   ]
  },
  {
   "cell_type": "code",
   "execution_count": 59,
   "metadata": {},
   "outputs": [
    {
     "name": "stdout",
     "output_type": "stream",
     "text": [
      " * sqlite:///CourseData.db\n",
      "Done.\n"
     ]
    },
    {
     "data": {
      "text/html": [
       "<table>\n",
       "    <tr>\n",
       "        <th>Teacher</th>\n",
       "        <th>Section</th>\n",
       "    </tr>\n",
       "    <tr>\n",
       "        <td>Sonya R.  Huber</td>\n",
       "        <td>5</td>\n",
       "    </tr>\n",
       "    <tr>\n",
       "        <td>Nancy A.  Moriber</td>\n",
       "        <td>4</td>\n",
       "    </tr>\n",
       "    <tr>\n",
       "        <td>Amalia I.  Rusu</td>\n",
       "        <td>3</td>\n",
       "    </tr>\n",
       "    <tr>\n",
       "        <td>Dorothea D.  Braginsky</td>\n",
       "        <td>3</td>\n",
       "    </tr>\n",
       "    <tr>\n",
       "        <td>James E.  Biardi</td>\n",
       "        <td>3</td>\n",
       "    </tr>\n",
       "    <tr>\n",
       "        <td>Jeffrey I.  Kramer</td>\n",
       "        <td>3</td>\n",
       "    </tr>\n",
       "    <tr>\n",
       "        <td>Lucrecia   Garcia Iommi</td>\n",
       "        <td>3</td>\n",
       "    </tr>\n",
       "    <tr>\n",
       "        <td>Mary Sallyanne   Ryan</td>\n",
       "        <td>3</td>\n",
       "    </tr>\n",
       "    <tr>\n",
       "        <td>Michael P.  Pagano</td>\n",
       "        <td>3</td>\n",
       "    </tr>\n",
       "    <tr>\n",
       "        <td>Michael Walden  Creane</td>\n",
       "        <td>3</td>\n",
       "    </tr>\n",
       "</table>"
      ],
      "text/plain": [
       "[('Sonya R.  Huber', 5),\n",
       " ('Nancy A.  Moriber', 4),\n",
       " ('Amalia I.  Rusu', 3),\n",
       " ('Dorothea D.  Braginsky', 3),\n",
       " ('James E.  Biardi', 3),\n",
       " ('Jeffrey I.  Kramer', 3),\n",
       " ('Lucrecia   Garcia Iommi', 3),\n",
       " ('Mary Sallyanne   Ryan', 3),\n",
       " ('Michael P.  Pagano', 3),\n",
       " ('Michael Walden  Creane', 3)]"
      ]
     },
     "execution_count": 59,
     "metadata": {},
     "output_type": "execute_result"
    }
   ],
   "source": [
    "%%sql\n",
    "SELECT DISTINCT (primary_instructor) AS Teacher, COUNT(section) AS Section\n",
    "FROM COURSE_OFFERING \n",
    "WHERE term = 'Fall2018' AND act > 10\n",
    "GROUP BY primary_instructor, section\n",
    "ORDER BY section DESC\n",
    "LIMIT 10;"
   ]
  },
  {
   "cell_type": "code",
   "execution_count": null,
   "metadata": {},
   "outputs": [],
   "source": [
    "Where does x teacher teach x class?"
   ]
  }
 ],
 "metadata": {
  "kernelspec": {
   "display_name": "Python 3",
   "language": "python",
   "name": "python3"
  },
  "language_info": {
   "codemirror_mode": {
    "name": "ipython",
    "version": 3
   },
   "file_extension": ".py",
   "mimetype": "text/x-python",
   "name": "python",
   "nbconvert_exporter": "python",
   "pygments_lexer": "ipython3",
   "version": "3.6.5"
  }
 },
 "nbformat": 4,
 "nbformat_minor": 2
}

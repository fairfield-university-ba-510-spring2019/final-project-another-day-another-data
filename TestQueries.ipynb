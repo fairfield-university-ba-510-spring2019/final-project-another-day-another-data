{
 "cells": [
  {
   "cell_type": "code",
   "execution_count": 1,
   "metadata": {},
   "outputs": [],
   "source": [
    "%load_ext sql"
   ]
  },
  {
   "cell_type": "code",
   "execution_count": 2,
   "metadata": {},
   "outputs": [
    {
     "data": {
      "text/plain": [
       "'Connected: @CourseData.db'"
      ]
     },
     "execution_count": 2,
     "metadata": {},
     "output_type": "execute_result"
    }
   ],
   "source": [
    "%%sql\n",
    "sqlite:///CourseData.db"
   ]
  },
  {
   "cell_type": "code",
   "execution_count": 3,
   "metadata": {},
   "outputs": [
    {
     "name": "stdout",
     "output_type": "stream",
     "text": [
      " * sqlite:///CourseData.db\n",
      "Done.\n"
     ]
    },
    {
     "data": {
      "text/html": [
       "<table>\n",
       "    <tr>\n",
       "        <th>primary_instructor</th>\n",
       "    </tr>\n",
       "    <tr>\n",
       "        <td>Michael P.  Coyne</td>\n",
       "    </tr>\n",
       "    <tr>\n",
       "        <td>Rebecca I.  Bloch</td>\n",
       "    </tr>\n",
       "    <tr>\n",
       "        <td>Paul   Caster</td>\n",
       "    </tr>\n",
       "    <tr>\n",
       "        <td>Jo Ann   Drusbosky</td>\n",
       "    </tr>\n",
       "    <tr>\n",
       "        <td>Arleen N.  Kardos</td>\n",
       "    </tr>\n",
       "    <tr>\n",
       "        <td>Scott M  Brenner</td>\n",
       "    </tr>\n",
       "    <tr>\n",
       "        <td>Kevin C.  Cassidy</td>\n",
       "    </tr>\n",
       "    <tr>\n",
       "        <td>Bruce   Bradford</td>\n",
       "    </tr>\n",
       "    <tr>\n",
       "        <td>Milo W.  Peck</td>\n",
       "    </tr>\n",
       "    <tr>\n",
       "        <td>Stephen E.  Yost</td>\n",
       "    </tr>\n",
       "</table>"
      ],
      "text/plain": [
       "[('Michael P.  Coyne',),\n",
       " ('Rebecca I.  Bloch',),\n",
       " ('Paul   Caster',),\n",
       " ('Jo Ann   Drusbosky',),\n",
       " ('Arleen N.  Kardos',),\n",
       " ('Scott M  Brenner',),\n",
       " ('Kevin C.  Cassidy',),\n",
       " ('Bruce   Bradford',),\n",
       " ('Milo W.  Peck',),\n",
       " ('Stephen E.  Yost',)]"
      ]
     },
     "execution_count": 3,
     "metadata": {},
     "output_type": "execute_result"
    }
   ],
   "source": [
    "%%sql\n",
    "SELECT DISTINCT primary_instructor\n",
    "FROM INSTRUCTOR \n",
    "LIMIT 10;"
   ]
  },
  {
   "cell_type": "code",
   "execution_count": 4,
   "metadata": {},
   "outputs": [
    {
     "name": "stdout",
     "output_type": "stream",
     "text": [
      " * sqlite:///CourseData.db\n",
      "Done.\n"
     ]
    },
    {
     "data": {
      "text/html": [
       "<table>\n",
       "    <tr>\n",
       "        <th>location</th>\n",
       "        <th>CRN</th>\n",
       "    </tr>\n",
       "    <tr>\n",
       "        <td>DSB 105</td>\n",
       "        <td>70384</td>\n",
       "    </tr>\n",
       "    <tr>\n",
       "        <td>DSB 105</td>\n",
       "        <td>70385</td>\n",
       "    </tr>\n",
       "    <tr>\n",
       "        <td>DSB 105</td>\n",
       "        <td>70382</td>\n",
       "    </tr>\n",
       "    <tr>\n",
       "        <td>DSB 111</td>\n",
       "        <td>70291</td>\n",
       "    </tr>\n",
       "    <tr>\n",
       "        <td>DSB 111</td>\n",
       "        <td>70350</td>\n",
       "    </tr>\n",
       "</table>"
      ],
      "text/plain": [
       "[('DSB 105', '70384'),\n",
       " ('DSB 105', '70385'),\n",
       " ('DSB 105', '70382'),\n",
       " ('DSB 111', '70291'),\n",
       " ('DSB 111', '70350')]"
      ]
     },
     "execution_count": 4,
     "metadata": {},
     "output_type": "execute_result"
    }
   ],
   "source": [
    "%%sql\n",
    "SELECT DISTINCT location, CRN\n",
    "FROM COURSE_MEETING\n",
    "LIMIT 5;"
   ]
  },
  {
   "cell_type": "code",
   "execution_count": 17,
   "metadata": {},
   "outputs": [
    {
     "name": "stdout",
     "output_type": "stream",
     "text": [
      " * sqlite:///CourseData.db\n",
      "Done.\n"
     ]
    },
    {
     "data": {
      "text/html": [
       "<table>\n",
       "    <tr>\n",
       "        <th>Teacher</th>\n",
       "        <th>No_sections</th>\n",
       "    </tr>\n",
       "    <tr>\n",
       "        <td>Nicole Elizabeth  Heller</td>\n",
       "        <td>156</td>\n",
       "    </tr>\n",
       "    <tr>\n",
       "        <td>Kamala   Kiem</td>\n",
       "        <td>93</td>\n",
       "    </tr>\n",
       "    <tr>\n",
       "        <td>Nancy A.  Moriber</td>\n",
       "        <td>67</td>\n",
       "    </tr>\n",
       "    <tr>\n",
       "        <td>Anthony J.  DeCristofaro</td>\n",
       "        <td>56</td>\n",
       "    </tr>\n",
       "    <tr>\n",
       "        <td>Christine   Earls</td>\n",
       "        <td>48</td>\n",
       "    </tr>\n",
       "    <tr>\n",
       "        <td>Bidyut B.  Das</td>\n",
       "        <td>46</td>\n",
       "    </tr>\n",
       "    <tr>\n",
       "        <td>Sharlene A.  McEvoy</td>\n",
       "        <td>45</td>\n",
       "    </tr>\n",
       "    <tr>\n",
       "        <td>Milo W.  Peck</td>\n",
       "        <td>43</td>\n",
       "    </tr>\n",
       "    <tr>\n",
       "        <td>Rose P.  Rodrigues</td>\n",
       "        <td>43</td>\n",
       "    </tr>\n",
       "    <tr>\n",
       "        <td>John E.  Neal</td>\n",
       "        <td>41</td>\n",
       "    </tr>\n",
       "</table>"
      ],
      "text/plain": [
       "[('Nicole Elizabeth  Heller', 156),\n",
       " ('Kamala   Kiem', 93),\n",
       " ('Nancy A.  Moriber', 67),\n",
       " ('Anthony J.  DeCristofaro', 56),\n",
       " ('Christine   Earls', 48),\n",
       " ('Bidyut B.  Das', 46),\n",
       " ('Sharlene A.  McEvoy', 45),\n",
       " ('Milo W.  Peck', 43),\n",
       " ('Rose P.  Rodrigues', 43),\n",
       " ('John E.  Neal', 41)]"
      ]
     },
     "execution_count": 17,
     "metadata": {},
     "output_type": "execute_result"
    }
   ],
   "source": [
    "%%sql\n",
    "SELECT DISTINCT (primary_instructor) AS Teacher, COUNT(section) AS No_sections\n",
    "FROM COURSE_OFFERING \n",
    "WHERE act >10\n",
    "GROUP BY primary_instructor\n",
    "ORDER BY No_sections DESC\n",
    "LIMIT 10;"
   ]
  },
  {
   "cell_type": "code",
   "execution_count": 45,
   "metadata": {},
   "outputs": [
    {
     "name": "stdout",
     "output_type": "stream",
     "text": [
      " * sqlite:///CourseData.db\n",
      "(sqlite3.OperationalError) no such column: Count [SQL: \"SELECT AVG(Count), (SELECT COUNT(section) FROM COURSE_OFFERING WHERE term = 'Fall2018') AS Count\\nFROM COURSE_OFFERING \\nWHERE term = 'Fall2018';\"] (Background on this error at: http://sqlalche.me/e/e3q8)\n"
     ]
    }
   ],
   "source": [
    "%%sql\n",
    "SELECT AVG(Count), (SELECT COUNT(section) FROM COURSE_OFFERING WHERE term = 'Fall2018') AS Count\n",
    "FROM COURSE_OFFERING \n",
    "WHERE term = 'Fall2018';"
   ]
  },
  {
   "cell_type": "code",
   "execution_count": 59,
   "metadata": {},
   "outputs": [
    {
     "name": "stdout",
     "output_type": "stream",
     "text": [
      " * sqlite:///CourseData.db\n",
      "Done.\n"
     ]
    },
    {
     "data": {
      "text/html": [
       "<table>\n",
       "    <tr>\n",
       "        <th>Teacher</th>\n",
       "        <th>Section</th>\n",
       "    </tr>\n",
       "    <tr>\n",
       "        <td>Sonya R.  Huber</td>\n",
       "        <td>5</td>\n",
       "    </tr>\n",
       "    <tr>\n",
       "        <td>Nancy A.  Moriber</td>\n",
       "        <td>4</td>\n",
       "    </tr>\n",
       "    <tr>\n",
       "        <td>Amalia I.  Rusu</td>\n",
       "        <td>3</td>\n",
       "    </tr>\n",
       "    <tr>\n",
       "        <td>Dorothea D.  Braginsky</td>\n",
       "        <td>3</td>\n",
       "    </tr>\n",
       "    <tr>\n",
       "        <td>James E.  Biardi</td>\n",
       "        <td>3</td>\n",
       "    </tr>\n",
       "    <tr>\n",
       "        <td>Jeffrey I.  Kramer</td>\n",
       "        <td>3</td>\n",
       "    </tr>\n",
       "    <tr>\n",
       "        <td>Lucrecia   Garcia Iommi</td>\n",
       "        <td>3</td>\n",
       "    </tr>\n",
       "    <tr>\n",
       "        <td>Mary Sallyanne   Ryan</td>\n",
       "        <td>3</td>\n",
       "    </tr>\n",
       "    <tr>\n",
       "        <td>Michael P.  Pagano</td>\n",
       "        <td>3</td>\n",
       "    </tr>\n",
       "    <tr>\n",
       "        <td>Michael Walden  Creane</td>\n",
       "        <td>3</td>\n",
       "    </tr>\n",
       "</table>"
      ],
      "text/plain": [
       "[('Sonya R.  Huber', 5),\n",
       " ('Nancy A.  Moriber', 4),\n",
       " ('Amalia I.  Rusu', 3),\n",
       " ('Dorothea D.  Braginsky', 3),\n",
       " ('James E.  Biardi', 3),\n",
       " ('Jeffrey I.  Kramer', 3),\n",
       " ('Lucrecia   Garcia Iommi', 3),\n",
       " ('Mary Sallyanne   Ryan', 3),\n",
       " ('Michael P.  Pagano', 3),\n",
       " ('Michael Walden  Creane', 3)]"
      ]
     },
     "execution_count": 59,
     "metadata": {},
     "output_type": "execute_result"
    }
   ],
   "source": [
    "%%sql\n",
    "SELECT DISTINCT (primary_instructor) AS Teacher, COUNT(section) AS Section\n",
    "FROM COURSE_OFFERING \n",
    "WHERE term = 'Fall2018' AND act > 10\n",
    "GROUP BY primary_instructor, section\n",
    "ORDER BY section DESC\n",
    "LIMIT 10;"
   ]
  },
  {
   "cell_type": "code",
   "execution_count": null,
   "metadata": {},
   "outputs": [],
   "source": [
    "Where does x teacher teach x class?"
   ]
  }
 ],
 "metadata": {
  "kernelspec": {
   "display_name": "Python 3",
   "language": "python",
   "name": "python3"
  },
  "language_info": {
   "codemirror_mode": {
    "name": "ipython",
    "version": 3
   },
   "file_extension": ".py",
   "mimetype": "text/x-python",
   "name": "python",
   "nbconvert_exporter": "python",
   "pygments_lexer": "ipython3",
   "version": "3.6.5"
  }
 },
 "nbformat": 4,
 "nbformat_minor": 2
}

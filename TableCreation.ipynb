{
 "cells": [
  {
   "cell_type": "markdown",
   "metadata": {},
   "source": [
    "**Building Tables for the DataBase**"
   ]
  },
  {
   "cell_type": "code",
   "execution_count": 1,
   "metadata": {},
   "outputs": [],
   "source": [
    "%load_ext sql"
   ]
  },
  {
   "cell_type": "code",
   "execution_count": 2,
   "metadata": {},
   "outputs": [
    {
     "name": "stdout",
     "output_type": "stream",
     "text": [
      "Done.\n",
      "Done.\n",
      "Done.\n",
      "Done.\n"
     ]
    },
    {
     "data": {
      "text/plain": [
       "[]"
      ]
     },
     "execution_count": 2,
     "metadata": {},
     "output_type": "execute_result"
    }
   ],
   "source": [
    "%%sql\n",
    "sqlite:///CourseData.db\n",
    "DROP TABLE IF EXISTS COURSE_OFFERING;\n",
    "DROP TABLE IF EXISTS CATALOG_DESC;\n",
    "DROP TABLE IF EXISTS INSTRUCTOR;\n",
    "DROP TABLE IF EXISTS COURSE_MEETING;"
   ]
  },
  {
   "cell_type": "code",
   "execution_count": 3,
   "metadata": {},
   "outputs": [
    {
     "name": "stdout",
     "output_type": "stream",
     "text": [
      " * sqlite:///CourseData.db\n",
      "Done.\n"
     ]
    },
    {
     "data": {
      "text/plain": [
       "[]"
      ]
     },
     "execution_count": 3,
     "metadata": {},
     "output_type": "execute_result"
    }
   ],
   "source": [
    "%%sql\n",
    "CREATE TABLE COURSE_OFFERING (\n",
    "    CRN INTEGER PRIMARY KEY,\n",
    "    catalog_id TEXT NOT NULL,\n",
    "    term_year TEXT NOT NULL,\n",
    "    section TEXT NOT NULL,\n",
    "    course_title TEXT NOT NULL,\n",
    "    credits TEXT NOT NULL,\n",
    "    cap INTEGER NOT NULL,\n",
    "    act INTEGER NOT NULL,\n",
    "    rem INTEGER NOT NULL,\n",
    "    year INTEGER NOT NULL, \n",
    "    meetings TEXT NOT NULL, \n",
    "    timecodes TEXT NOT NULL,\n",
    "    primary_instructor TEXT NOT NULL,\n",
    "    FOREIGN KEY (primary_instructor) REFERENCES INSTRUCTOR (instructor_id),\n",
    "    FOREIGN KEY (catalog_id) REFERENCES CATALOG_DESC (catalog_id),\n",
    "    FOREIGN KEY (term_year) REFERENCES CATALOG_DESC (term_year)\n",
    ");"
   ]
  },
  {
   "cell_type": "code",
   "execution_count": 4,
   "metadata": {},
   "outputs": [
    {
     "name": "stdout",
     "output_type": "stream",
     "text": [
      " * sqlite:///CourseData.db\n",
      "Done.\n"
     ]
    },
    {
     "data": {
      "text/plain": [
       "[]"
      ]
     },
     "execution_count": 4,
     "metadata": {},
     "output_type": "execute_result"
    }
   ],
   "source": [
    "%%sql\n",
    "CREATE TABLE CATALOG_DESC (\n",
    "    catalog_id TEXT PRIMARY KEY,\n",
    "    term_year TEXT NOT NULL,\n",
    "    program_code TEXT NOT NULL,\n",
    "    program_name TEXT NOT NULL,\n",
    "    course_title TEXT NOT NULL,\n",
    "    credits TEXT NOT NULL,\n",
    "    prereqs TEXT,\n",
    "    coreqs TEXT,\n",
    "    fees INTEGER,\n",
    "    attributes TEXT,\n",
    "    description TEXT\n",
    ");"
   ]
  },
  {
   "cell_type": "code",
   "execution_count": 5,
   "metadata": {},
   "outputs": [
    {
     "name": "stdout",
     "output_type": "stream",
     "text": [
      " * sqlite:///CourseData.db\n",
      "Done.\n"
     ]
    },
    {
     "data": {
      "text/plain": [
       "[]"
      ]
     },
     "execution_count": 5,
     "metadata": {},
     "output_type": "execute_result"
    }
   ],
   "source": [
    "%%sql\n",
    "CREATE TABLE INSTRUCTOR (\n",
    "    instructor_id INTEGER PRIMARY KEY,\n",
    "    name TEXT NOT NULL,\n",
    "    email TEXT NOT NULL,\n",
    "    phone_ext TEXT\n",
    ");"
   ]
  },
  {
   "cell_type": "code",
   "execution_count": 6,
   "metadata": {},
   "outputs": [
    {
     "name": "stdout",
     "output_type": "stream",
     "text": [
      " * sqlite:///CourseData.db\n",
      "Done.\n"
     ]
    },
    {
     "data": {
      "text/plain": [
       "[]"
      ]
     },
     "execution_count": 6,
     "metadata": {},
     "output_type": "execute_result"
    }
   ],
   "source": [
    "%%sql\n",
    "CREATE TABLE COURSE_MEETING (\n",
    "    meet_id INTEGER PRIMARY KEY,\n",
    "    CRN INTEGER NOT NULL,\n",
    "    term_year TEXT NOT NULL,\n",
    "    location TEXT, \n",
    "    day TEXT NOT NULL, \n",
    "    start TEXT NOT NULL,\n",
    "    end TEXT NOT NULL, \n",
    "    FOREIGN KEY (CRN) REFERENCES COURSE_OFFERING (CRN)\n",
    "    FOREIGN KEY (term_year) REFERENCES COURSE_OFFERING (term_year)\n",
    ");"
   ]
  },
  {
   "cell_type": "code",
   "execution_count": 7,
   "metadata": {},
   "outputs": [
    {
     "name": "stdout",
     "output_type": "stream",
     "text": [
      " * sqlite:///CourseData.db\n",
      "Done.\n"
     ]
    },
    {
     "data": {
      "text/html": [
       "<table>\n",
       "    <tr>\n",
       "        <th>term</th>\n",
       "        <th>crn</th>\n",
       "        <th>location</th>\n",
       "        <th>day</th>\n",
       "        <th>start</th>\n",
       "        <th>end</th>\n",
       "    </tr>\n",
       "    <tr>\n",
       "        <td>Fall2014</td>\n",
       "        <td>70384</td>\n",
       "        <td>DSB 105</td>\n",
       "        <td>T</td>\n",
       "        <td>2014-09-02T08:00:00</td>\n",
       "        <td>2014-09-02T09:15:00</td>\n",
       "    </tr>\n",
       "    <tr>\n",
       "        <td>Fall2014</td>\n",
       "        <td>70384</td>\n",
       "        <td>DSB 105</td>\n",
       "        <td>F</td>\n",
       "        <td>2014-09-05T08:00:00</td>\n",
       "        <td>2014-09-05T09:15:00</td>\n",
       "    </tr>\n",
       "    <tr>\n",
       "        <td>Fall2014</td>\n",
       "        <td>70384</td>\n",
       "        <td>DSB 105</td>\n",
       "        <td>T</td>\n",
       "        <td>2014-09-09T08:00:00</td>\n",
       "        <td>2014-09-09T09:15:00</td>\n",
       "    </tr>\n",
       "    <tr>\n",
       "        <td>Fall2014</td>\n",
       "        <td>70384</td>\n",
       "        <td>DSB 105</td>\n",
       "        <td>F</td>\n",
       "        <td>2014-09-12T08:00:00</td>\n",
       "        <td>2014-09-12T09:15:00</td>\n",
       "    </tr>\n",
       "    <tr>\n",
       "        <td>Fall2014</td>\n",
       "        <td>70384</td>\n",
       "        <td>DSB 105</td>\n",
       "        <td>T</td>\n",
       "        <td>2014-09-16T08:00:00</td>\n",
       "        <td>2014-09-16T09:15:00</td>\n",
       "    </tr>\n",
       "    <tr>\n",
       "        <td>Fall2014</td>\n",
       "        <td>70384</td>\n",
       "        <td>DSB 105</td>\n",
       "        <td>F</td>\n",
       "        <td>2014-09-19T08:00:00</td>\n",
       "        <td>2014-09-19T09:15:00</td>\n",
       "    </tr>\n",
       "    <tr>\n",
       "        <td>Fall2014</td>\n",
       "        <td>70384</td>\n",
       "        <td>DSB 105</td>\n",
       "        <td>T</td>\n",
       "        <td>2014-09-23T08:00:00</td>\n",
       "        <td>2014-09-23T09:15:00</td>\n",
       "    </tr>\n",
       "    <tr>\n",
       "        <td>Fall2014</td>\n",
       "        <td>70384</td>\n",
       "        <td>DSB 105</td>\n",
       "        <td>F</td>\n",
       "        <td>2014-09-26T08:00:00</td>\n",
       "        <td>2014-09-26T09:15:00</td>\n",
       "    </tr>\n",
       "    <tr>\n",
       "        <td>Fall2014</td>\n",
       "        <td>70384</td>\n",
       "        <td>DSB 105</td>\n",
       "        <td>T</td>\n",
       "        <td>2014-09-30T08:00:00</td>\n",
       "        <td>2014-09-30T09:15:00</td>\n",
       "    </tr>\n",
       "    <tr>\n",
       "        <td>Fall2014</td>\n",
       "        <td>70384</td>\n",
       "        <td>DSB 105</td>\n",
       "        <td>F</td>\n",
       "        <td>2014-10-03T08:00:00</td>\n",
       "        <td>2014-10-03T09:15:00</td>\n",
       "    </tr>\n",
       "</table>"
      ],
      "text/plain": [
       "[('Fall2014', '70384', 'DSB 105', 'T', '2014-09-02T08:00:00', '2014-09-02T09:15:00'),\n",
       " ('Fall2014', '70384', 'DSB 105', 'F', '2014-09-05T08:00:00', '2014-09-05T09:15:00'),\n",
       " ('Fall2014', '70384', 'DSB 105', 'T', '2014-09-09T08:00:00', '2014-09-09T09:15:00'),\n",
       " ('Fall2014', '70384', 'DSB 105', 'F', '2014-09-12T08:00:00', '2014-09-12T09:15:00'),\n",
       " ('Fall2014', '70384', 'DSB 105', 'T', '2014-09-16T08:00:00', '2014-09-16T09:15:00'),\n",
       " ('Fall2014', '70384', 'DSB 105', 'F', '2014-09-19T08:00:00', '2014-09-19T09:15:00'),\n",
       " ('Fall2014', '70384', 'DSB 105', 'T', '2014-09-23T08:00:00', '2014-09-23T09:15:00'),\n",
       " ('Fall2014', '70384', 'DSB 105', 'F', '2014-09-26T08:00:00', '2014-09-26T09:15:00'),\n",
       " ('Fall2014', '70384', 'DSB 105', 'T', '2014-09-30T08:00:00', '2014-09-30T09:15:00'),\n",
       " ('Fall2014', '70384', 'DSB 105', 'F', '2014-10-03T08:00:00', '2014-10-03T09:15:00')]"
      ]
     },
     "execution_count": 7,
     "metadata": {},
     "output_type": "execute_result"
    }
   ],
   "source": [
    "%%sql\n",
    "SELECT *\n",
    "FROM import_course_meetings\n",
    "LIMIT 10;"
   ]
  },
  {
   "cell_type": "code",
   "execution_count": 8,
   "metadata": {},
   "outputs": [
    {
     "name": "stdout",
     "output_type": "stream",
     "text": [
      " * sqlite:///CourseData.db\n",
      "Done.\n"
     ]
    },
    {
     "data": {
      "text/html": [
       "<table>\n",
       "    <tr>\n",
       "        <th>term</th>\n",
       "        <th>crn</th>\n",
       "        <th>catalog_id</th>\n",
       "        <th>section</th>\n",
       "        <th>credits</th>\n",
       "        <th>title</th>\n",
       "        <th>meetings</th>\n",
       "        <th>timecodes</th>\n",
       "        <th>primary_instructor</th>\n",
       "        <th>cap</th>\n",
       "        <th>act</th>\n",
       "        <th>rem</th>\n",
       "    </tr>\n",
       "    <tr>\n",
       "        <td>Fall2014</td>\n",
       "        <td>70384</td>\n",
       "        <td>AC 0011</td>\n",
       "        <td>C01</td>\n",
       "        <td>3.000</td>\n",
       "        <td>Introduction to Financial Accounting</td>\n",
       "        <td>[{&#x27;days&#x27;: &#x27;TF&#x27;, &#x27;times&#x27;: &#x27;0800am-0915am&#x27;, &#x27;dates&#x27;: &#x27;09/02-12/08&#x27;, &#x27;location&#x27;: &#x27;DSB 105&#x27;}]</td>\n",
       "        <td>[&#x27;TF 0800am-0915am 09/02-12/08 DSB 105&#x27;]</td>\n",
       "        <td>Michael P.  Coyne</td>\n",
       "        <td>0</td>\n",
       "        <td>31</td>\n",
       "        <td>-31</td>\n",
       "    </tr>\n",
       "    <tr>\n",
       "        <td>Fall2014</td>\n",
       "        <td>70385</td>\n",
       "        <td>AC 0011</td>\n",
       "        <td>C02</td>\n",
       "        <td>3.000</td>\n",
       "        <td>Introduction to Financial Accounting</td>\n",
       "        <td>[{&#x27;days&#x27;: &#x27;TF&#x27;, &#x27;times&#x27;: &#x27;0930am-1045am&#x27;, &#x27;dates&#x27;: &#x27;09/02-12/08&#x27;, &#x27;location&#x27;: &#x27;DSB 105&#x27;}]</td>\n",
       "        <td>[&#x27;TF 0930am-1045am 09/02-12/08 DSB 105&#x27;]</td>\n",
       "        <td>Michael P.  Coyne</td>\n",
       "        <td>0</td>\n",
       "        <td>31</td>\n",
       "        <td>-31</td>\n",
       "    </tr>\n",
       "    <tr>\n",
       "        <td>Fall2014</td>\n",
       "        <td>70382</td>\n",
       "        <td>AC 0011</td>\n",
       "        <td>C03</td>\n",
       "        <td>3.000</td>\n",
       "        <td>Introduction to Financial Accounting</td>\n",
       "        <td>[{&#x27;days&#x27;: &#x27;TF&#x27;, &#x27;times&#x27;: &#x27;1230pm-0145pm&#x27;, &#x27;dates&#x27;: &#x27;09/02-12/08&#x27;, &#x27;location&#x27;: &#x27;DSB 105&#x27;}]</td>\n",
       "        <td>[&#x27;TF 1230pm-0145pm 09/02-12/08 DSB 105&#x27;]</td>\n",
       "        <td>Michael P.  Coyne</td>\n",
       "        <td>0</td>\n",
       "        <td>31</td>\n",
       "        <td>-31</td>\n",
       "    </tr>\n",
       "    <tr>\n",
       "        <td>Fall2014</td>\n",
       "        <td>70291</td>\n",
       "        <td>AC 0011</td>\n",
       "        <td>C04</td>\n",
       "        <td>3.000</td>\n",
       "        <td>Introduction to Financial Accounting</td>\n",
       "        <td>[{&#x27;days&#x27;: &#x27;MR&#x27;, &#x27;times&#x27;: &#x27;1100am-1215pm&#x27;, &#x27;dates&#x27;: &#x27;09/02-12/08&#x27;, &#x27;location&#x27;: &#x27;DSB 111&#x27;}]</td>\n",
       "        <td>[&#x27;MR 1100am-1215pm 09/02-12/08 DSB 111&#x27;]</td>\n",
       "        <td>Rebecca I.  Bloch</td>\n",
       "        <td>0</td>\n",
       "        <td>29</td>\n",
       "        <td>-29</td>\n",
       "    </tr>\n",
       "    <tr>\n",
       "        <td>Fall2014</td>\n",
       "        <td>70350</td>\n",
       "        <td>AC 0011</td>\n",
       "        <td>C05</td>\n",
       "        <td>3.000</td>\n",
       "        <td>Introduction to Financial Accounting</td>\n",
       "        <td>[{&#x27;days&#x27;: &#x27;MR&#x27;, &#x27;times&#x27;: &#x27;1230pm-0145pm&#x27;, &#x27;dates&#x27;: &#x27;09/02-12/08&#x27;, &#x27;location&#x27;: &#x27;DSB 111&#x27;}]</td>\n",
       "        <td>[&#x27;MR 1230pm-0145pm 09/02-12/08 DSB 111&#x27;]</td>\n",
       "        <td>Rebecca I.  Bloch</td>\n",
       "        <td>0</td>\n",
       "        <td>30</td>\n",
       "        <td>-30</td>\n",
       "    </tr>\n",
       "    <tr>\n",
       "        <td>Fall2014</td>\n",
       "        <td>70381</td>\n",
       "        <td>AC 0011</td>\n",
       "        <td>C06</td>\n",
       "        <td>3.000</td>\n",
       "        <td>Introduction to Financial Accounting</td>\n",
       "        <td>[{&#x27;days&#x27;: &#x27;MR&#x27;, &#x27;times&#x27;: &#x27;0330pm-0445pm&#x27;, &#x27;dates&#x27;: &#x27;09/02-12/08&#x27;, &#x27;location&#x27;: &#x27;DSB 110A&#x27;}]</td>\n",
       "        <td>[&#x27;MR 0330pm-0445pm 09/02-12/08 DSB 110A&#x27;]</td>\n",
       "        <td>Rebecca I.  Bloch</td>\n",
       "        <td>0</td>\n",
       "        <td>31</td>\n",
       "        <td>-31</td>\n",
       "    </tr>\n",
       "    <tr>\n",
       "        <td>Fall2014</td>\n",
       "        <td>70383</td>\n",
       "        <td>AC 0011</td>\n",
       "        <td>G</td>\n",
       "        <td>3.000</td>\n",
       "        <td>Introduction to Financial Accounting</td>\n",
       "        <td>[{&#x27;days&#x27;: &#x27;MR&#x27;, &#x27;times&#x27;: &#x27;0930am-1045am&#x27;, &#x27;dates&#x27;: &#x27;09/02-12/08&#x27;, &#x27;location&#x27;: &#x27;DSB 111&#x27;}]</td>\n",
       "        <td>[&#x27;MR 0930am-1045am 09/02-12/08 DSB 111&#x27;]</td>\n",
       "        <td>Paul   Caster</td>\n",
       "        <td>30</td>\n",
       "        <td>31</td>\n",
       "        <td>-1</td>\n",
       "    </tr>\n",
       "    <tr>\n",
       "        <td>Fall2014</td>\n",
       "        <td>70391</td>\n",
       "        <td>AC 0011</td>\n",
       "        <td>H</td>\n",
       "        <td>3.000</td>\n",
       "        <td>Introduction to Financial Accounting</td>\n",
       "        <td>[{&#x27;days&#x27;: &#x27;TF&#x27;, &#x27;times&#x27;: &#x27;0930am-1045am&#x27;, &#x27;dates&#x27;: &#x27;09/02-12/08&#x27;, &#x27;location&#x27;: &#x27;DSB 110A&#x27;}]</td>\n",
       "        <td>[&#x27;TF 0930am-1045am 09/02-12/08 DSB 110A&#x27;]</td>\n",
       "        <td>Jo Ann   Drusbosky</td>\n",
       "        <td>30</td>\n",
       "        <td>32</td>\n",
       "        <td>-2</td>\n",
       "    </tr>\n",
       "    <tr>\n",
       "        <td>Fall2014</td>\n",
       "        <td>71105</td>\n",
       "        <td>AC 0011</td>\n",
       "        <td>I</td>\n",
       "        <td>3.000</td>\n",
       "        <td>Introduction to Financial Accounting</td>\n",
       "        <td>[{&#x27;days&#x27;: &#x27;TF&#x27;, &#x27;times&#x27;: &#x27;1100am-1215pm&#x27;, &#x27;dates&#x27;: &#x27;09/02-12/08&#x27;, &#x27;location&#x27;: &#x27;DSB 110A&#x27;}]</td>\n",
       "        <td>[&#x27;TF 1100am-1215pm 09/02-12/08 DSB 110A&#x27;]</td>\n",
       "        <td>Jo Ann   Drusbosky</td>\n",
       "        <td>30</td>\n",
       "        <td>33</td>\n",
       "        <td>-3</td>\n",
       "    </tr>\n",
       "    <tr>\n",
       "        <td>Fall2014</td>\n",
       "        <td>71123</td>\n",
       "        <td>AC 0011</td>\n",
       "        <td>J</td>\n",
       "        <td>3.000</td>\n",
       "        <td>Introduction to Financial Accounting</td>\n",
       "        <td>[{&#x27;days&#x27;: &#x27;TF&#x27;, &#x27;times&#x27;: &#x27;0200pm-0315pm&#x27;, &#x27;dates&#x27;: &#x27;09/02-12/08&#x27;, &#x27;location&#x27;: &#x27;DSB 105&#x27;}]</td>\n",
       "        <td>[&#x27;TF 0200pm-0315pm 09/02-12/08 DSB 105&#x27;]</td>\n",
       "        <td>Jo Ann   Drusbosky</td>\n",
       "        <td>30</td>\n",
       "        <td>32</td>\n",
       "        <td>-2</td>\n",
       "    </tr>\n",
       "</table>"
      ],
      "text/plain": [
       "[('Fall2014', '70384', 'AC 0011', 'C01', '3.000', 'Introduction to Financial Accounting', \"[{'days': 'TF', 'times': '0800am-0915am', 'dates': '09/02-12/08', 'location': 'DSB 105'}]\", \"['TF 0800am-0915am 09/02-12/08 DSB 105']\", 'Michael P.  Coyne', '0', '31', '-31'),\n",
       " ('Fall2014', '70385', 'AC 0011', 'C02', '3.000', 'Introduction to Financial Accounting', \"[{'days': 'TF', 'times': '0930am-1045am', 'dates': '09/02-12/08', 'location': 'DSB 105'}]\", \"['TF 0930am-1045am 09/02-12/08 DSB 105']\", 'Michael P.  Coyne', '0', '31', '-31'),\n",
       " ('Fall2014', '70382', 'AC 0011', 'C03', '3.000', 'Introduction to Financial Accounting', \"[{'days': 'TF', 'times': '1230pm-0145pm', 'dates': '09/02-12/08', 'location': 'DSB 105'}]\", \"['TF 1230pm-0145pm 09/02-12/08 DSB 105']\", 'Michael P.  Coyne', '0', '31', '-31'),\n",
       " ('Fall2014', '70291', 'AC 0011', 'C04', '3.000', 'Introduction to Financial Accounting', \"[{'days': 'MR', 'times': '1100am-1215pm', 'dates': '09/02-12/08', 'location': 'DSB 111'}]\", \"['MR 1100am-1215pm 09/02-12/08 DSB 111']\", 'Rebecca I.  Bloch', '0', '29', '-29'),\n",
       " ('Fall2014', '70350', 'AC 0011', 'C05', '3.000', 'Introduction to Financial Accounting', \"[{'days': 'MR', 'times': '1230pm-0145pm', 'dates': '09/02-12/08', 'location': 'DSB 111'}]\", \"['MR 1230pm-0145pm 09/02-12/08 DSB 111']\", 'Rebecca I.  Bloch', '0', '30', '-30'),\n",
       " ('Fall2014', '70381', 'AC 0011', 'C06', '3.000', 'Introduction to Financial Accounting', \"[{'days': 'MR', 'times': '0330pm-0445pm', 'dates': '09/02-12/08', 'location': 'DSB 110A'}]\", \"['MR 0330pm-0445pm 09/02-12/08 DSB 110A']\", 'Rebecca I.  Bloch', '0', '31', '-31'),\n",
       " ('Fall2014', '70383', 'AC 0011', 'G', '3.000', 'Introduction to Financial Accounting', \"[{'days': 'MR', 'times': '0930am-1045am', 'dates': '09/02-12/08', 'location': 'DSB 111'}]\", \"['MR 0930am-1045am 09/02-12/08 DSB 111']\", 'Paul   Caster', '30', '31', '-1'),\n",
       " ('Fall2014', '70391', 'AC 0011', 'H', '3.000', 'Introduction to Financial Accounting', \"[{'days': 'TF', 'times': '0930am-1045am', 'dates': '09/02-12/08', 'location': 'DSB 110A'}]\", \"['TF 0930am-1045am 09/02-12/08 DSB 110A']\", 'Jo Ann   Drusbosky', '30', '32', '-2'),\n",
       " ('Fall2014', '71105', 'AC 0011', 'I', '3.000', 'Introduction to Financial Accounting', \"[{'days': 'TF', 'times': '1100am-1215pm', 'dates': '09/02-12/08', 'location': 'DSB 110A'}]\", \"['TF 1100am-1215pm 09/02-12/08 DSB 110A']\", 'Jo Ann   Drusbosky', '30', '33', '-3'),\n",
       " ('Fall2014', '71123', 'AC 0011', 'J', '3.000', 'Introduction to Financial Accounting', \"[{'days': 'TF', 'times': '0200pm-0315pm', 'dates': '09/02-12/08', 'location': 'DSB 105'}]\", \"['TF 0200pm-0315pm 09/02-12/08 DSB 105']\", 'Jo Ann   Drusbosky', '30', '32', '-2')]"
      ]
     },
     "execution_count": 8,
     "metadata": {},
     "output_type": "execute_result"
    }
   ],
   "source": [
    "%%sql\n",
    "SELECT *\n",
    "FROM import_courses\n",
    "LIMIT 10;"
   ]
  },
  {
   "cell_type": "code",
   "execution_count": 9,
   "metadata": {},
   "outputs": [
    {
     "name": "stdout",
     "output_type": "stream",
     "text": [
      " * sqlite:///CourseData.db\n",
      "Done.\n"
     ]
    },
    {
     "data": {
      "text/html": [
       "<table>\n",
       "    <tr>\n",
       "        <th>program_code</th>\n",
       "        <th>program_name</th>\n",
       "        <th>catalog_id</th>\n",
       "        <th>course_title</th>\n",
       "        <th>credits</th>\n",
       "        <th>prereqs</th>\n",
       "        <th>coreqs</th>\n",
       "        <th>fees</th>\n",
       "        <th>attributes</th>\n",
       "        <th>description</th>\n",
       "    </tr>\n",
       "    <tr>\n",
       "        <td>AN</td>\n",
       "        <td>Asian Studies</td>\n",
       "        <td>AN 0301</td>\n",
       "        <td>Independent Study</td>\n",
       "        <td>1-3 Credits</td>\n",
       "        <td></td>\n",
       "        <td></td>\n",
       "        <td></td>\n",
       "        <td></td>\n",
       "        <td>Students undertake an individualized program of study in consultation with a director from the Asian studies faculty.</td>\n",
       "    </tr>\n",
       "    <tr>\n",
       "        <td>AN</td>\n",
       "        <td>Asian Studies</td>\n",
       "        <td>AN 0310</td>\n",
       "        <td>Asian Studies Seminar</td>\n",
       "        <td>3 Credits</td>\n",
       "        <td></td>\n",
       "        <td></td>\n",
       "        <td></td>\n",
       "        <td></td>\n",
       "        <td>This seminar examines selected topics concerning Asia. This course is taught in conjunction with another 100-300 level course from a rotation of course offerings. Consult the Asian Studies director to identify the conjoined course for a given semester. The seminar concentrates on topics within the parameters of the conjoined course syllabus but adds research emphasis. Students registered for this course must complete a research project, to include 300-level research, in addition to the regular research requirements of the conjoined course, and a 25-50 page term paper in substitution of some portion of the conjoined course requirements, as determined by the instructor. Open to juniors and seniors only.</td>\n",
       "    </tr>\n",
       "    <tr>\n",
       "        <td>BU</td>\n",
       "        <td>Business</td>\n",
       "        <td>BU 0211</td>\n",
       "        <td>Legal Environment of Business</td>\n",
       "        <td>3 Credits</td>\n",
       "        <td>Junior standing.</td>\n",
       "        <td></td>\n",
       "        <td></td>\n",
       "        <td></td>\n",
       "        <td>This course examines the broad philosophical as well as practical nature and function of the legal system, and introduces students to the legal and social responsibilities of business. The course includes an introduction to the legal system, the federal courts, Constitutional law, the United States Supreme Court, the civil process, and regulatory areas such as employment discrimination, protection of the environment, and corporate governance and securities markets.</td>\n",
       "    </tr>\n",
       "    <tr>\n",
       "        <td>BU</td>\n",
       "        <td>Business</td>\n",
       "        <td>BU 0220</td>\n",
       "        <td>Environmental Law and Policy</td>\n",
       "        <td>3 Credits</td>\n",
       "        <td></td>\n",
       "        <td></td>\n",
       "        <td></td>\n",
       "        <td>EVME Environmental Studies Major Elective, EVPE Environmental Studies Elective, EVSS Environmental Studies: Social Science, MGEL Management: General Elective</td>\n",
       "        <td>This course surveys issues arising out of federal laws designed to protect the environment and manage resources. It considers in detail the role of the Environmental Protection Agency in the enforcement of environmental policies arising out of such laws as the National Environmental Policy Act, the Clean Water Act, and the Clear Air Act, among others. The course also considers the impact of Congress, political parties, bureaucracy, and interest groups in shaping environmental policy, giving special attention to the impact of environmental regulation on business and private property rights.</td>\n",
       "    </tr>\n",
       "    <tr>\n",
       "        <td>BU</td>\n",
       "        <td>Business</td>\n",
       "        <td>BU 0311</td>\n",
       "        <td>The Law of Contracts, Sales, and Property</td>\n",
       "        <td>3 Credits</td>\n",
       "        <td>BU 0211.</td>\n",
       "        <td></td>\n",
       "        <td></td>\n",
       "        <td></td>\n",
       "        <td>This course examines the components of common law contracts including the concepts of offer and acceptance, consideration, capacity and legality, assignment of rights and delegation of duties, as well as discharge of contracts. The course covers Articles 2 and 2A of the Uniform Commercial Code relating to leases, sales of goods, and warranties. The course also considers personal and real property, and bailments.</td>\n",
       "    </tr>\n",
       "    <tr>\n",
       "        <td>BU</td>\n",
       "        <td>Business</td>\n",
       "        <td>BU 0312</td>\n",
       "        <td>The Law of Business Organizations and Financial Transactions</td>\n",
       "        <td>3 Credits</td>\n",
       "        <td>BU 0211.</td>\n",
       "        <td></td>\n",
       "        <td></td>\n",
       "        <td></td>\n",
       "        <td>This course offers an analysis of legal principles related to the law of agency, sole proprietorships, partnerships, corporations, limited liability companies, and other business forms. The second half of the course addresses several sections of the Uniform Commercial Code, such as negotiable instruments, bank collections and deposits and secured transactions. Finally, the course examines the law of suretyship, debtor-creditor relationships, and bankruptcy.</td>\n",
       "    </tr>\n",
       "    <tr>\n",
       "        <td>BU</td>\n",
       "        <td>Business</td>\n",
       "        <td>BU 0320</td>\n",
       "        <td>Employment Law and Discrimination in the Workplace</td>\n",
       "        <td>3 Credits</td>\n",
       "        <td></td>\n",
       "        <td></td>\n",
       "        <td></td>\n",
       "        <td>MGEL Management: General Elective, UDIV U.S. Diversity</td>\n",
       "        <td>This course examines a variety of legal issues related to the workplace including the doctrine of employment at will, employee privacy, and the history and development of labor unions and the legal protections afforded by the National Labor Relations Act. A study of the role of the Civil Rights Act of 1964 and the Equal Employment Opportunity Commission in eradicating discrimination based on race, sex, religion, national origin, age, and disability occupies a major portion of the course. Other employment issues include affirmative action, worker safety, and compensation.</td>\n",
       "    </tr>\n",
       "    <tr>\n",
       "        <td>BU</td>\n",
       "        <td>Business</td>\n",
       "        <td>BU 0391</td>\n",
       "        <td>Seminar in Business Law and Ethics</td>\n",
       "        <td>3 Credits</td>\n",
       "        <td>AE 0291, BU 0211, two additional courses in law or applied ethics.</td>\n",
       "        <td></td>\n",
       "        <td></td>\n",
       "        <td></td>\n",
       "        <td>This interdisciplinary study of these two aspects of the business environment is cross-listed as</td>\n",
       "    </tr>\n",
       "    <tr>\n",
       "        <td>BL</td>\n",
       "        <td>Black Studies</td>\n",
       "        <td>BL 0101</td>\n",
       "        <td>Black Lives Matter</td>\n",
       "        <td>3 Credits</td>\n",
       "        <td></td>\n",
       "        <td></td>\n",
       "        <td></td>\n",
       "        <td>ASGW American Studies: Gateway, BSFC Black Studies Focus Course, BSSS Black Studies: Social and Behavioral Sciences, PJST Peace and Justice Studies, UDIV U.S. Diversity</td>\n",
       "        <td>In the context of Ferguson, Charleston, and other national crises, this course responds to the call of students from our campus community to raise questions about and critically reflect upon the failures of democracy to recognize the value of Black Life. This course employs collective thinking, teaching, and research to focus on questions surrounding race, structural inequality, and violence. It examines the historical, geographical, cultural, social, and political ways in which race has been configured and deployed in the United States. Various faculty will bring to bear their respective scholarly lenses so that students understand race and racism across intellectual disciplines.</td>\n",
       "    </tr>\n",
       "    <tr>\n",
       "        <td>BL</td>\n",
       "        <td>Black Studies</td>\n",
       "        <td>BL 0398</td>\n",
       "        <td>Independent Study</td>\n",
       "        <td>1-3 Credits</td>\n",
       "        <td></td>\n",
       "        <td></td>\n",
       "        <td></td>\n",
       "        <td>BSCP Black Studies Capstone Course</td>\n",
       "        <td>Upon request and by agreement with a professor in the program, a Black Studies minor may conduct a one-semester independent study on a defined research topic or field of study.</td>\n",
       "    </tr>\n",
       "</table>"
      ],
      "text/plain": [
       "[('AN', 'Asian Studies', 'AN 0301', 'Independent Study', '1-3 Credits', '', '', '', '', 'Students undertake an individualized program of study in consultation with a director from the Asian studies faculty.'),\n",
       " ('AN', 'Asian Studies', 'AN 0310', 'Asian Studies Seminar', '3 Credits', '', '', '', '', 'This seminar examines selected topics concerning Asia. This course is taught in conjunction with another 100-300 level course from a rotation of cour ... (412 characters truncated) ... e term paper in substitution of some portion of the conjoined course requirements, as determined by the instructor. Open to juniors and seniors only.'),\n",
       " ('BU', 'Business', 'BU 0211', 'Legal Environment of Business', '3 Credits', 'Junior standing.', '', '', '', 'This course examines the broad philosophical as well as practical nature and function of the legal system, and introduces students to the legal and s ... (171 characters truncated) ... ivil process, and regulatory areas such as employment discrimination, protection of the environment, and corporate governance and securities markets.'),\n",
       " ('BU', 'Business', 'BU 0220', 'Environmental Law and Policy', '3 Credits', '', '', '', 'EVME Environmental Studies Major Elective, EVPE Environmental Studies Elective, EVSS Environmental Studies: Social Science, MGEL Management: General Elective', 'This course surveys issues arising out of federal laws designed to protect the environment and manage resources. It considers in detail the role of t ... (298 characters truncated) ... t groups in shaping environmental policy, giving special attention to the impact of environmental regulation on business and private property rights.'),\n",
       " ('BU', 'Business', 'BU 0311', 'The Law of Contracts, Sales, and Property', '3 Credits', 'BU 0211.', '', '', '', 'This course examines the components of common law contracts including the concepts of offer and acceptance, consideration, capacity and legality, ass ... (117 characters truncated) ...  the Uniform Commercial Code relating to leases, sales of goods, and warranties. The course also considers personal and real property, and bailments.'),\n",
       " ('BU', 'Business', 'BU 0312', 'The Law of Business Organizations and Financial Transactions', '3 Credits', 'BU 0211.', '', '', '', 'This course offers an analysis of legal principles related to the law of agency, sole proprietorships, partnerships, corporations, limited liability  ... (163 characters truncated) ... collections and deposits and secured transactions. Finally, the course examines the law of suretyship, debtor-creditor relationships, and bankruptcy.'),\n",
       " ('BU', 'Business', 'BU 0320', 'Employment Law and Discrimination in the Workplace', '3 Credits', '', '', '', 'MGEL Management: General Elective, UDIV U.S. Diversity', 'This course examines a variety of legal issues related to the workplace including the doctrine of employment at will, employee privacy, and the histo ... (279 characters truncated) ... gin, age, and disability occupies a major portion of the course. Other employment issues include affirmative action, worker safety, and compensation.'),\n",
       " ('BU', 'Business', 'BU 0391', 'Seminar in Business Law and Ethics', '3 Credits', 'AE 0291, BU 0211, two additional courses in law or applied ethics.', '', '', '', 'This interdisciplinary study of these two aspects of the business environment is cross-listed as'),\n",
       " ('BL', 'Black Studies', 'BL 0101', 'Black Lives Matter', '3 Credits', '', '', '', 'ASGW American Studies: Gateway, BSFC Black Studies Focus Course, BSSS Black Studies: Social and Behavioral Sciences, PJST Peace and Justice Studies, UDIV U.S. Diversity', 'In the context of Ferguson, Charleston, and other national crises, this course responds to the call of students from our campus community to raise qu ... (391 characters truncated) ... es. Various faculty will bring to bear their respective scholarly lenses so that students understand race and racism across intellectual disciplines.'),\n",
       " ('BL', 'Black Studies', 'BL 0398', 'Independent Study', '1-3 Credits', '', '', '', 'BSCP Black Studies Capstone Course', 'Upon request and by agreement with a professor in the program, a Black Studies minor may conduct a one-semester independent study on a defined research topic or field of study.')]"
      ]
     },
     "execution_count": 9,
     "metadata": {},
     "output_type": "execute_result"
    }
   ],
   "source": [
    "%%sql\n",
    "SELECT *\n",
    "FROM import_catalogs\n",
    "LIMIT 10;"
   ]
  },
  {
   "cell_type": "code",
   "execution_count": null,
   "metadata": {},
   "outputs": [],
   "source": []
  }
 ],
 "metadata": {
  "kernelspec": {
   "display_name": "Python 3",
   "language": "python",
   "name": "python3"
  },
  "language_info": {
   "codemirror_mode": {
    "name": "ipython",
    "version": 3
   },
   "file_extension": ".py",
   "mimetype": "text/x-python",
   "name": "python",
   "nbconvert_exporter": "python",
   "pygments_lexer": "ipython3",
   "version": "3.6.5"
  }
 },
 "nbformat": 4,
 "nbformat_minor": 2
}

{
 "cells": [
  {
   "cell_type": "markdown",
   "metadata": {},
   "source": [
    "**Data Warehouse**"
   ]
  },
  {
   "cell_type": "code",
   "execution_count": 58,
   "metadata": {},
   "outputs": [
    {
     "name": "stdout",
     "output_type": "stream",
     "text": [
      "The sql extension is already loaded. To reload it, use:\n",
      "  %reload_ext sql\n"
     ]
    }
   ],
   "source": [
    "%load_ext sql"
   ]
  },
  {
   "cell_type": "code",
   "execution_count": 59,
   "metadata": {},
   "outputs": [
    {
     "data": {
      "text/plain": [
       "'Connected: @../FP/CourseDataWarehouse.db'"
      ]
     },
     "execution_count": 59,
     "metadata": {},
     "output_type": "execute_result"
    }
   ],
   "source": [
    "%%sql\n",
    "sqlite:///../FP/CourseDataWarehouse.db"
   ]
  },
  {
   "cell_type": "code",
   "execution_count": 60,
   "metadata": {},
   "outputs": [
    {
     "name": "stdout",
     "output_type": "stream",
     "text": [
      " * sqlite:///../FP/CourseDataWarehouse.db\n",
      "Done.\n"
     ]
    },
    {
     "data": {
      "text/html": [
       "<table>\n",
       "    <tr>\n",
       "        <th>instructor_id</th>\n",
       "        <th>primary_instructor</th>\n",
       "        <th>classes_taught</th>\n",
       "        <th>distinct_preps</th>\n",
       "        <th>program_name</th>\n",
       "    </tr>\n",
       "    <tr>\n",
       "        <td>420</td>\n",
       "        <td>Nancy A.  Moriber</td>\n",
       "        <td>15</td>\n",
       "        <td>14</td>\n",
       "        <td>Nursing</td>\n",
       "    </tr>\n",
       "    <tr>\n",
       "        <td>52</td>\n",
       "        <td>Anthony J.  DeCristofaro</td>\n",
       "        <td>11</td>\n",
       "        <td>4</td>\n",
       "        <td>Biology</td>\n",
       "    </tr>\n",
       "</table>"
      ],
      "text/plain": [
       "[('420', 'Nancy A.  Moriber', '15', '14', 'Nursing'),\n",
       " ('52', 'Anthony J.  DeCristofaro', '11', '4', 'Biology')]"
      ]
     },
     "execution_count": 60,
     "metadata": {},
     "output_type": "execute_result"
    }
   ],
   "source": [
    "%%sql\n",
    "SELECT * FROM import_teacher_info LIMIT 2;"
   ]
  },
  {
   "cell_type": "code",
   "execution_count": 61,
   "metadata": {},
   "outputs": [
    {
     "name": "stdout",
     "output_type": "stream",
     "text": [
      " * sqlite:///../FP/CourseDataWarehouse.db\n",
      "Done.\n",
      "Done.\n",
      "Done.\n",
      "Done.\n",
      "Done.\n"
     ]
    },
    {
     "data": {
      "text/plain": [
       "[]"
      ]
     },
     "execution_count": 61,
     "metadata": {},
     "output_type": "execute_result"
    }
   ],
   "source": [
    "%%sql\n",
    "\n",
    "/* Dropping tables if they already exist */\n",
    "\n",
    "DROP TABLE IF EXISTS DW_INSTRUCTOR;\n",
    "DROP TABLE IF EXISTS DW_COURSE_OFFERING;\n",
    "DROP TABLE IF EXISTS DW_COURSES;\n",
    "DROP TABLE IF EXISTS DW_CATALOG_DESC;\n",
    "DROP TABLE IF EXISTS DW_COURSE_MEETING;"
   ]
  },
  {
   "cell_type": "markdown",
   "metadata": {},
   "source": [
    "**DML: Creating the Tables**"
   ]
  },
  {
   "cell_type": "code",
   "execution_count": 62,
   "metadata": {},
   "outputs": [
    {
     "name": "stdout",
     "output_type": "stream",
     "text": [
      " * sqlite:///../FP/CourseDataWarehouse.db\n",
      "Done.\n",
      "Done.\n",
      "Done.\n",
      "Done.\n",
      "Done.\n"
     ]
    },
    {
     "data": {
      "text/plain": [
       "[]"
      ]
     },
     "execution_count": 62,
     "metadata": {},
     "output_type": "execute_result"
    }
   ],
   "source": [
    "%%sql\n",
    "\n",
    "/* Creating table DW_INSTRUCTOR based off of the ERD */\n",
    "\n",
    "CREATE TABLE DW_INSTRUCTOR (\n",
    "    instructor_id INTEGER PRIMARY KEY,\n",
    "    primary_instructor TEXT NOT NULL\n",
    ");\n",
    "\n",
    "/* Creating table DW_CATALOG_DESC based off of the ERD */\n",
    "\n",
    "CREATE TABLE DW_CATALOG_DESC (\n",
    "    catalog_desc_id INTEGER PRIMARY KEY,\n",
    "    program_name TEXT NOT NULL,\n",
    "    course_title TEXT NOT NULL\n",
    ");\n",
    "\n",
    "/* Creating table DW_COURSES based off of the ERD */\n",
    "CREATE TABLE DW_COURSES (\n",
    "    course_offering_id INTEGER PRIMARY KEY,\n",
    "    title TEXT NOT NULL,\n",
    "    term TEXT NOT NULL,\n",
    "    catalog_id TEXT NOT NULL,\n",
    "    section TEXT NOT NULL\n",
    ");\n",
    "\n",
    "/* Creating table DW_COURSE_OFFERING based off of the ERD */\n",
    "\n",
    "CREATE TABLE DW_COURSE_OFFERING (\n",
    "    CRN INTEGER NOT NULL,\n",
    "    instructor_id INTEGER NOT NULL,\n",
    "    cap INTEGER NOT NULL,\n",
    "    act INTEGER NOT NULL,\n",
    "    rem INTEGER NOT NULL,\n",
    "    catalog_desc_id INTEGER,\n",
    "    course_offering_id INTEGER NOT NULL,\n",
    "    classes_taught INTEGER,\n",
    "    distinct_preps INTEGER\n",
    ");\n",
    "\n",
    "/* Creating table DW_COURSE_MEETING based off of the ERD */\n",
    "\n",
    "CREATE TABLE DW_COURSE_MEETING (\n",
    "    course_offering_id INTEGER NOT NULL,\n",
    "    location TEXT NOT NULL\n",
    ");"
   ]
  },
  {
   "cell_type": "markdown",
   "metadata": {},
   "source": [
    "**DDL: Inserting information into the Tables**"
   ]
  },
  {
   "cell_type": "code",
   "execution_count": 63,
   "metadata": {},
   "outputs": [
    {
     "name": "stdout",
     "output_type": "stream",
     "text": [
      " * sqlite:///../FP/CourseDataWarehouse.db\n",
      "Done.\n",
      "Done.\n",
      "Done.\n",
      "Done.\n",
      "Done.\n"
     ]
    },
    {
     "data": {
      "text/plain": [
       "[]"
      ]
     },
     "execution_count": 63,
     "metadata": {},
     "output_type": "execute_result"
    }
   ],
   "source": [
    "%%sql\n",
    "\n",
    "/* Inserting the information into the DW_INSTRUCTOR table based off our Warehouse ERD */\n",
    "INSERT INTO DW_INSTRUCTOR (instructor_id, primary_instructor) \n",
    "SELECT instructor_id, primary_instructor\n",
    "FROM import_teacher_info;\n",
    "\n",
    "/* Inserting the information into the DW_CATALOG_DESC table based off our Warehouse ERD */\n",
    "INSERT INTO DW_CATALOG_DESC (catalog_desc_id, program_name, course_title)\n",
    "SELECT catalog_desc_id, program_name, course_title\n",
    "FROM CATALOG_DESC\n",
    ";\n",
    "\n",
    "/* Inserting the information into the DW_COURSES table based off our Warehouse ERD */\n",
    "INSERT INTO DW_COURSES (course_offering_id, title, term, catalog_id, section)\n",
    "SELECT course_offering_id, title, term, catalog_id, section\n",
    "FROM COURSE_OFFERING\n",
    "WHERE term = 'Summer2018' AND act > 10\n",
    "OR term = 'Fall2018' AND act > 10\n",
    "OR term = 'Spring2019' AND act > 10;\n",
    "   \n",
    "/* Inserting the information into the DW_COURSE_OFFERING table based off our Warehouse ERD */\n",
    "INSERT INTO DW_COURSE_OFFERING (CRN, instructor_id, catalog_desc_id, course_offering_id, cap, act, rem, classes_taught, distinct_preps)\n",
    "SELECT CRN, import_course_offering2.instructor_id, catalog_desc_id, course_offering_id, cap, act, rem, classes_taught, distinct_preps\n",
    "FROM import_course_offering2\n",
    "    JOIN import_teacher_info ON (import_teacher_info.instructor_id=import_course_offering2.instructor_id);\n",
    "    \n",
    "    \n",
    "/* Inserting info into DW_COURSE_MEETING table based off ERD */\n",
    "INSERT INTO DW_COURSE_MEETING (course_offering_id, location)\n",
    "SELECT course_offering_id, location\n",
    "FROM COURSE_MEETING;"
   ]
  },
  {
   "cell_type": "code",
   "execution_count": 64,
   "metadata": {},
   "outputs": [
    {
     "name": "stdout",
     "output_type": "stream",
     "text": [
      " * sqlite:///../FP/CourseDataWarehouse.db\n",
      "Done.\n"
     ]
    },
    {
     "data": {
      "text/html": [
       "<table>\n",
       "    <tr>\n",
       "        <th>CRN</th>\n",
       "        <th>instructor_id</th>\n",
       "        <th>cap</th>\n",
       "        <th>act</th>\n",
       "        <th>rem</th>\n",
       "        <th>catalog_desc_id</th>\n",
       "        <th>course_offering_id</th>\n",
       "        <th>classes_taught</th>\n",
       "        <th>distinct_preps</th>\n",
       "    </tr>\n",
       "    <tr>\n",
       "        <td>58124</td>\n",
       "        <td>10</td>\n",
       "        <td>25</td>\n",
       "        <td>28</td>\n",
       "        <td>-3</td>\n",
       "        <td>275</td>\n",
       "        <td>12655</td>\n",
       "        <td>4</td>\n",
       "        <td>3</td>\n",
       "    </tr>\n",
       "    <tr>\n",
       "        <td>58125</td>\n",
       "        <td>10</td>\n",
       "        <td>25</td>\n",
       "        <td>24</td>\n",
       "        <td>1</td>\n",
       "        <td>275</td>\n",
       "        <td>12656</td>\n",
       "        <td>4</td>\n",
       "        <td>3</td>\n",
       "    </tr>\n",
       "    <tr>\n",
       "        <td>58101</td>\n",
       "        <td>9</td>\n",
       "        <td>22</td>\n",
       "        <td>23</td>\n",
       "        <td>-1</td>\n",
       "        <td>313</td>\n",
       "        <td>12657</td>\n",
       "        <td>9</td>\n",
       "        <td>4</td>\n",
       "    </tr>\n",
       "    <tr>\n",
       "        <td>58102</td>\n",
       "        <td>9</td>\n",
       "        <td>20</td>\n",
       "        <td>23</td>\n",
       "        <td>-3</td>\n",
       "        <td>313</td>\n",
       "        <td>12658</td>\n",
       "        <td>9</td>\n",
       "        <td>4</td>\n",
       "    </tr>\n",
       "    <tr>\n",
       "        <td>58202</td>\n",
       "        <td>9</td>\n",
       "        <td>22</td>\n",
       "        <td>22</td>\n",
       "        <td>0</td>\n",
       "        <td>313</td>\n",
       "        <td>12659</td>\n",
       "        <td>9</td>\n",
       "        <td>4</td>\n",
       "    </tr>\n",
       "    <tr>\n",
       "        <td>58103</td>\n",
       "        <td>772</td>\n",
       "        <td>22</td>\n",
       "        <td>23</td>\n",
       "        <td>-1</td>\n",
       "        <td>365</td>\n",
       "        <td>12660</td>\n",
       "        <td>5</td>\n",
       "        <td>3</td>\n",
       "    </tr>\n",
       "    <tr>\n",
       "        <td>58104</td>\n",
       "        <td>14</td>\n",
       "        <td>22</td>\n",
       "        <td>24</td>\n",
       "        <td>-2</td>\n",
       "        <td>365</td>\n",
       "        <td>12661</td>\n",
       "        <td>4</td>\n",
       "        <td>2</td>\n",
       "    </tr>\n",
       "    <tr>\n",
       "        <td>58203</td>\n",
       "        <td>14</td>\n",
       "        <td>22</td>\n",
       "        <td>20</td>\n",
       "        <td>2</td>\n",
       "        <td>365</td>\n",
       "        <td>12662</td>\n",
       "        <td>4</td>\n",
       "        <td>2</td>\n",
       "    </tr>\n",
       "    <tr>\n",
       "        <td>58419</td>\n",
       "        <td>18</td>\n",
       "        <td>15</td>\n",
       "        <td>14</td>\n",
       "        <td>1</td>\n",
       "        <td>92</td>\n",
       "        <td>12664</td>\n",
       "        <td>1</td>\n",
       "        <td>1</td>\n",
       "    </tr>\n",
       "    <tr>\n",
       "        <td>58219</td>\n",
       "        <td>23</td>\n",
       "        <td>20</td>\n",
       "        <td>20</td>\n",
       "        <td>0</td>\n",
       "        <td>28</td>\n",
       "        <td>12665</td>\n",
       "        <td>5</td>\n",
       "        <td>2</td>\n",
       "    </tr>\n",
       "</table>"
      ],
      "text/plain": [
       "[(58124, 10, 25, 28, -3, 275, 12655, 4, 3),\n",
       " (58125, 10, 25, 24, 1, 275, 12656, 4, 3),\n",
       " (58101, 9, 22, 23, -1, 313, 12657, 9, 4),\n",
       " (58102, 9, 20, 23, -3, 313, 12658, 9, 4),\n",
       " (58202, 9, 22, 22, 0, 313, 12659, 9, 4),\n",
       " (58103, 772, 22, 23, -1, 365, 12660, 5, 3),\n",
       " (58104, 14, 22, 24, -2, 365, 12661, 4, 2),\n",
       " (58203, 14, 22, 20, 2, 365, 12662, 4, 2),\n",
       " (58419, 18, 15, 14, 1, 92, 12664, 1, 1),\n",
       " (58219, 23, 20, 20, 0, 28, 12665, 5, 2)]"
      ]
     },
     "execution_count": 64,
     "metadata": {},
     "output_type": "execute_result"
    }
   ],
   "source": [
    "%%sql\n",
    "SELECT * FROM DW_COURSE_OFFERING LIMIT 10;"
   ]
  },
  {
   "cell_type": "code",
   "execution_count": 65,
   "metadata": {},
   "outputs": [
    {
     "name": "stdout",
     "output_type": "stream",
     "text": [
      " * sqlite:///../FP/CourseDataWarehouse.db\n",
      "Done.\n"
     ]
    },
    {
     "data": {
      "text/html": [
       "<table>\n",
       "    <tr>\n",
       "        <th>course_offering_id</th>\n",
       "        <th>location</th>\n",
       "    </tr>\n",
       "    <tr>\n",
       "        <td>1</td>\n",
       "        <td>DSB 105</td>\n",
       "    </tr>\n",
       "    <tr>\n",
       "        <td>1</td>\n",
       "        <td>DSB 105</td>\n",
       "    </tr>\n",
       "    <tr>\n",
       "        <td>1</td>\n",
       "        <td>DSB 105</td>\n",
       "    </tr>\n",
       "    <tr>\n",
       "        <td>1</td>\n",
       "        <td>DSB 105</td>\n",
       "    </tr>\n",
       "    <tr>\n",
       "        <td>1</td>\n",
       "        <td>DSB 105</td>\n",
       "    </tr>\n",
       "    <tr>\n",
       "        <td>1</td>\n",
       "        <td>DSB 105</td>\n",
       "    </tr>\n",
       "    <tr>\n",
       "        <td>1</td>\n",
       "        <td>DSB 105</td>\n",
       "    </tr>\n",
       "    <tr>\n",
       "        <td>1</td>\n",
       "        <td>DSB 105</td>\n",
       "    </tr>\n",
       "    <tr>\n",
       "        <td>1</td>\n",
       "        <td>DSB 105</td>\n",
       "    </tr>\n",
       "    <tr>\n",
       "        <td>1</td>\n",
       "        <td>DSB 105</td>\n",
       "    </tr>\n",
       "</table>"
      ],
      "text/plain": [
       "[(1, 'DSB 105'),\n",
       " (1, 'DSB 105'),\n",
       " (1, 'DSB 105'),\n",
       " (1, 'DSB 105'),\n",
       " (1, 'DSB 105'),\n",
       " (1, 'DSB 105'),\n",
       " (1, 'DSB 105'),\n",
       " (1, 'DSB 105'),\n",
       " (1, 'DSB 105'),\n",
       " (1, 'DSB 105')]"
      ]
     },
     "execution_count": 65,
     "metadata": {},
     "output_type": "execute_result"
    }
   ],
   "source": [
    "%%sql\n",
    "SELECT * FROM DW_COURSE_MEETING LIMIT 10;"
   ]
  },
  {
   "cell_type": "code",
   "execution_count": null,
   "metadata": {},
   "outputs": [],
   "source": []
  }
 ],
 "metadata": {
  "kernelspec": {
   "display_name": "Python 3",
   "language": "python",
   "name": "python3"
  },
  "language_info": {
   "codemirror_mode": {
    "name": "ipython",
    "version": 3
   },
   "file_extension": ".py",
   "mimetype": "text/x-python",
   "name": "python",
   "nbconvert_exporter": "python",
   "pygments_lexer": "ipython3",
   "version": "3.6.5"
  }
 },
 "nbformat": 4,
 "nbformat_minor": 2
}

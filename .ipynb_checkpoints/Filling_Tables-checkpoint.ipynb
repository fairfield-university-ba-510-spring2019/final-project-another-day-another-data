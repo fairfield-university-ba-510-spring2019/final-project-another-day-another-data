{
 "cells": [
  {
   "cell_type": "markdown",
   "metadata": {},
   "source": [
    "**Adding the data to the correct Tables**"
   ]
  },
  {
   "cell_type": "code",
   "execution_count": 193,
   "metadata": {},
   "outputs": [
    {
     "name": "stdout",
     "output_type": "stream",
     "text": [
      "The sql extension is already loaded. To reload it, use:\n",
      "  %reload_ext sql\n"
     ]
    },
    {
     "data": {
      "text/plain": [
       "'Connected: @CourseData.db'"
      ]
     },
     "execution_count": 193,
     "metadata": {},
     "output_type": "execute_result"
    }
   ],
   "source": [
    "%load_ext sql\n",
    "%sql sqlite:///CourseData.db"
   ]
  },
  {
   "cell_type": "code",
   "execution_count": 194,
   "metadata": {},
   "outputs": [
    {
     "name": "stdout",
     "output_type": "stream",
     "text": [
      " * sqlite:///CourseData.db\n",
      "1105 rows affected.\n"
     ]
    },
    {
     "data": {
      "text/plain": [
       "[]"
      ]
     },
     "execution_count": 194,
     "metadata": {},
     "output_type": "execute_result"
    }
   ],
   "source": [
    "%%sql\n",
    "INSERT INTO INSTRUCTOR (primary_instructor)\n",
    "SELECT DISTINCT primary_instructor\n",
    "FROM import_courses;"
   ]
  },
  {
   "cell_type": "code",
   "execution_count": 195,
   "metadata": {},
   "outputs": [
    {
     "name": "stdout",
     "output_type": "stream",
     "text": [
      " * sqlite:///CourseData.db\n",
      "4441 rows affected.\n"
     ]
    },
    {
     "data": {
      "text/plain": [
       "[]"
      ]
     },
     "execution_count": 195,
     "metadata": {},
     "output_type": "execute_result"
    }
   ],
   "source": [
    "%%sql\n",
    "INSERT INTO CATALOG_DESC (catalog_id, program_code, program_name, course_title, prereqs, coreqs, fees, attributes, description, catalog_year)\n",
    "SELECT catalog_id, program_code, program_name, course_title, prereqs, coreqs, fees, attributes, description, catalog_year\n",
    "FROM import_catalogs;"
   ]
  },
  {
   "cell_type": "code",
   "execution_count": 196,
   "metadata": {},
   "outputs": [
    {
     "name": "stdout",
     "output_type": "stream",
     "text": [
      " * sqlite:///CourseData.db\n",
      "Done.\n"
     ]
    },
    {
     "data": {
      "text/html": [
       "<table>\n",
       "    <tr>\n",
       "        <th>instructor_id</th>\n",
       "        <th>primary_instructor</th>\n",
       "    </tr>\n",
       "    <tr>\n",
       "        <td>1</td>\n",
       "        <td>Michael P.  Coyne</td>\n",
       "    </tr>\n",
       "    <tr>\n",
       "        <td>2</td>\n",
       "        <td>Rebecca I.  Bloch</td>\n",
       "    </tr>\n",
       "    <tr>\n",
       "        <td>3</td>\n",
       "        <td>Paul   Caster</td>\n",
       "    </tr>\n",
       "    <tr>\n",
       "        <td>4</td>\n",
       "        <td>Jo Ann   Drusbosky</td>\n",
       "    </tr>\n",
       "    <tr>\n",
       "        <td>5</td>\n",
       "        <td>Arleen N.  Kardos</td>\n",
       "    </tr>\n",
       "    <tr>\n",
       "        <td>6</td>\n",
       "        <td>Scott M  Brenner</td>\n",
       "    </tr>\n",
       "    <tr>\n",
       "        <td>7</td>\n",
       "        <td>Kevin C.  Cassidy</td>\n",
       "    </tr>\n",
       "    <tr>\n",
       "        <td>8</td>\n",
       "        <td>Bruce   Bradford</td>\n",
       "    </tr>\n",
       "    <tr>\n",
       "        <td>9</td>\n",
       "        <td>Milo W.  Peck</td>\n",
       "    </tr>\n",
       "    <tr>\n",
       "        <td>10</td>\n",
       "        <td>Stephen E.  Yost</td>\n",
       "    </tr>\n",
       "</table>"
      ],
      "text/plain": [
       "[(1, 'Michael P.  Coyne'),\n",
       " (2, 'Rebecca I.  Bloch'),\n",
       " (3, 'Paul   Caster'),\n",
       " (4, 'Jo Ann   Drusbosky'),\n",
       " (5, 'Arleen N.  Kardos'),\n",
       " (6, 'Scott M  Brenner'),\n",
       " (7, 'Kevin C.  Cassidy'),\n",
       " (8, 'Bruce   Bradford'),\n",
       " (9, 'Milo W.  Peck'),\n",
       " (10, 'Stephen E.  Yost')]"
      ]
     },
     "execution_count": 196,
     "metadata": {},
     "output_type": "execute_result"
    }
   ],
   "source": [
    "%%sql\n",
    "SELECT *\n",
    "FROM INSTRUCTOR\n",
    "LIMIT 10;"
   ]
  },
  {
   "cell_type": "code",
   "execution_count": 197,
   "metadata": {},
   "outputs": [
    {
     "name": "stdout",
     "output_type": "stream",
     "text": [
      " * sqlite:///CourseData.db\n",
      "30504 rows affected.\n"
     ]
    },
    {
     "data": {
      "text/plain": [
       "[]"
      ]
     },
     "execution_count": 197,
     "metadata": {},
     "output_type": "execute_result"
    }
   ],
   "source": [
    "%%sql\n",
    "INSERT INTO COURSE_OFFERING (CRN, term, section, title, credits, cap, act, rem, meetings, timecodes, instructor_id, catalog_desc_id)\n",
    "SELECT CRN, term, section, title, credits, cap, act, rem, meetings, timecodes, instructor_id, catalog_desc_id\n",
    "    FROM import_courses\n",
    "    JOIN INSTRUCTOR ON (import_courses.primary_instructor=INSTRUCTOR.primary_instructor)\n",
    "    JOIN CATALOG_DESC ON (import_courses.catalog_id=CATALOG_DESC.catalog_id);"
   ]
  },
  {
   "cell_type": "code",
   "execution_count": 198,
   "metadata": {},
   "outputs": [
    {
     "name": "stdout",
     "output_type": "stream",
     "text": [
      " * sqlite:///CourseData.db\n",
      "Done.\n"
     ]
    },
    {
     "data": {
      "text/html": [
       "<table>\n",
       "    <tr>\n",
       "        <th>term</th>\n",
       "        <th>crn</th>\n",
       "        <th>location</th>\n",
       "        <th>day</th>\n",
       "        <th>start</th>\n",
       "        <th>end</th>\n",
       "    </tr>\n",
       "    <tr>\n",
       "        <td>Fall2014</td>\n",
       "        <td>70384</td>\n",
       "        <td>DSB 105</td>\n",
       "        <td>T</td>\n",
       "        <td>2014-09-02T08:00:00</td>\n",
       "        <td>2014-09-02T09:15:00</td>\n",
       "    </tr>\n",
       "    <tr>\n",
       "        <td>Fall2014</td>\n",
       "        <td>70384</td>\n",
       "        <td>DSB 105</td>\n",
       "        <td>F</td>\n",
       "        <td>2014-09-05T08:00:00</td>\n",
       "        <td>2014-09-05T09:15:00</td>\n",
       "    </tr>\n",
       "</table>"
      ],
      "text/plain": [
       "[('Fall2014', '70384', 'DSB 105', 'T', '2014-09-02T08:00:00', '2014-09-02T09:15:00'),\n",
       " ('Fall2014', '70384', 'DSB 105', 'F', '2014-09-05T08:00:00', '2014-09-05T09:15:00')]"
      ]
     },
     "execution_count": 198,
     "metadata": {},
     "output_type": "execute_result"
    }
   ],
   "source": [
    "%%sql\n",
    "SELECT *\n",
    "FROM import_course_meetings\n",
    "LIMIT 2;"
   ]
  },
  {
   "cell_type": "code",
   "execution_count": 199,
   "metadata": {},
   "outputs": [
    {
     "name": "stdout",
     "output_type": "stream",
     "text": [
      " * sqlite:///CourseData.db\n",
      "Done.\n"
     ]
    },
    {
     "data": {
      "text/html": [
       "<table>\n",
       "    <tr>\n",
       "        <th>term</th>\n",
       "        <th>crn</th>\n",
       "        <th>catalog_id</th>\n",
       "        <th>section</th>\n",
       "        <th>credits</th>\n",
       "        <th>title</th>\n",
       "        <th>meetings</th>\n",
       "        <th>timecodes</th>\n",
       "        <th>primary_instructor</th>\n",
       "        <th>cap</th>\n",
       "        <th>act</th>\n",
       "        <th>rem</th>\n",
       "    </tr>\n",
       "    <tr>\n",
       "        <td>Fall2014</td>\n",
       "        <td>70384</td>\n",
       "        <td>AC 0011</td>\n",
       "        <td>C01</td>\n",
       "        <td>3.000</td>\n",
       "        <td>Introduction to Financial Accounting</td>\n",
       "        <td>[{&#x27;days&#x27;: &#x27;TF&#x27;, &#x27;times&#x27;: &#x27;0800am-0915am&#x27;, &#x27;dates&#x27;: &#x27;09/02-12/08&#x27;, &#x27;location&#x27;: &#x27;DSB 105&#x27;}]</td>\n",
       "        <td>[&#x27;TF 0800am-0915am 09/02-12/08 DSB 105&#x27;]</td>\n",
       "        <td>Michael P.  Coyne</td>\n",
       "        <td>0</td>\n",
       "        <td>31</td>\n",
       "        <td>-31</td>\n",
       "    </tr>\n",
       "    <tr>\n",
       "        <td>Fall2014</td>\n",
       "        <td>70385</td>\n",
       "        <td>AC 0011</td>\n",
       "        <td>C02</td>\n",
       "        <td>3.000</td>\n",
       "        <td>Introduction to Financial Accounting</td>\n",
       "        <td>[{&#x27;days&#x27;: &#x27;TF&#x27;, &#x27;times&#x27;: &#x27;0930am-1045am&#x27;, &#x27;dates&#x27;: &#x27;09/02-12/08&#x27;, &#x27;location&#x27;: &#x27;DSB 105&#x27;}]</td>\n",
       "        <td>[&#x27;TF 0930am-1045am 09/02-12/08 DSB 105&#x27;]</td>\n",
       "        <td>Michael P.  Coyne</td>\n",
       "        <td>0</td>\n",
       "        <td>31</td>\n",
       "        <td>-31</td>\n",
       "    </tr>\n",
       "</table>"
      ],
      "text/plain": [
       "[('Fall2014', '70384', 'AC 0011', 'C01', '3.000', 'Introduction to Financial Accounting', \"[{'days': 'TF', 'times': '0800am-0915am', 'dates': '09/02-12/08', 'location': 'DSB 105'}]\", \"['TF 0800am-0915am 09/02-12/08 DSB 105']\", 'Michael P.  Coyne', '0', '31', '-31'),\n",
       " ('Fall2014', '70385', 'AC 0011', 'C02', '3.000', 'Introduction to Financial Accounting', \"[{'days': 'TF', 'times': '0930am-1045am', 'dates': '09/02-12/08', 'location': 'DSB 105'}]\", \"['TF 0930am-1045am 09/02-12/08 DSB 105']\", 'Michael P.  Coyne', '0', '31', '-31')]"
      ]
     },
     "execution_count": 199,
     "metadata": {},
     "output_type": "execute_result"
    }
   ],
   "source": [
    "%%sql\n",
    "SELECT *\n",
    "FROM import_courses\n",
    "LIMIT 2;"
   ]
  },
  {
   "cell_type": "code",
   "execution_count": 202,
   "metadata": {},
   "outputs": [
    {
     "name": "stdout",
     "output_type": "stream",
     "text": [
      " * sqlite:///CourseData.db\n",
      "609894 rows affected.\n"
     ]
    },
    {
     "data": {
      "text/plain": [
       "[]"
      ]
     },
     "execution_count": 202,
     "metadata": {},
     "output_type": "execute_result"
    }
   ],
   "source": [
    "%%sql\n",
    "INSERT INTO COURSE_MEETING (course_offering_id, location, day, start, end)\n",
    "SELECT course_offering_id, location, day, start, end\n",
    "    FROM import_course_meetings\n",
    "    JOIN COURSE_OFFERING ON (import_course_meetings.CRN=COURSE_OFFERING.CRN AND import_course_meetings.term=COURSE_OFFERING.term);"
   ]
  },
  {
   "cell_type": "code",
   "execution_count": 6,
   "metadata": {},
   "outputs": [
    {
     "name": "stdout",
     "output_type": "stream",
     "text": [
      " * sqlite:///CourseData.db\n",
      "Done.\n"
     ]
    },
    {
     "data": {
      "text/html": [
       "<table>\n",
       "    <tr>\n",
       "        <th>COUNT(DISTINCT primary_instructor)</th>\n",
       "    </tr>\n",
       "    <tr>\n",
       "        <td>1105</td>\n",
       "    </tr>\n",
       "</table>"
      ],
      "text/plain": [
       "[(1105,)]"
      ]
     },
     "execution_count": 6,
     "metadata": {},
     "output_type": "execute_result"
    }
   ],
   "source": [
    "#%%sql\n",
    "SELECT COUNT(DISTINCT primary_instructor)\n",
    "FROM INSTRUCTOR;"
   ]
  },
  {
   "cell_type": "code",
   "execution_count": 7,
   "metadata": {},
   "outputs": [
    {
     "name": "stdout",
     "output_type": "stream",
     "text": [
      " * sqlite:///CourseData.db\n",
      "Done.\n"
     ]
    },
    {
     "data": {
      "text/html": [
       "<table>\n",
       "    <tr>\n",
       "        <th>COUNT(DISTINCT section)</th>\n",
       "        <th>primary_instructor</th>\n",
       "    </tr>\n",
       "    <tr>\n",
       "        <td>121</td>\n",
       "        <td>Michael P.  Coyne</td>\n",
       "    </tr>\n",
       "</table>"
      ],
      "text/plain": [
       "[(121, 'Michael P.  Coyne')]"
      ]
     },
     "execution_count": 7,
     "metadata": {},
     "output_type": "execute_result"
    }
   ],
   "source": [
    "#%%sql\n",
    "SELECT COUNT(DISTINCT section), primary_instructor \n",
    "FROM COURSE_OFFERING \n",
    "WHERE term = 'Fall2018';"
   ]
  },
  {
   "cell_type": "code",
   "execution_count": null,
   "metadata": {},
   "outputs": [],
   "source": [
    "%%sql\n",
    "INSERT INTO COURSE_OFFERING (CRN, catalog_id, term, section, title, credits, cap, act, rem, meetings, timecodes, primary_instructor)\n",
    "SELECT CRN, catalog_id, term, section, title, credits, cap, act, rem, meetings, timecodes, primary_instructor\n",
    "FROM import_courses;"
   ]
  }
 ],
 "metadata": {
  "kernelspec": {
   "display_name": "Python 3",
   "language": "python",
   "name": "python3"
  },
  "language_info": {
   "codemirror_mode": {
    "name": "ipython",
    "version": 3
   },
   "file_extension": ".py",
   "mimetype": "text/x-python",
   "name": "python",
   "nbconvert_exporter": "python",
   "pygments_lexer": "ipython3",
   "version": "3.6.5"
  }
 },
 "nbformat": 4,
 "nbformat_minor": 2
}

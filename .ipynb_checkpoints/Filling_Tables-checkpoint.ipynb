{
 "cells": [
  {
   "cell_type": "markdown",
   "metadata": {},
   "source": [
    "**Adding the data to the correct Tables**"
   ]
  },
  {
   "cell_type": "code",
   "execution_count": 1,
   "metadata": {},
   "outputs": [],
   "source": [
    "#%load_ext sql\n",
    "#%sql sqlite:///CourseData.db"
   ]
  },
  {
   "cell_type": "code",
   "execution_count": 2,
   "metadata": {},
   "outputs": [
    {
     "ename": "SyntaxError",
     "evalue": "invalid syntax (<ipython-input-2-45eca6756351>, line 2)",
     "output_type": "error",
     "traceback": [
      "\u001b[0;36m  File \u001b[0;32m\"<ipython-input-2-45eca6756351>\"\u001b[0;36m, line \u001b[0;32m2\u001b[0m\n\u001b[0;31m    INSERT INTO COURSE_OFFERING (CRN, catalog_id, term_year, section, course_title, credits, cap, act, rem, year, meetings, timecodes, primary_instructor)\u001b[0m\n\u001b[0m              ^\u001b[0m\n\u001b[0;31mSyntaxError\u001b[0m\u001b[0;31m:\u001b[0m invalid syntax\n"
     ]
    }
   ],
   "source": [
    "#%%sql\n",
    "INSERT INTO COURSE_OFFERING (CRN, catalog_id, term_year, section, course_title, credits, cap, act, rem, year, meetings, timecodes, primary_instructor)\n",
    "    SELECT DISTINCT CRN, catalog_id, term_year, section, course_title, credits, cap, act, rem, year, meetings, timecodes, primary_instructor\n",
    "    FROM DATASET;"
   ]
  },
  {
   "cell_type": "code",
   "execution_count": 3,
   "metadata": {},
   "outputs": [
    {
     "ename": "SyntaxError",
     "evalue": "invalid syntax (<ipython-input-3-f6a3fa01b9c6>, line 2)",
     "output_type": "error",
     "traceback": [
      "\u001b[0;36m  File \u001b[0;32m\"<ipython-input-3-f6a3fa01b9c6>\"\u001b[0;36m, line \u001b[0;32m2\u001b[0m\n\u001b[0;31m    INSERT INTO CATALOG_DESC (catalog_id, term_year, program_code, program_name, course_title, credits, prereqs, coreqs, fees, attributes, description)\u001b[0m\n\u001b[0m              ^\u001b[0m\n\u001b[0;31mSyntaxError\u001b[0m\u001b[0;31m:\u001b[0m invalid syntax\n"
     ]
    }
   ],
   "source": [
    "#%%sql\n",
    "INSERT INTO CATALOG_DESC (catalog_id, term_year, program_code, program_name, course_title, credits, prereqs, coreqs, fees, attributes, description)\n",
    "    SELECT DISTINCT catalog_id, term_year, program_code, program_name, course_title, credits, prereqs, coreqs, fees, attributes, description\n",
    "    FROM DATASET;"
   ]
  },
  {
   "cell_type": "code",
   "execution_count": 4,
   "metadata": {},
   "outputs": [
    {
     "ename": "SyntaxError",
     "evalue": "invalid syntax (<ipython-input-4-0e60170a6d4d>, line 2)",
     "output_type": "error",
     "traceback": [
      "\u001b[0;36m  File \u001b[0;32m\"<ipython-input-4-0e60170a6d4d>\"\u001b[0;36m, line \u001b[0;32m2\u001b[0m\n\u001b[0;31m    INSERT INTO INSTRUCTOR (primary_instructor)\u001b[0m\n\u001b[0m              ^\u001b[0m\n\u001b[0;31mSyntaxError\u001b[0m\u001b[0;31m:\u001b[0m invalid syntax\n"
     ]
    }
   ],
   "source": [
    "#%%sql\n",
    "INSERT INTO INSTRUCTOR (primary_instructor)\n",
    "    SELECT DISTINCT primary_instructor\n",
    "    FROM DATASET;"
   ]
  },
  {
   "cell_type": "code",
   "execution_count": 5,
   "metadata": {},
   "outputs": [
    {
     "ename": "SyntaxError",
     "evalue": "invalid syntax (<ipython-input-5-0cef17680ace>, line 2)",
     "output_type": "error",
     "traceback": [
      "\u001b[0;36m  File \u001b[0;32m\"<ipython-input-5-0cef17680ace>\"\u001b[0;36m, line \u001b[0;32m2\u001b[0m\n\u001b[0;31m    INSERT INTO COURSE_MEETING (CRN, term_year, location, day, start, end)\u001b[0m\n\u001b[0m              ^\u001b[0m\n\u001b[0;31mSyntaxError\u001b[0m\u001b[0;31m:\u001b[0m invalid syntax\n"
     ]
    }
   ],
   "source": [
    "#%%sql\n",
    "INSERT INTO COURSE_MEETING (CRN, term_year, location, day, start, end)\n",
    "    SELECT DISTINCT CRN, term_year, location, day, start, end\n",
    "    FROM DATASET;"
   ]
  },
  {
   "cell_type": "code",
   "execution_count": null,
   "metadata": {},
   "outputs": [],
   "source": []
  }
 ],
 "metadata": {
  "kernelspec": {
   "display_name": "Python 3",
   "language": "python",
   "name": "python3"
  },
  "language_info": {
   "codemirror_mode": {
    "name": "ipython",
    "version": 3
   },
   "file_extension": ".py",
   "mimetype": "text/x-python",
   "name": "python",
   "nbconvert_exporter": "python",
   "pygments_lexer": "ipython3",
   "version": "3.6.5"
  }
 },
 "nbformat": 4,
 "nbformat_minor": 2
}

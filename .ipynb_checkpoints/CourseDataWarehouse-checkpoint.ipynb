{
 "cells": [
  {
   "cell_type": "markdown",
   "metadata": {},
   "source": [
    "**Data Warehouse**"
   ]
  },
  {
   "cell_type": "code",
   "execution_count": 5,
   "metadata": {},
   "outputs": [
    {
     "name": "stdout",
     "output_type": "stream",
     "text": [
      "The sql extension is already loaded. To reload it, use:\n",
      "  %reload_ext sql\n"
     ]
    }
   ],
   "source": [
    "%load_ext sql"
   ]
  },
  {
   "cell_type": "code",
   "execution_count": 6,
   "metadata": {},
   "outputs": [
    {
     "data": {
      "text/plain": [
       "'Connected: @../FP/CourseDataWarehouse.db'"
      ]
     },
     "execution_count": 6,
     "metadata": {},
     "output_type": "execute_result"
    }
   ],
   "source": [
    "%%sql\n",
    "sqlite:///../FP/CourseDataWarehouse.db"
   ]
  },
  {
   "cell_type": "code",
   "execution_count": 7,
   "metadata": {},
   "outputs": [
    {
     "name": "stdout",
     "output_type": "stream",
     "text": [
      " * sqlite:///../FP/CourseDataWarehouse.db\n",
      "Done.\n"
     ]
    },
    {
     "data": {
      "text/html": [
       "<table>\n",
       "    <tr>\n",
       "        <th>instructor_id</th>\n",
       "        <th>primary_instructor</th>\n",
       "        <th>classes_taught</th>\n",
       "        <th>distinct_preps</th>\n",
       "        <th>program_name</th>\n",
       "    </tr>\n",
       "    <tr>\n",
       "        <td>420</td>\n",
       "        <td>Nancy A.  Moriber</td>\n",
       "        <td>15</td>\n",
       "        <td>14</td>\n",
       "        <td>Nursing</td>\n",
       "    </tr>\n",
       "    <tr>\n",
       "        <td>52</td>\n",
       "        <td>Anthony J.  DeCristofaro</td>\n",
       "        <td>11</td>\n",
       "        <td>4</td>\n",
       "        <td>Biology</td>\n",
       "    </tr>\n",
       "</table>"
      ],
      "text/plain": [
       "[('420', 'Nancy A.  Moriber', '15', '14', 'Nursing'),\n",
       " ('52', 'Anthony J.  DeCristofaro', '11', '4', 'Biology')]"
      ]
     },
     "execution_count": 7,
     "metadata": {},
     "output_type": "execute_result"
    }
   ],
   "source": [
    "%%sql\n",
    "SELECT * FROM import_teacher_info LIMIT 2;"
   ]
  },
  {
   "cell_type": "code",
   "execution_count": 36,
   "metadata": {},
   "outputs": [
    {
     "name": "stdout",
     "output_type": "stream",
     "text": [
      " * sqlite:///../FP/CourseDataWarehouse.db\n",
      "Done.\n",
      "Done.\n",
      "Done.\n",
      "Done.\n"
     ]
    },
    {
     "data": {
      "text/plain": [
       "[]"
      ]
     },
     "execution_count": 36,
     "metadata": {},
     "output_type": "execute_result"
    }
   ],
   "source": [
    "%%sql\n",
    "\n",
    "/* Dropping tables if they already exist */\n",
    "\n",
    "DROP TABLE IF EXISTS DW_INSTRUCTOR;\n",
    "DROP TABLE IF EXISTS DW_COURSE_OFFERING;\n",
    "DROP TABLE IF EXISTS DW_COURSES;\n",
    "DROP TABLE IF EXISTS DW_CATALOG_DESC;"
   ]
  },
  {
   "cell_type": "markdown",
   "metadata": {},
   "source": [
    "**DML: Creating the Tables**"
   ]
  },
  {
   "cell_type": "code",
   "execution_count": 37,
   "metadata": {},
   "outputs": [
    {
     "name": "stdout",
     "output_type": "stream",
     "text": [
      " * sqlite:///../FP/CourseDataWarehouse.db\n",
      "Done.\n",
      "Done.\n",
      "Done.\n",
      "Done.\n"
     ]
    },
    {
     "data": {
      "text/plain": [
       "[]"
      ]
     },
     "execution_count": 37,
     "metadata": {},
     "output_type": "execute_result"
    }
   ],
   "source": [
    "%%sql\n",
    "\n",
    "/* Creating table DW_INSTRUCTOR based off of the ERD */\n",
    "\n",
    "CREATE TABLE DW_INSTRUCTOR (\n",
    "    instructor_id INTEGER PRIMARY KEY,\n",
    "    primary_instructor TEXT NOT NULL\n",
    ");\n",
    "\n",
    "/* Creating table DW_CATALOG_DESC based off of the ERD */\n",
    "\n",
    "CREATE TABLE DW_CATALOG_DESC (\n",
    "    catalog_desc_id INTEGER PRIMARY KEY,\n",
    "    program_name TEXT NOT NULL,\n",
    "    course_title TEXT NOT NULL\n",
    ");\n",
    "\n",
    "/* Creating table DW_COURSES based off of the ERD */\n",
    "CREATE TABLE DW_COURSES (\n",
    "    course_offering_id INTEGER PRIMARY KEY,\n",
    "    title TEXT NOT NULL,\n",
    "    term TEXT NOT NULL,\n",
    "    catalog_id TEXT NOT NULL,\n",
    "    section TEXT NOT NULL\n",
    ");\n",
    "\n",
    "/* Creating table DW_COURSE_OFFERING based off of the ERD */\n",
    "\n",
    "CREATE TABLE DW_COURSE_OFFERING (\n",
    "    CRN INTEGER NOT NULL,\n",
    "    instructor_id INTEGER NOT NULL,\n",
    "    credits INTEGER NOT NULL,\n",
    "    cap INTEGER NOT NULL,\n",
    "    act INTEGER NOT NULL,\n",
    "    rem INTEGER NOT NULL,\n",
    "    catalog_desc_id INTEGER,\n",
    "    course_offering_id INTEGER NOT NULL,\n",
    "    classes_taught INTEGER,\n",
    "    distinct_preps INTEGER\n",
    ");"
   ]
  },
  {
   "cell_type": "markdown",
   "metadata": {},
   "source": [
    "**DDL: Inserting information into the Tables**"
   ]
  },
  {
   "cell_type": "code",
   "execution_count": 38,
   "metadata": {},
   "outputs": [
    {
     "name": "stdout",
     "output_type": "stream",
     "text": [
      " * sqlite:///../FP/CourseDataWarehouse.db\n",
      "Done.\n",
      "Done.\n",
      "Done.\n",
      "Done.\n",
      "(sqlite3.OperationalError) near \"USING\": syntax error [SQL: '/* Inserting the information into the DW_COURSE_OFFERING table based off our Warehouse ERD */\\nINSERT INTO DW_COURSE_OFFERING (classes_taught, distinct_preps)\\nSELECT classes_taught, distinct_preps\\nFROM import_teacher_info\\nJOIN USING (import_teacher_info.instructor_id=DW_COURSE_OFFERING.instructor_id);'] (Background on this error at: http://sqlalche.me/e/e3q8)\n"
     ]
    }
   ],
   "source": [
    "%%sql\n",
    "\n",
    "/* Inserting the information into the DW_INSTRUCTOR table based off our Warehouse ERD */\n",
    "INSERT INTO DW_INSTRUCTOR (instructor_id, primary_instructor) \n",
    "SELECT instructor_id, primary_instructor\n",
    "FROM import_teacher_info;\n",
    "\n",
    "/* Inserting the information into the DW_CATALOG_DESC table based off our Warehouse ERD */\n",
    "INSERT INTO DW_CATALOG_DESC (catalog_desc_id, program_name, course_title)\n",
    "SELECT catalog_desc_id, program_name, course_title\n",
    "FROM CATALOG_DESC\n",
    ";\n",
    "\n",
    "/* Inserting the information into the DW_COURSES table based off our Warehouse ERD */\n",
    "INSERT INTO DW_COURSES (course_offering_id, title, term, catalog_id, section)\n",
    "SELECT course_offering_id, title, term, catalog_id, section\n",
    "FROM COURSE_OFFERING\n",
    "WHERE term = 'Summer2018' AND act > 10\n",
    "OR term = 'Fall2018' AND act > 10\n",
    "OR term = 'Spring2019' AND act > 10;\n",
    "   \n",
    "/* Inserting the information into the DW_COURSE_OFFERING table based off our Warehouse ERD */\n",
    "INSERT INTO DW_COURSE_OFFERING (CRN, instructor_id, catalog_desc_id, course_offering_id, credits, cap, act, rem)\n",
    "SELECT CRN, instructor_id, catalog_desc_id, course_offering_id, COURSE_OFFERING.credits, cap, act, rem\n",
    "FROM COURSE_OFFERING\n",
    "WHERE term = 'Summer2018' AND act > 10\n",
    "OR term = 'Fall2018' AND act > 10\n",
    "OR term = 'Spring2019' AND act > 10;\n",
    "\n",
    "/* Inserting the information into the DW_COURSE_OFFERING table based off our Warehouse ERD */\n",
    "INSERT INTO DW_COURSE_OFFERING (classes_taught, distinct_preps)\n",
    "SELECT classes_taught, distinct_preps\n",
    "FROM import_teacher_info\n",
    "JOIN USING (import_teacher_info.instructor_id=DW_COURSE_OFFERING.instructor_id);"
   ]
  },
  {
   "cell_type": "code",
   "execution_count": null,
   "metadata": {},
   "outputs": [],
   "source": []
  }
 ],
 "metadata": {
  "kernelspec": {
   "display_name": "Python 3",
   "language": "python",
   "name": "python3"
  },
  "language_info": {
   "codemirror_mode": {
    "name": "ipython",
    "version": 3
   },
   "file_extension": ".py",
   "mimetype": "text/x-python",
   "name": "python",
   "nbconvert_exporter": "python",
   "pygments_lexer": "ipython3",
   "version": "3.6.5"
  }
 },
 "nbformat": 4,
 "nbformat_minor": 2
}

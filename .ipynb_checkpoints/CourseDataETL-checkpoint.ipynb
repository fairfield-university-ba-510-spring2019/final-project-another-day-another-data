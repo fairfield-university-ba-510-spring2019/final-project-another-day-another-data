{
 "cells": [
  {
   "cell_type": "markdown",
   "metadata": {},
   "source": [
    "**Database Project**\n",
    "\n",
    "Step 1: Loading in SQL and then creating the **CourseData.db** database "
   ]
  },
  {
   "cell_type": "code",
   "execution_count": 1,
   "metadata": {},
   "outputs": [],
   "source": [
    "%load_ext sql"
   ]
  },
  {
   "cell_type": "code",
   "execution_count": 2,
   "metadata": {},
   "outputs": [
    {
     "name": "stdout",
     "output_type": "stream",
     "text": [
      "Done.\n",
      "Done.\n",
      "Done.\n",
      "Done.\n",
      "Done.\n"
     ]
    },
    {
     "data": {
      "text/plain": [
       "[]"
      ]
     },
     "execution_count": 2,
     "metadata": {},
     "output_type": "execute_result"
    }
   ],
   "source": [
    "%%sql\n",
    "\n",
    "sqlite:///../FP/CourseData-Copy1.db\n",
    "\n",
    "/* Dropping tables if they already exist */    \n",
    "\n",
    "DROP TABLE IF EXISTS COURSE_OFFERING;\n",
    "DROP TABLE IF EXISTS CATALOG_DESC;\n",
    "DROP TABLE IF EXISTS INSTRUCTOR;\n",
    "DROP TABLE IF EXISTS COURSE_MEETING;\n",
    "DROP TABLE IF EXISTS CATALOG_YEAR_FILL;"
   ]
  },
  {
   "cell_type": "markdown",
   "metadata": {},
   "source": [
    "**Step 2: DML Creating the Tables**"
   ]
  },
  {
   "cell_type": "code",
   "execution_count": 3,
   "metadata": {},
   "outputs": [
    {
     "name": "stdout",
     "output_type": "stream",
     "text": [
      " * sqlite:///../FP/CourseData-Copy1.db\n",
      "Done.\n"
     ]
    },
    {
     "data": {
      "text/plain": [
       "[]"
      ]
     },
     "execution_count": 3,
     "metadata": {},
     "output_type": "execute_result"
    }
   ],
   "source": [
    "%%sql\n",
    "\n",
    "/* Creating table CATALOG_DESC based off of the ERD */\n",
    "\n",
    "CREATE TABLE CATALOG_DESC (\n",
    "    catalog_desc_id INTEGER PRIMARY KEY,\n",
    "    catalog_id TEXT NOT NULL,\n",
    "    program_code TEXT NOT NULL,\n",
    "    program_name TEXT NOT NULL,\n",
    "    course_title TEXT NOT NULL,\n",
    "    credits TEXT NOT NULL,\n",
    "    prereqs TEXT,\n",
    "    coreqs TEXT,\n",
    "    fees TEXT,\n",
    "    attributes TEXT,\n",
    "    description TEXT,\n",
    "    catalog_year TEXT NOT NULL\n",
    ");"
   ]
  },
  {
   "cell_type": "code",
   "execution_count": 4,
   "metadata": {},
   "outputs": [
    {
     "name": "stdout",
     "output_type": "stream",
     "text": [
      " * sqlite:///../FP/CourseData-Copy1.db\n",
      "Done.\n"
     ]
    },
    {
     "data": {
      "text/plain": [
       "[]"
      ]
     },
     "execution_count": 4,
     "metadata": {},
     "output_type": "execute_result"
    }
   ],
   "source": [
    "%%sql\n",
    "\n",
    "/* Creating table INSTRUCTOR based off of the ERD */\n",
    "\n",
    "CREATE TABLE INSTRUCTOR (\n",
    "    instructor_id INTEGER PRIMARY KEY,\n",
    "    primary_instructor TEXT NOT NULL\n",
    ");"
   ]
  },
  {
   "cell_type": "code",
   "execution_count": 5,
   "metadata": {},
   "outputs": [
    {
     "name": "stdout",
     "output_type": "stream",
     "text": [
      " * sqlite:///../FP/CourseData-Copy1.db\n",
      "Done.\n"
     ]
    },
    {
     "data": {
      "text/plain": [
       "[]"
      ]
     },
     "execution_count": 5,
     "metadata": {},
     "output_type": "execute_result"
    }
   ],
   "source": [
    "%%sql\n",
    "\n",
    "/* Creating table COURSE_OFFERING based off of the ERD and specifying Foreign Keys */\n",
    "\n",
    "CREATE TABLE COURSE_OFFERING (\n",
    "    course_offering_id INTEGER PRIMARY KEY,\n",
    "    CRN TEXT NOT NULL,\n",
    "    catalog_id TEXT NOT NULL,\n",
    "    catalog_desc_id INTEGER,\n",
    "    term TEXT NOT NULL,\n",
    "    section TEXT NOT NULL,\n",
    "    title TEXT NOT NULL,\n",
    "    credits INTEGER NOT NULL,\n",
    "    cap INTEGER NOT NULL,\n",
    "    act INTEGER NOT NULL,\n",
    "    rem INTEGER NOT NULL, \n",
    "    meetings TEXT NOT NULL, \n",
    "    timecodes TEXT NOT NULL,\n",
    "    catalog_year TEXT,\n",
    "    instructor_id INTEGER NOT NULL,\n",
    "    FOREIGN KEY (instructor_id) REFERENCES INSTRUCTOR (instructor_id),\n",
    "    FOREIGN KEY (catalog_desc_id) REFERENCES CATALOG_DESC (catalog_desc_id)\n",
    ");"
   ]
  },
  {
   "cell_type": "code",
   "execution_count": 6,
   "metadata": {},
   "outputs": [
    {
     "name": "stdout",
     "output_type": "stream",
     "text": [
      " * sqlite:///../FP/CourseData-Copy1.db\n",
      "Done.\n"
     ]
    },
    {
     "data": {
      "text/plain": [
       "[]"
      ]
     },
     "execution_count": 6,
     "metadata": {},
     "output_type": "execute_result"
    }
   ],
   "source": [
    "%%sql\n",
    "\n",
    "/* Creating table COURSE_MEETING based off of the ERD and specifying Foreign Keys */\n",
    "\n",
    "CREATE TABLE COURSE_MEETING (\n",
    "    meet_id INTEGER PRIMARY KEY,\n",
    "    course_offering_id INTEGER NOT NULL,\n",
    "    CRN TEXT NOT NULL,\n",
    "    term TEXT NOT NULL,\n",
    "    location TEXT, \n",
    "    day TEXT NOT NULL, \n",
    "    start TEXT NOT NULL,\n",
    "    end TEXT NOT NULL,\n",
    "    FOREIGN KEY (course_offering_ID) REFERENCES COURSE_OFFERING (course_offering_ID)\n",
    ");"
   ]
  },
  {
   "cell_type": "code",
   "execution_count": 7,
   "metadata": {},
   "outputs": [
    {
     "name": "stdout",
     "output_type": "stream",
     "text": [
      " * sqlite:///../FP/CourseData-Copy1.db\n",
      "Done.\n"
     ]
    },
    {
     "data": {
      "text/plain": [
       "[]"
      ]
     },
     "execution_count": 7,
     "metadata": {},
     "output_type": "execute_result"
    }
   ],
   "source": [
    "%%sql\n",
    "\n",
    "/* Creating table CATALOG_YEAR_FILL to help us update the CATALOG_DESC */\n",
    "\n",
    "CREATE TABLE CATALOG_YEAR_FILL (\n",
    "    term TEXT NOT NULL,\n",
    "    catalog_year TEXT NOT NULL\n",
    ");"
   ]
  },
  {
   "cell_type": "markdown",
   "metadata": {},
   "source": [
    "**Step 3: DDL Inserting our imported information into our tables**"
   ]
  },
  {
   "cell_type": "code",
   "execution_count": 8,
   "metadata": {},
   "outputs": [
    {
     "name": "stdout",
     "output_type": "stream",
     "text": [
      " * sqlite:///../FP/CourseData-Copy1.db\n",
      "Done.\n"
     ]
    },
    {
     "data": {
      "text/plain": [
       "[]"
      ]
     },
     "execution_count": 8,
     "metadata": {},
     "output_type": "execute_result"
    }
   ],
   "source": [
    "%%sql\n",
    "\n",
    "/* Inserting information into the table to be able to use as a join later */\n",
    "\n",
    "INSERT INTO CATALOG_YEAR_FILL (term, catalog_year) VALUES\n",
    "('Fall2017','2017_2018'), ('Winter2018','2017_2018'), ('Spring2018','2017_2018'), ('SpringBreak2018','2017_2018')\n",
    " , ('Summer2018','2017_2018'), ('Fall2018','2018_2019'), ('Winter2019','2018_2019'), ('Spring2019','2018_2019');"
   ]
  },
  {
   "cell_type": "code",
   "execution_count": 9,
   "metadata": {},
   "outputs": [
    {
     "name": "stdout",
     "output_type": "stream",
     "text": [
      " * sqlite:///../FP/CourseData-Copy1.db\n",
      "Done.\n"
     ]
    },
    {
     "data": {
      "text/plain": [
       "[]"
      ]
     },
     "execution_count": 9,
     "metadata": {},
     "output_type": "execute_result"
    }
   ],
   "source": [
    "%%sql\n",
    "\n",
    "/* Inserting the correct information into the INSTRUCTOR table import_courses \n",
    "based off of our ERD */\n",
    "\n",
    "INSERT INTO INSTRUCTOR (primary_instructor)\n",
    "SELECT DISTINCT primary_instructor\n",
    "FROM import_courses;"
   ]
  },
  {
   "cell_type": "code",
   "execution_count": 10,
   "metadata": {},
   "outputs": [
    {
     "name": "stdout",
     "output_type": "stream",
     "text": [
      " * sqlite:///../FP/CourseData-Copy1.db\n",
      "Done.\n"
     ]
    },
    {
     "data": {
      "text/plain": [
       "[]"
      ]
     },
     "execution_count": 10,
     "metadata": {},
     "output_type": "execute_result"
    }
   ],
   "source": [
    "%%sql\n",
    "\n",
    "/* Inserting the correct information into the CATALOG_DESC table import_catalogs \n",
    "based off of our ERD */\n",
    "\n",
    "INSERT INTO CATALOG_DESC (catalog_id, program_code, program_name, course_title, credits, prereqs, coreqs, fees, attributes, description, catalog_year)\n",
    "SELECT catalog_id, program_code, program_name, course_title, credits, prereqs, coreqs, fees, attributes, description, catalog_year\n",
    "FROM import_catalogs;"
   ]
  },
  {
   "cell_type": "code",
   "execution_count": 11,
   "metadata": {},
   "outputs": [
    {
     "name": "stdout",
     "output_type": "stream",
     "text": [
      " * sqlite:///../FP/CourseData-Copy1.db\n",
      "Done.\n"
     ]
    },
    {
     "data": {
      "text/plain": [
       "[]"
      ]
     },
     "execution_count": 11,
     "metadata": {},
     "output_type": "execute_result"
    }
   ],
   "source": [
    "%%sql\n",
    "\n",
    "/* Inserting the correct information into the COURSE_OFFERING table from import_courses \n",
    "based off of our ERD. Also joining the other tables in our ERD off \n",
    "of their foreign keys */\n",
    "\n",
    "INSERT INTO COURSE_OFFERING (CRN, term, section, title, credits, cap, act, rem, meetings, timecodes, instructor_id, catalog_id, catalog_desc_id, catalog_year)\n",
    "SELECT CRN, term, section, title, import_courses.credits, cap, act, rem, meetings, timecodes, instructor_id, import_courses.catalog_id, catalog_desc_id, CATALOG_YEAR_FILL.catalog_year\n",
    "    FROM import_courses\n",
    "    JOIN INSTRUCTOR ON (import_courses.primary_instructor=INSTRUCTOR.primary_instructor)\n",
    "    LEFT JOIN CATALOG_YEAR_FILL USING (term)\n",
    "    LEFT JOIN CATALOG_DESC ON (import_courses.catalog_id=CATALOG_DESC.catalog_id AND CATALOG_YEAR_FILL.catalog_year=CATALOG_DESC.catalog_year);"
   ]
  },
  {
   "cell_type": "code",
   "execution_count": 12,
   "metadata": {},
   "outputs": [
    {
     "name": "stdout",
     "output_type": "stream",
     "text": [
      " * sqlite:///../FP/CourseData-Copy1.db\n",
      "Done.\n"
     ]
    },
    {
     "data": {
      "text/plain": [
       "[]"
      ]
     },
     "execution_count": 12,
     "metadata": {},
     "output_type": "execute_result"
    }
   ],
   "source": [
    "%%sql\n",
    "\n",
    "/* Inserting the correct information into the INSTRUCTOR table from import_course_meetings\n",
    "based off of our ERD. Also joining the other tables in our ERD off \n",
    "of their foreign keys */\n",
    "\n",
    "INSERT INTO COURSE_MEETING (course_offering_id, CRN, term, location, day, start, end)\n",
    "SELECT DISTINCT course_offering_id, import_course_meetings.CRN, import_course_meetings.term, location, day, start, end\n",
    "    FROM import_course_meetings\n",
    "    JOIN COURSE_OFFERING ON (import_course_meetings.CRN=COURSE_OFFERING.CRN AND import_course_meetings.term=COURSE_OFFERING.term);"
   ]
  },
  {
   "cell_type": "code",
   "execution_count": null,
   "metadata": {},
   "outputs": [],
   "source": []
  }
 ],
 "metadata": {
  "kernelspec": {
   "display_name": "Python 3",
   "language": "python",
   "name": "python3"
  },
  "language_info": {
   "codemirror_mode": {
    "name": "ipython",
    "version": 3
   },
   "file_extension": ".py",
   "mimetype": "text/x-python",
   "name": "python",
   "nbconvert_exporter": "python",
   "pygments_lexer": "ipython3",
   "version": "3.6.5"
  }
 },
 "nbformat": 4,
 "nbformat_minor": 2
}

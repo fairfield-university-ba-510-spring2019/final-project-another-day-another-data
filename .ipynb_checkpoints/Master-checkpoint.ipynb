{
 "cells": [
  {
   "cell_type": "markdown",
   "metadata": {},
   "source": [
    "**Building Tables for the DataBase**"
   ]
  },
  {
   "cell_type": "code",
   "execution_count": 34,
   "metadata": {},
   "outputs": [
    {
     "name": "stdout",
     "output_type": "stream",
     "text": [
      "The sql extension is already loaded. To reload it, use:\n",
      "  %reload_ext sql\n"
     ]
    }
   ],
   "source": [
    "%load_ext sql"
   ]
  },
  {
   "cell_type": "code",
   "execution_count": 35,
   "metadata": {},
   "outputs": [
    {
     "name": "stdout",
     "output_type": "stream",
     "text": [
      "Done.\n",
      "Done.\n",
      "Done.\n",
      "Done.\n",
      "Done.\n"
     ]
    },
    {
     "data": {
      "text/plain": [
       "[]"
      ]
     },
     "execution_count": 35,
     "metadata": {},
     "output_type": "execute_result"
    }
   ],
   "source": [
    "%%sql\n",
    "sqlite:///CourseData.db\n",
    "    \n",
    "DROP TABLE IF EXISTS COURSE_OFFERING;\n",
    "DROP TABLE IF EXISTS CATALOG_DESC;\n",
    "DROP TABLE IF EXISTS INSTRUCTOR;\n",
    "DROP TABLE IF EXISTS COURSE_MEETING;\n",
    "DROP TABLE IF EXISTS CATALOG_YEAR_FILL;"
   ]
  },
  {
   "cell_type": "code",
   "execution_count": 36,
   "metadata": {},
   "outputs": [
    {
     "name": "stdout",
     "output_type": "stream",
     "text": [
      " * sqlite:///CourseData.db\n",
      "Done.\n"
     ]
    },
    {
     "data": {
      "text/plain": [
       "[]"
      ]
     },
     "execution_count": 36,
     "metadata": {},
     "output_type": "execute_result"
    }
   ],
   "source": [
    "%%sql\n",
    "CREATE TABLE CATALOG_DESC (\n",
    "    catalog_desc_id INTEGER PRIMARY KEY,\n",
    "    catalog_id TEXT NOT NULL,\n",
    "    program_code TEXT NOT NULL,\n",
    "    program_name TEXT NOT NULL,\n",
    "    course_title TEXT NOT NULL,\n",
    "    credits TEXT NOT NULL,\n",
    "    prereqs TEXT,\n",
    "    coreqs TEXT,\n",
    "    fees TEXT,\n",
    "    attributes TEXT,\n",
    "    description TEXT,\n",
    "    catalog_year TEXT NOT NULL\n",
    ");"
   ]
  },
  {
   "cell_type": "code",
   "execution_count": 37,
   "metadata": {},
   "outputs": [
    {
     "name": "stdout",
     "output_type": "stream",
     "text": [
      " * sqlite:///CourseData.db\n",
      "Done.\n"
     ]
    },
    {
     "data": {
      "text/plain": [
       "[]"
      ]
     },
     "execution_count": 37,
     "metadata": {},
     "output_type": "execute_result"
    }
   ],
   "source": [
    "%%sql\n",
    "CREATE TABLE INSTRUCTOR (\n",
    "    instructor_id INTEGER PRIMARY KEY,\n",
    "    primary_instructor TEXT NOT NULL\n",
    ");"
   ]
  },
  {
   "cell_type": "code",
   "execution_count": 38,
   "metadata": {},
   "outputs": [
    {
     "name": "stdout",
     "output_type": "stream",
     "text": [
      " * sqlite:///CourseData.db\n",
      "Done.\n"
     ]
    },
    {
     "data": {
      "text/plain": [
       "[]"
      ]
     },
     "execution_count": 38,
     "metadata": {},
     "output_type": "execute_result"
    }
   ],
   "source": [
    "%%sql\n",
    "CREATE TABLE COURSE_OFFERING (\n",
    "    course_offering_id INTEGER PRIMARY KEY,\n",
    "    CRN TEXT NOT NULL,\n",
    "    catalog_desc_id INTEGER,\n",
    "    term TEXT NOT NULL,\n",
    "    section TEXT NOT NULL,\n",
    "    title TEXT NOT NULL,\n",
    "    credits INTEGER NOT NULL,\n",
    "    cap INTEGER NOT NULL,\n",
    "    act INTEGER NOT NULL,\n",
    "    rem INTEGER NOT NULL, \n",
    "    meetings TEXT NOT NULL, \n",
    "    timecodes TEXT NOT NULL,\n",
    "    catalog_year TEXT,\n",
    "    instructor_id INTEGER NOT NULL,\n",
    "    FOREIGN KEY (instructor_id) REFERENCES INSTRUCTOR (instructor_id),\n",
    "    FOREIGN KEY (catalog_desc_id) REFERENCES CATALOG_DESC (catalog_desc_id)\n",
    ");"
   ]
  },
  {
   "cell_type": "code",
   "execution_count": 39,
   "metadata": {},
   "outputs": [
    {
     "name": "stdout",
     "output_type": "stream",
     "text": [
      " * sqlite:///CourseData.db\n",
      "Done.\n"
     ]
    },
    {
     "data": {
      "text/plain": [
       "[]"
      ]
     },
     "execution_count": 39,
     "metadata": {},
     "output_type": "execute_result"
    }
   ],
   "source": [
    "%%sql\n",
    "CREATE TABLE COURSE_MEETING (\n",
    "    meet_id INTEGER PRIMARY KEY,\n",
    "    course_offering_id INTEGER NOT NULL,\n",
    "    CRN TEXT NOT NULL,\n",
    "    term TEXT NOT NULL,\n",
    "    location TEXT, \n",
    "    day TEXT NOT NULL, \n",
    "    start TEXT NOT NULL,\n",
    "    end TEXT NOT NULL,\n",
    "    FOREIGN KEY (course_offering_ID) REFERENCES COURSE_OFFERING (course_offering_ID)\n",
    ");"
   ]
  },
  {
   "cell_type": "code",
   "execution_count": 40,
   "metadata": {},
   "outputs": [
    {
     "name": "stdout",
     "output_type": "stream",
     "text": [
      " * sqlite:///CourseData.db\n",
      "Done.\n"
     ]
    },
    {
     "data": {
      "text/plain": [
       "[]"
      ]
     },
     "execution_count": 40,
     "metadata": {},
     "output_type": "execute_result"
    }
   ],
   "source": [
    "%%sql\n",
    "CREATE TABLE CATALOG_YEAR_FILL (\n",
    "    term TEXT NOT NULL,\n",
    "    catalog_year TEXT NOT NULL\n",
    ");"
   ]
  },
  {
   "cell_type": "code",
   "execution_count": 41,
   "metadata": {},
   "outputs": [
    {
     "name": "stdout",
     "output_type": "stream",
     "text": [
      " * sqlite:///CourseData.db\n",
      "8 rows affected.\n"
     ]
    },
    {
     "data": {
      "text/plain": [
       "[]"
      ]
     },
     "execution_count": 41,
     "metadata": {},
     "output_type": "execute_result"
    }
   ],
   "source": [
    "%%sql\n",
    "INSERT INTO CATALOG_YEAR_FILL (term, catalog_year) VALUES\n",
    "('Fall2017','2017_2018'), ('Winter2018','2017_2018'), ('Spring2018','2017_2018'), ('SpringBreak2018','2017_2018')\n",
    " , ('Summer2018','2017_2018'), ('Fall2018','2018_2019'), ('Winter2019','2018_2019'), ('Spring2019','2018_2019');"
   ]
  },
  {
   "cell_type": "code",
   "execution_count": 42,
   "metadata": {},
   "outputs": [
    {
     "name": "stdout",
     "output_type": "stream",
     "text": [
      " * sqlite:///CourseData.db\n",
      "1105 rows affected.\n"
     ]
    },
    {
     "data": {
      "text/plain": [
       "[]"
      ]
     },
     "execution_count": 42,
     "metadata": {},
     "output_type": "execute_result"
    }
   ],
   "source": [
    "%%sql\n",
    "INSERT INTO INSTRUCTOR (primary_instructor)\n",
    "SELECT DISTINCT primary_instructor\n",
    "FROM import_courses;"
   ]
  },
  {
   "cell_type": "code",
   "execution_count": 43,
   "metadata": {},
   "outputs": [
    {
     "name": "stdout",
     "output_type": "stream",
     "text": [
      " * sqlite:///CourseData.db\n",
      "4441 rows affected.\n"
     ]
    },
    {
     "data": {
      "text/plain": [
       "[]"
      ]
     },
     "execution_count": 43,
     "metadata": {},
     "output_type": "execute_result"
    }
   ],
   "source": [
    "%%sql\n",
    "INSERT INTO CATALOG_DESC (catalog_id, program_code, program_name, course_title, credits, prereqs, coreqs, fees, attributes, description, catalog_year)\n",
    "SELECT catalog_id, program_code, program_name, course_title, credits, prereqs, coreqs, fees, attributes, description, catalog_year\n",
    "FROM import_catalogs;"
   ]
  },
  {
   "cell_type": "code",
   "execution_count": 45,
   "metadata": {},
   "outputs": [
    {
     "name": "stdout",
     "output_type": "stream",
     "text": [
      " * sqlite:///CourseData.db\n",
      "15955 rows affected.\n"
     ]
    },
    {
     "data": {
      "text/plain": [
       "[]"
      ]
     },
     "execution_count": 45,
     "metadata": {},
     "output_type": "execute_result"
    }
   ],
   "source": [
    "%%sql\n",
    "INSERT INTO COURSE_OFFERING (CRN, term, section, title, credits, cap, act, rem, meetings, timecodes, instructor_id, catalog_desc_id, catalog_year)\n",
    "SELECT CRN, term, section, title, import_courses.credits, cap, act, rem, meetings, timecodes, instructor_id, catalog_desc_id, CATALOG_YEAR_FILL.catalog_year\n",
    "    FROM import_courses\n",
    "    JOIN INSTRUCTOR ON (import_courses.primary_instructor=INSTRUCTOR.primary_instructor)\n",
    "    LEFT JOIN CATALOG_YEAR_FILL USING (term)\n",
    "    LEFT JOIN CATALOG_DESC ON (import_courses.catalog_id=CATALOG_DESC.catalog_id AND CATALOG_YEAR_FILL.catalog_year=CATALOG_DESC.catalog_year);"
   ]
  },
  {
   "cell_type": "code",
   "execution_count": 46,
   "metadata": {},
   "outputs": [
    {
     "name": "stdout",
     "output_type": "stream",
     "text": [
      " * sqlite:///CourseData.db\n",
      "311159 rows affected.\n"
     ]
    },
    {
     "data": {
      "text/plain": [
       "[]"
      ]
     },
     "execution_count": 46,
     "metadata": {},
     "output_type": "execute_result"
    }
   ],
   "source": [
    "%%sql\n",
    "INSERT INTO COURSE_MEETING (course_offering_id, CRN, term, location, day, start, end)\n",
    "SELECT DISTINCT course_offering_id, import_course_meetings.CRN, import_course_meetings.term, location, day, start, end\n",
    "    FROM import_course_meetings\n",
    "    JOIN COURSE_OFFERING ON (import_course_meetings.CRN=COURSE_OFFERING.CRN AND import_course_meetings.term=COURSE_OFFERING.term);"
   ]
  },
  {
   "cell_type": "code",
   "execution_count": 47,
   "metadata": {},
   "outputs": [
    {
     "name": "stdout",
     "output_type": "stream",
     "text": [
      " * sqlite:///CourseData.db\n",
      "Done.\n"
     ]
    },
    {
     "data": {
      "text/html": [
       "<table>\n",
       "    <tr>\n",
       "        <th>COUNT(*)</th>\n",
       "    </tr>\n",
       "    <tr>\n",
       "        <td>317339</td>\n",
       "    </tr>\n",
       "</table>"
      ],
      "text/plain": [
       "[(317339,)]"
      ]
     },
     "execution_count": 47,
     "metadata": {},
     "output_type": "execute_result"
    }
   ],
   "source": [
    "%%sql\n",
    "SELECT COUNT(*)\n",
    "FROM import_course_meetings;"
   ]
  },
  {
   "cell_type": "code",
   "execution_count": 56,
   "metadata": {},
   "outputs": [
    {
     "name": "stdout",
     "output_type": "stream",
     "text": [
      " * sqlite:///CourseData.db\n",
      "Done.\n"
     ]
    },
    {
     "data": {
      "text/html": [
       "<table>\n",
       "    <tr>\n",
       "        <th>Teacher</th>\n",
       "        <th>No_Sections</th>\n",
       "    </tr>\n",
       "    <tr>\n",
       "        <td>Nicole Elizabeth  Heller</td>\n",
       "        <td>53</td>\n",
       "    </tr>\n",
       "    <tr>\n",
       "        <td>Anthony J.  DeCristofaro</td>\n",
       "        <td>5</td>\n",
       "    </tr>\n",
       "    <tr>\n",
       "        <td>Christine   Earls</td>\n",
       "        <td>5</td>\n",
       "    </tr>\n",
       "    <tr>\n",
       "        <td>Christine R.  Rodriguez</td>\n",
       "        <td>5</td>\n",
       "    </tr>\n",
       "    <tr>\n",
       "        <td>Michael Walden  Creane</td>\n",
       "        <td>5</td>\n",
       "    </tr>\n",
       "    <tr>\n",
       "        <td>Nancy A.  Moriber</td>\n",
       "        <td>5</td>\n",
       "    </tr>\n",
       "    <tr>\n",
       "        <td>Qin   Zhang</td>\n",
       "        <td>5</td>\n",
       "    </tr>\n",
       "    <tr>\n",
       "        <td>Sonya R.  Huber</td>\n",
       "        <td>5</td>\n",
       "    </tr>\n",
       "    <tr>\n",
       "        <td>William F.  Vasquez Mazariegos</td>\n",
       "        <td>5</td>\n",
       "    </tr>\n",
       "    <tr>\n",
       "        <td>Anderson   Weekes</td>\n",
       "        <td>4</td>\n",
       "    </tr>\n",
       "</table>"
      ],
      "text/plain": [
       "[('Nicole Elizabeth  Heller', 53),\n",
       " ('Anthony J.  DeCristofaro', 5),\n",
       " ('Christine   Earls', 5),\n",
       " ('Christine R.  Rodriguez', 5),\n",
       " ('Michael Walden  Creane', 5),\n",
       " ('Nancy A.  Moriber', 5),\n",
       " ('Qin   Zhang', 5),\n",
       " ('Sonya R.  Huber', 5),\n",
       " ('William F.  Vasquez Mazariegos', 5),\n",
       " ('Anderson   Weekes', 4)]"
      ]
     },
     "execution_count": 56,
     "metadata": {},
     "output_type": "execute_result"
    }
   ],
   "source": [
    "%%sql\n",
    "SELECT DISTINCT (primary_instructor) AS Teacher, COUNT(section) AS No_Sections\n",
    "FROM COURSE_OFFERING\n",
    "JOIN INSTRUCTOR ON (COURSE_OFFERING.instructor_id=INSTRUCTOR.instructor_id)\n",
    "WHERE act > 10 AND term = 'Fall2018'\n",
    "GROUP BY primary_instructor\n",
    "ORDER BY No_sections DESC\n",
    "LIMIT 10;"
   ]
  },
  {
   "cell_type": "code",
   "execution_count": 66,
   "metadata": {},
   "outputs": [
    {
     "name": "stdout",
     "output_type": "stream",
     "text": [
      " * sqlite:///CourseData.db\n",
      "Done.\n",
      "Done.\n",
      "Done.\n"
     ]
    },
    {
     "data": {
      "text/plain": [
       "[]"
      ]
     },
     "execution_count": 66,
     "metadata": {},
     "output_type": "execute_result"
    }
   ],
   "source": [
    "%%sql\n",
    "DROP TABLE import_courses;\n",
    "DROP TABLE import_course_meetings;\n",
    "DROP TABLE import_catalogs;"
   ]
  },
  {
   "cell_type": "code",
   "execution_count": 69,
   "metadata": {},
   "outputs": [
    {
     "name": "stdout",
     "output_type": "stream",
     "text": [
      " * sqlite:///CourseData.db\n",
      "Done.\n"
     ]
    },
    {
     "data": {
      "text/html": [
       "<table>\n",
       "    <tr>\n",
       "        <th>Teacher</th>\n",
       "        <th>Class</th>\n",
       "        <th>day</th>\n",
       "        <th>start</th>\n",
       "        <th>end</th>\n",
       "    </tr>\n",
       "    <tr>\n",
       "        <td>Christopher L.  Huntley</td>\n",
       "        <td>Databases for Business Analytics</td>\n",
       "        <td>T</td>\n",
       "        <td>2019-01-29T18:30:00</td>\n",
       "        <td>2019-01-29T21:30:00</td>\n",
       "    </tr>\n",
       "    <tr>\n",
       "        <td>Christopher L.  Huntley</td>\n",
       "        <td>Databases for Business Analytics</td>\n",
       "        <td>T</td>\n",
       "        <td>2019-02-05T18:30:00</td>\n",
       "        <td>2019-02-05T21:30:00</td>\n",
       "    </tr>\n",
       "    <tr>\n",
       "        <td>Christopher L.  Huntley</td>\n",
       "        <td>Databases for Business Analytics</td>\n",
       "        <td>T</td>\n",
       "        <td>2019-02-12T18:30:00</td>\n",
       "        <td>2019-02-12T21:30:00</td>\n",
       "    </tr>\n",
       "    <tr>\n",
       "        <td>Christopher L.  Huntley</td>\n",
       "        <td>Databases for Business Analytics</td>\n",
       "        <td>T</td>\n",
       "        <td>2019-02-26T18:30:00</td>\n",
       "        <td>2019-02-26T21:30:00</td>\n",
       "    </tr>\n",
       "    <tr>\n",
       "        <td>Christopher L.  Huntley</td>\n",
       "        <td>Databases for Business Analytics</td>\n",
       "        <td>T</td>\n",
       "        <td>2019-03-05T18:30:00</td>\n",
       "        <td>2019-03-05T21:30:00</td>\n",
       "    </tr>\n",
       "    <tr>\n",
       "        <td>Christopher L.  Huntley</td>\n",
       "        <td>Databases for Business Analytics</td>\n",
       "        <td>T</td>\n",
       "        <td>2019-03-12T18:30:00</td>\n",
       "        <td>2019-03-12T21:30:00</td>\n",
       "    </tr>\n",
       "    <tr>\n",
       "        <td>Christopher L.  Huntley</td>\n",
       "        <td>Databases for Business Analytics</td>\n",
       "        <td>T</td>\n",
       "        <td>2019-01-29T09:00:00</td>\n",
       "        <td>2019-01-29T16:00:00</td>\n",
       "    </tr>\n",
       "    <tr>\n",
       "        <td>Christopher L.  Huntley</td>\n",
       "        <td>Databases for Business Analytics</td>\n",
       "        <td>T</td>\n",
       "        <td>2019-02-05T09:00:00</td>\n",
       "        <td>2019-02-05T16:00:00</td>\n",
       "    </tr>\n",
       "    <tr>\n",
       "        <td>Christopher L.  Huntley</td>\n",
       "        <td>Databases for Business Analytics</td>\n",
       "        <td>T</td>\n",
       "        <td>2019-02-12T09:00:00</td>\n",
       "        <td>2019-02-12T16:00:00</td>\n",
       "    </tr>\n",
       "    <tr>\n",
       "        <td>Christopher L.  Huntley</td>\n",
       "        <td>Databases for Business Analytics</td>\n",
       "        <td>T</td>\n",
       "        <td>2019-02-26T09:00:00</td>\n",
       "        <td>2019-02-26T16:00:00</td>\n",
       "    </tr>\n",
       "    <tr>\n",
       "        <td>Christopher L.  Huntley</td>\n",
       "        <td>Databases for Business Analytics</td>\n",
       "        <td>T</td>\n",
       "        <td>2019-03-05T09:00:00</td>\n",
       "        <td>2019-03-05T16:00:00</td>\n",
       "    </tr>\n",
       "    <tr>\n",
       "        <td>Christopher L.  Huntley</td>\n",
       "        <td>Databases for Business Analytics</td>\n",
       "        <td>T</td>\n",
       "        <td>2019-03-12T09:00:00</td>\n",
       "        <td>2019-03-12T16:00:00</td>\n",
       "    </tr>\n",
       "    <tr>\n",
       "        <td>Christopher L.  Huntley</td>\n",
       "        <td>Databases for Business Analytics</td>\n",
       "        <td>S</td>\n",
       "        <td>2019-02-02T09:00:00</td>\n",
       "        <td>2019-02-02T16:00:00</td>\n",
       "    </tr>\n",
       "    <tr>\n",
       "        <td>Christopher L.  Huntley</td>\n",
       "        <td>Databases for Business Analytics</td>\n",
       "        <td>S</td>\n",
       "        <td>2019-02-16T09:00:00</td>\n",
       "        <td>2019-02-16T16:00:00</td>\n",
       "    </tr>\n",
       "    <tr>\n",
       "        <td>Christopher L.  Huntley</td>\n",
       "        <td>Databases for Business Analytics</td>\n",
       "        <td>S</td>\n",
       "        <td>2019-03-09T09:00:00</td>\n",
       "        <td>2019-03-09T16:00:00</td>\n",
       "    </tr>\n",
       "</table>"
      ],
      "text/plain": [
       "[('Christopher L.  Huntley', 'Databases for Business Analytics', 'T', '2019-01-29T18:30:00', '2019-01-29T21:30:00'),\n",
       " ('Christopher L.  Huntley', 'Databases for Business Analytics', 'T', '2019-02-05T18:30:00', '2019-02-05T21:30:00'),\n",
       " ('Christopher L.  Huntley', 'Databases for Business Analytics', 'T', '2019-02-12T18:30:00', '2019-02-12T21:30:00'),\n",
       " ('Christopher L.  Huntley', 'Databases for Business Analytics', 'T', '2019-02-26T18:30:00', '2019-02-26T21:30:00'),\n",
       " ('Christopher L.  Huntley', 'Databases for Business Analytics', 'T', '2019-03-05T18:30:00', '2019-03-05T21:30:00'),\n",
       " ('Christopher L.  Huntley', 'Databases for Business Analytics', 'T', '2019-03-12T18:30:00', '2019-03-12T21:30:00'),\n",
       " ('Christopher L.  Huntley', 'Databases for Business Analytics', 'T', '2019-01-29T09:00:00', '2019-01-29T16:00:00'),\n",
       " ('Christopher L.  Huntley', 'Databases for Business Analytics', 'T', '2019-02-05T09:00:00', '2019-02-05T16:00:00'),\n",
       " ('Christopher L.  Huntley', 'Databases for Business Analytics', 'T', '2019-02-12T09:00:00', '2019-02-12T16:00:00'),\n",
       " ('Christopher L.  Huntley', 'Databases for Business Analytics', 'T', '2019-02-26T09:00:00', '2019-02-26T16:00:00'),\n",
       " ('Christopher L.  Huntley', 'Databases for Business Analytics', 'T', '2019-03-05T09:00:00', '2019-03-05T16:00:00'),\n",
       " ('Christopher L.  Huntley', 'Databases for Business Analytics', 'T', '2019-03-12T09:00:00', '2019-03-12T16:00:00'),\n",
       " ('Christopher L.  Huntley', 'Databases for Business Analytics', 'S', '2019-02-02T09:00:00', '2019-02-02T16:00:00'),\n",
       " ('Christopher L.  Huntley', 'Databases for Business Analytics', 'S', '2019-02-16T09:00:00', '2019-02-16T16:00:00'),\n",
       " ('Christopher L.  Huntley', 'Databases for Business Analytics', 'S', '2019-03-09T09:00:00', '2019-03-09T16:00:00')]"
      ]
     },
     "execution_count": 69,
     "metadata": {},
     "output_type": "execute_result"
    }
   ],
   "source": [
    "%%sql\n",
    "SELECT primary_instructor AS Teacher, title AS Class, day, start, end\n",
    "FROM COURSE_OFFERING\n",
    "JOIN INSTRUCTOR ON (COURSE_OFFERING.instructor_id=INSTRUCTOR.instructor_id)\n",
    "JOIN COURSE_MEETING ON (COURSE_OFFERING.course_offering_id=COURSE_MEETING.course_offering_id)\n",
    "WHERE COURSE_OFFERING.CRN = '39006' AND COURSE_OFFERING.term = 'Spring2019';"
   ]
  },
  {
   "cell_type": "code",
   "execution_count": 70,
   "metadata": {},
   "outputs": [
    {
     "name": "stdout",
     "output_type": "stream",
     "text": [
      " * sqlite:///CourseData.db\n",
      "Done.\n"
     ]
    },
    {
     "data": {
      "text/html": [
       "<table>\n",
       "    <tr>\n",
       "        <th>Teacher</th>\n",
       "        <th>No_Sections</th>\n",
       "    </tr>\n",
       "    <tr>\n",
       "        <td>Nicole Elizabeth  Heller</td>\n",
       "        <td>53</td>\n",
       "    </tr>\n",
       "    <tr>\n",
       "        <td>Anthony J.  DeCristofaro</td>\n",
       "        <td>5</td>\n",
       "    </tr>\n",
       "    <tr>\n",
       "        <td>Christine   Earls</td>\n",
       "        <td>5</td>\n",
       "    </tr>\n",
       "    <tr>\n",
       "        <td>Christine R.  Rodriguez</td>\n",
       "        <td>5</td>\n",
       "    </tr>\n",
       "    <tr>\n",
       "        <td>Michael Walden  Creane</td>\n",
       "        <td>5</td>\n",
       "    </tr>\n",
       "    <tr>\n",
       "        <td>Nancy A.  Moriber</td>\n",
       "        <td>5</td>\n",
       "    </tr>\n",
       "    <tr>\n",
       "        <td>Qin   Zhang</td>\n",
       "        <td>5</td>\n",
       "    </tr>\n",
       "    <tr>\n",
       "        <td>Sonya R.  Huber</td>\n",
       "        <td>5</td>\n",
       "    </tr>\n",
       "    <tr>\n",
       "        <td>William F.  Vasquez Mazariegos</td>\n",
       "        <td>5</td>\n",
       "    </tr>\n",
       "    <tr>\n",
       "        <td>Anderson   Weekes</td>\n",
       "        <td>4</td>\n",
       "    </tr>\n",
       "</table>"
      ],
      "text/plain": [
       "[('Nicole Elizabeth  Heller', 53),\n",
       " ('Anthony J.  DeCristofaro', 5),\n",
       " ('Christine   Earls', 5),\n",
       " ('Christine R.  Rodriguez', 5),\n",
       " ('Michael Walden  Creane', 5),\n",
       " ('Nancy A.  Moriber', 5),\n",
       " ('Qin   Zhang', 5),\n",
       " ('Sonya R.  Huber', 5),\n",
       " ('William F.  Vasquez Mazariegos', 5),\n",
       " ('Anderson   Weekes', 4)]"
      ]
     },
     "execution_count": 70,
     "metadata": {},
     "output_type": "execute_result"
    }
   ],
   "source": [
    "%%sql\n",
    "SELECT DISTINCT (primary_instructor) AS Teacher, COUNT(section) AS No_Sections\n",
    "FROM COURSE_OFFERING\n",
    "JOIN INSTRUCTOR ON (COURSE_OFFERING.instructor_id=INSTRUCTOR.instructor_id)\n",
    "WHERE act > 10 AND term = 'Fall2018'\n",
    "GROUP BY primary_instructor\n",
    "ORDER BY No_sections DESC\n",
    "LIMIT 10;"
   ]
  },
  {
   "cell_type": "code",
   "execution_count": 105,
   "metadata": {},
   "outputs": [
    {
     "ename": "SyntaxError",
     "evalue": "invalid syntax (<ipython-input-105-68ec2f406eab>, line 2)",
     "output_type": "error",
     "traceback": [
      "\u001b[0;36m  File \u001b[0;32m\"<ipython-input-105-68ec2f406eab>\"\u001b[0;36m, line \u001b[0;32m2\u001b[0m\n\u001b[0;31m    SELECT DISTINCT(COURSE_OFFERING.instructor_id), primary_instructor AS Teacher, program_name AS Department\u001b[0m\n\u001b[0m                  ^\u001b[0m\n\u001b[0;31mSyntaxError\u001b[0m\u001b[0;31m:\u001b[0m invalid syntax\n"
     ]
    }
   ],
   "source": [
    "#%%sql\n",
    "SELECT DISTINCT(COURSE_OFFERING.instructor_id), primary_instructor AS Teacher, program_name AS Department\n",
    "FROM COURSE_OFFERING\n",
    "JOIN INSTRUCTOR ON (INSTRUCTOR.instructor_id=COURSE_OFFERING.instructor_id) \n",
    "JOIN CATALOG_DESC ON (CATALOG_DESC.catalog_desc_id=COURSE_OFFERING.catalog_desc_id)\n",
    "ORDER BY COURSE_OFFERING.instructor_id\n"
   ]
  },
  {
   "cell_type": "code",
   "execution_count": 106,
   "metadata": {},
   "outputs": [],
   "source": [
    "import pandas as pd\n",
    "from sqlalchemy import create_engine\n",
    "engine = create_engine(\"sqlite:///CourseData.db\")\n",
    "with engine.connect() as conn, conn.begin():\n",
    "    teacher_department = pd.read_sql('SELECT DISTINCT(COURSE_OFFERING.instructor_id), primary_instructor AS Teacher, program_name AS Department FROM COURSE_OFFERING JOIN INSTRUCTOR ON (INSTRUCTOR.instructor_id=COURSE_OFFERING.instructor_id) JOIN CATALOG_DESC ON (CATALOG_DESC.catalog_desc_id=COURSE_OFFERING.catalog_desc_id) ORDER BY COURSE_OFFERING.instructor_id;', conn) "
   ]
  },
  {
   "cell_type": "code",
   "execution_count": 107,
   "metadata": {},
   "outputs": [
    {
     "data": {
      "text/html": [
       "<div>\n",
       "<style scoped>\n",
       "    .dataframe tbody tr th:only-of-type {\n",
       "        vertical-align: middle;\n",
       "    }\n",
       "\n",
       "    .dataframe tbody tr th {\n",
       "        vertical-align: top;\n",
       "    }\n",
       "\n",
       "    .dataframe thead th {\n",
       "        text-align: right;\n",
       "    }\n",
       "</style>\n",
       "<table border=\"1\" class=\"dataframe\">\n",
       "  <thead>\n",
       "    <tr style=\"text-align: right;\">\n",
       "      <th></th>\n",
       "      <th>instructor_id</th>\n",
       "      <th>Teacher</th>\n",
       "      <th>Department</th>\n",
       "    </tr>\n",
       "  </thead>\n",
       "  <tbody>\n",
       "    <tr>\n",
       "      <th>0</th>\n",
       "      <td>1</td>\n",
       "      <td>Michael P.  Coyne</td>\n",
       "      <td>Accounting</td>\n",
       "    </tr>\n",
       "    <tr>\n",
       "      <th>1</th>\n",
       "      <td>2</td>\n",
       "      <td>Rebecca I.  Bloch</td>\n",
       "      <td>Accounting</td>\n",
       "    </tr>\n",
       "    <tr>\n",
       "      <th>2</th>\n",
       "      <td>3</td>\n",
       "      <td>Paul   Caster</td>\n",
       "      <td>Accounting</td>\n",
       "    </tr>\n",
       "    <tr>\n",
       "      <th>3</th>\n",
       "      <td>4</td>\n",
       "      <td>Jo Ann   Drusbosky</td>\n",
       "      <td>Accounting</td>\n",
       "    </tr>\n",
       "    <tr>\n",
       "      <th>4</th>\n",
       "      <td>5</td>\n",
       "      <td>Arleen N.  Kardos</td>\n",
       "      <td>Accounting</td>\n",
       "    </tr>\n",
       "    <tr>\n",
       "      <th>5</th>\n",
       "      <td>6</td>\n",
       "      <td>Scott M  Brenner</td>\n",
       "      <td>Accounting</td>\n",
       "    </tr>\n",
       "    <tr>\n",
       "      <th>6</th>\n",
       "      <td>8</td>\n",
       "      <td>Bruce   Bradford</td>\n",
       "      <td>Accounting</td>\n",
       "    </tr>\n",
       "    <tr>\n",
       "      <th>7</th>\n",
       "      <td>9</td>\n",
       "      <td>Milo W.  Peck</td>\n",
       "      <td>Accounting</td>\n",
       "    </tr>\n",
       "    <tr>\n",
       "      <th>8</th>\n",
       "      <td>10</td>\n",
       "      <td>Stephen E.  Yost</td>\n",
       "      <td>Accounting</td>\n",
       "    </tr>\n",
       "    <tr>\n",
       "      <th>9</th>\n",
       "      <td>10</td>\n",
       "      <td>Stephen E.  Yost</td>\n",
       "      <td>Management</td>\n",
       "    </tr>\n",
       "    <tr>\n",
       "      <th>10</th>\n",
       "      <td>11</td>\n",
       "      <td>Ahmed M.  Ebrahim</td>\n",
       "      <td>Accounting</td>\n",
       "    </tr>\n",
       "    <tr>\n",
       "      <th>11</th>\n",
       "      <td>12</td>\n",
       "      <td>Kathi M.  Mettler</td>\n",
       "      <td>Taxation</td>\n",
       "    </tr>\n",
       "    <tr>\n",
       "      <th>12</th>\n",
       "      <td>12</td>\n",
       "      <td>Kathi M.  Mettler</td>\n",
       "      <td>Accounting</td>\n",
       "    </tr>\n",
       "    <tr>\n",
       "      <th>13</th>\n",
       "      <td>14</td>\n",
       "      <td>Patricia M.  Poli</td>\n",
       "      <td>Accounting</td>\n",
       "    </tr>\n",
       "    <tr>\n",
       "      <th>14</th>\n",
       "      <td>15</td>\n",
       "      <td>Joan L.  Lee</td>\n",
       "      <td>Accounting</td>\n",
       "    </tr>\n",
       "    <tr>\n",
       "      <th>15</th>\n",
       "      <td>15</td>\n",
       "      <td>Joan L.  Lee</td>\n",
       "      <td>Applied Ethics</td>\n",
       "    </tr>\n",
       "    <tr>\n",
       "      <th>16</th>\n",
       "      <td>16</td>\n",
       "      <td>Dawn W  Massey</td>\n",
       "      <td>Accounting</td>\n",
       "    </tr>\n",
       "    <tr>\n",
       "      <th>17</th>\n",
       "      <td>17</td>\n",
       "      <td>Anna M.  Lawrence</td>\n",
       "      <td>Black Studies</td>\n",
       "    </tr>\n",
       "    <tr>\n",
       "      <th>18</th>\n",
       "      <td>17</td>\n",
       "      <td>Anna M.  Lawrence</td>\n",
       "      <td>History</td>\n",
       "    </tr>\n",
       "    <tr>\n",
       "      <th>19</th>\n",
       "      <td>17</td>\n",
       "      <td>Anna M.  Lawrence</td>\n",
       "      <td>Women, Gender, and Sexuality Studies</td>\n",
       "    </tr>\n",
       "    <tr>\n",
       "      <th>20</th>\n",
       "      <td>17</td>\n",
       "      <td>Anna M.  Lawrence</td>\n",
       "      <td>American Studies</td>\n",
       "    </tr>\n",
       "    <tr>\n",
       "      <th>21</th>\n",
       "      <td>18</td>\n",
       "      <td>Cecelia F.  Bucki</td>\n",
       "      <td>History</td>\n",
       "    </tr>\n",
       "    <tr>\n",
       "      <th>22</th>\n",
       "      <td>18</td>\n",
       "      <td>Cecelia F.  Bucki</td>\n",
       "      <td>American Studies</td>\n",
       "    </tr>\n",
       "    <tr>\n",
       "      <th>23</th>\n",
       "      <td>19</td>\n",
       "      <td>Sally E.  O'Driscoll</td>\n",
       "      <td>English</td>\n",
       "    </tr>\n",
       "    <tr>\n",
       "      <th>24</th>\n",
       "      <td>20</td>\n",
       "      <td>Martha S.  LoMonaco</td>\n",
       "      <td>Theatre</td>\n",
       "    </tr>\n",
       "    <tr>\n",
       "      <th>25</th>\n",
       "      <td>20</td>\n",
       "      <td>Martha S.  LoMonaco</td>\n",
       "      <td>American Studies</td>\n",
       "    </tr>\n",
       "    <tr>\n",
       "      <th>26</th>\n",
       "      <td>20</td>\n",
       "      <td>Martha S.  LoMonaco</td>\n",
       "      <td>English</td>\n",
       "    </tr>\n",
       "    <tr>\n",
       "      <th>27</th>\n",
       "      <td>20</td>\n",
       "      <td>Martha S.  LoMonaco</td>\n",
       "      <td>Honors</td>\n",
       "    </tr>\n",
       "    <tr>\n",
       "      <th>28</th>\n",
       "      <td>21</td>\n",
       "      <td>Scott M.  Lacy</td>\n",
       "      <td>Anthropology</td>\n",
       "    </tr>\n",
       "    <tr>\n",
       "      <th>29</th>\n",
       "      <td>22</td>\n",
       "      <td>David   Crawford</td>\n",
       "      <td>Anthropology</td>\n",
       "    </tr>\n",
       "    <tr>\n",
       "      <th>...</th>\n",
       "      <td>...</td>\n",
       "      <td>...</td>\n",
       "      <td>...</td>\n",
       "    </tr>\n",
       "    <tr>\n",
       "      <th>982</th>\n",
       "      <td>1076</td>\n",
       "      <td>Darly   George</td>\n",
       "      <td>Biology</td>\n",
       "    </tr>\n",
       "    <tr>\n",
       "      <th>983</th>\n",
       "      <td>1078</td>\n",
       "      <td>Mehrnaz   Kamal</td>\n",
       "      <td>Chemistry</td>\n",
       "    </tr>\n",
       "    <tr>\n",
       "      <th>984</th>\n",
       "      <td>1079</td>\n",
       "      <td>Karla   Barguiarena</td>\n",
       "      <td>Communication</td>\n",
       "    </tr>\n",
       "    <tr>\n",
       "      <th>985</th>\n",
       "      <td>1080</td>\n",
       "      <td>Derek   Demilio</td>\n",
       "      <td>Communication</td>\n",
       "    </tr>\n",
       "    <tr>\n",
       "      <th>986</th>\n",
       "      <td>1081</td>\n",
       "      <td>Ayanna   Eastman</td>\n",
       "      <td>Communication</td>\n",
       "    </tr>\n",
       "    <tr>\n",
       "      <th>987</th>\n",
       "      <td>1082</td>\n",
       "      <td>Mary Ellen   Staudt</td>\n",
       "      <td>Counseling</td>\n",
       "    </tr>\n",
       "    <tr>\n",
       "      <th>988</th>\n",
       "      <td>1083</td>\n",
       "      <td>Vanessa   Liles</td>\n",
       "      <td>Education</td>\n",
       "    </tr>\n",
       "    <tr>\n",
       "      <th>989</th>\n",
       "      <td>1084</td>\n",
       "      <td>Asia   Goubourn</td>\n",
       "      <td>Education</td>\n",
       "    </tr>\n",
       "    <tr>\n",
       "      <th>990</th>\n",
       "      <td>1085</td>\n",
       "      <td>Patricia   Crisafulli</td>\n",
       "      <td>Education</td>\n",
       "    </tr>\n",
       "    <tr>\n",
       "      <th>991</th>\n",
       "      <td>1086</td>\n",
       "      <td>Claudia   Calhoun</td>\n",
       "      <td>Film, Television, and Media Arts</td>\n",
       "    </tr>\n",
       "    <tr>\n",
       "      <th>992</th>\n",
       "      <td>1087</td>\n",
       "      <td>Caitlin   Casiello</td>\n",
       "      <td>Film, Television, and Media Arts</td>\n",
       "    </tr>\n",
       "    <tr>\n",
       "      <th>993</th>\n",
       "      <td>1088</td>\n",
       "      <td>Nathan   Silver</td>\n",
       "      <td>Film, Television, and Media Arts</td>\n",
       "    </tr>\n",
       "    <tr>\n",
       "      <th>994</th>\n",
       "      <td>1090</td>\n",
       "      <td>Walter   Rankin</td>\n",
       "      <td>French</td>\n",
       "    </tr>\n",
       "    <tr>\n",
       "      <th>995</th>\n",
       "      <td>1090</td>\n",
       "      <td>Walter   Rankin</td>\n",
       "      <td>German</td>\n",
       "    </tr>\n",
       "    <tr>\n",
       "      <th>996</th>\n",
       "      <td>1090</td>\n",
       "      <td>Walter   Rankin</td>\n",
       "      <td>Italian</td>\n",
       "    </tr>\n",
       "    <tr>\n",
       "      <th>997</th>\n",
       "      <td>1091</td>\n",
       "      <td>Jennifer C.  Slack Gans</td>\n",
       "      <td>Family Therapy</td>\n",
       "    </tr>\n",
       "    <tr>\n",
       "      <th>998</th>\n",
       "      <td>1092</td>\n",
       "      <td>Ann Marie  Cook</td>\n",
       "      <td>Nursing</td>\n",
       "    </tr>\n",
       "    <tr>\n",
       "      <th>999</th>\n",
       "      <td>1093</td>\n",
       "      <td>Marian Lois   Villaflor</td>\n",
       "      <td>Nursing</td>\n",
       "    </tr>\n",
       "    <tr>\n",
       "      <th>1000</th>\n",
       "      <td>1094</td>\n",
       "      <td>Clare Marie  O'Leary</td>\n",
       "      <td>Nursing</td>\n",
       "    </tr>\n",
       "    <tr>\n",
       "      <th>1001</th>\n",
       "      <td>1095</td>\n",
       "      <td>Lisa   Guardino</td>\n",
       "      <td>Nursing</td>\n",
       "    </tr>\n",
       "    <tr>\n",
       "      <th>1002</th>\n",
       "      <td>1096</td>\n",
       "      <td>Katherine   Sadighi</td>\n",
       "      <td>Nursing</td>\n",
       "    </tr>\n",
       "    <tr>\n",
       "      <th>1003</th>\n",
       "      <td>1097</td>\n",
       "      <td>Jessica   Marraffa</td>\n",
       "      <td>Nursing</td>\n",
       "    </tr>\n",
       "    <tr>\n",
       "      <th>1004</th>\n",
       "      <td>1098</td>\n",
       "      <td>John Joseph  DiGiacomo</td>\n",
       "      <td>Nursing</td>\n",
       "    </tr>\n",
       "    <tr>\n",
       "      <th>1005</th>\n",
       "      <td>1099</td>\n",
       "      <td>Patricia   Trowbridge</td>\n",
       "      <td>Portuguese</td>\n",
       "    </tr>\n",
       "    <tr>\n",
       "      <th>1006</th>\n",
       "      <td>1100</td>\n",
       "      <td>William H.  Johnson</td>\n",
       "      <td>Psychology</td>\n",
       "    </tr>\n",
       "    <tr>\n",
       "      <th>1007</th>\n",
       "      <td>1101</td>\n",
       "      <td>Christine S.  Peck</td>\n",
       "      <td>Psychology</td>\n",
       "    </tr>\n",
       "    <tr>\n",
       "      <th>1008</th>\n",
       "      <td>1102</td>\n",
       "      <td>Maureen   Ruby</td>\n",
       "      <td>Reading and Language Development</td>\n",
       "    </tr>\n",
       "    <tr>\n",
       "      <th>1009</th>\n",
       "      <td>1103</td>\n",
       "      <td>Tonya   Lee</td>\n",
       "      <td>Studio Art</td>\n",
       "    </tr>\n",
       "    <tr>\n",
       "      <th>1010</th>\n",
       "      <td>1104</td>\n",
       "      <td>Karl G.  Ruling</td>\n",
       "      <td>Theatre</td>\n",
       "    </tr>\n",
       "    <tr>\n",
       "      <th>1011</th>\n",
       "      <td>1105</td>\n",
       "      <td>Lynne   Chase</td>\n",
       "      <td>Theatre</td>\n",
       "    </tr>\n",
       "  </tbody>\n",
       "</table>\n",
       "<p>1012 rows × 3 columns</p>\n",
       "</div>"
      ],
      "text/plain": [
       "      instructor_id                  Teacher  \\\n",
       "0                 1        Michael P.  Coyne   \n",
       "1                 2        Rebecca I.  Bloch   \n",
       "2                 3            Paul   Caster   \n",
       "3                 4       Jo Ann   Drusbosky   \n",
       "4                 5        Arleen N.  Kardos   \n",
       "5                 6         Scott M  Brenner   \n",
       "6                 8         Bruce   Bradford   \n",
       "7                 9            Milo W.  Peck   \n",
       "8                10         Stephen E.  Yost   \n",
       "9                10         Stephen E.  Yost   \n",
       "10               11        Ahmed M.  Ebrahim   \n",
       "11               12        Kathi M.  Mettler   \n",
       "12               12        Kathi M.  Mettler   \n",
       "13               14        Patricia M.  Poli   \n",
       "14               15             Joan L.  Lee   \n",
       "15               15             Joan L.  Lee   \n",
       "16               16           Dawn W  Massey   \n",
       "17               17        Anna M.  Lawrence   \n",
       "18               17        Anna M.  Lawrence   \n",
       "19               17        Anna M.  Lawrence   \n",
       "20               17        Anna M.  Lawrence   \n",
       "21               18        Cecelia F.  Bucki   \n",
       "22               18        Cecelia F.  Bucki   \n",
       "23               19     Sally E.  O'Driscoll   \n",
       "24               20      Martha S.  LoMonaco   \n",
       "25               20      Martha S.  LoMonaco   \n",
       "26               20      Martha S.  LoMonaco   \n",
       "27               20      Martha S.  LoMonaco   \n",
       "28               21           Scott M.  Lacy   \n",
       "29               22         David   Crawford   \n",
       "...             ...                      ...   \n",
       "982            1076           Darly   George   \n",
       "983            1078          Mehrnaz   Kamal   \n",
       "984            1079      Karla   Barguiarena   \n",
       "985            1080          Derek   Demilio   \n",
       "986            1081         Ayanna   Eastman   \n",
       "987            1082      Mary Ellen   Staudt   \n",
       "988            1083          Vanessa   Liles   \n",
       "989            1084          Asia   Goubourn   \n",
       "990            1085    Patricia   Crisafulli   \n",
       "991            1086        Claudia   Calhoun   \n",
       "992            1087       Caitlin   Casiello   \n",
       "993            1088          Nathan   Silver   \n",
       "994            1090          Walter   Rankin   \n",
       "995            1090          Walter   Rankin   \n",
       "996            1090          Walter   Rankin   \n",
       "997            1091  Jennifer C.  Slack Gans   \n",
       "998            1092          Ann Marie  Cook   \n",
       "999            1093  Marian Lois   Villaflor   \n",
       "1000           1094     Clare Marie  O'Leary   \n",
       "1001           1095          Lisa   Guardino   \n",
       "1002           1096      Katherine   Sadighi   \n",
       "1003           1097       Jessica   Marraffa   \n",
       "1004           1098   John Joseph  DiGiacomo   \n",
       "1005           1099    Patricia   Trowbridge   \n",
       "1006           1100      William H.  Johnson   \n",
       "1007           1101       Christine S.  Peck   \n",
       "1008           1102           Maureen   Ruby   \n",
       "1009           1103              Tonya   Lee   \n",
       "1010           1104          Karl G.  Ruling   \n",
       "1011           1105            Lynne   Chase   \n",
       "\n",
       "                                Department  \n",
       "0                               Accounting  \n",
       "1                               Accounting  \n",
       "2                               Accounting  \n",
       "3                               Accounting  \n",
       "4                               Accounting  \n",
       "5                               Accounting  \n",
       "6                               Accounting  \n",
       "7                               Accounting  \n",
       "8                               Accounting  \n",
       "9                               Management  \n",
       "10                              Accounting  \n",
       "11                                Taxation  \n",
       "12                              Accounting  \n",
       "13                              Accounting  \n",
       "14                              Accounting  \n",
       "15                          Applied Ethics  \n",
       "16                              Accounting  \n",
       "17                           Black Studies  \n",
       "18                                 History  \n",
       "19    Women, Gender, and Sexuality Studies  \n",
       "20                        American Studies  \n",
       "21                                 History  \n",
       "22                        American Studies  \n",
       "23                                 English  \n",
       "24                                 Theatre  \n",
       "25                        American Studies  \n",
       "26                                 English  \n",
       "27                                  Honors  \n",
       "28                            Anthropology  \n",
       "29                            Anthropology  \n",
       "...                                    ...  \n",
       "982                                Biology  \n",
       "983                              Chemistry  \n",
       "984                          Communication  \n",
       "985                          Communication  \n",
       "986                          Communication  \n",
       "987                             Counseling  \n",
       "988                              Education  \n",
       "989                              Education  \n",
       "990                              Education  \n",
       "991       Film, Television, and Media Arts  \n",
       "992       Film, Television, and Media Arts  \n",
       "993       Film, Television, and Media Arts  \n",
       "994                                 French  \n",
       "995                                 German  \n",
       "996                                Italian  \n",
       "997                         Family Therapy  \n",
       "998                                Nursing  \n",
       "999                                Nursing  \n",
       "1000                               Nursing  \n",
       "1001                               Nursing  \n",
       "1002                               Nursing  \n",
       "1003                               Nursing  \n",
       "1004                               Nursing  \n",
       "1005                            Portuguese  \n",
       "1006                            Psychology  \n",
       "1007                            Psychology  \n",
       "1008      Reading and Language Development  \n",
       "1009                            Studio Art  \n",
       "1010                               Theatre  \n",
       "1011                               Theatre  \n",
       "\n",
       "[1012 rows x 3 columns]"
      ]
     },
     "execution_count": 107,
     "metadata": {},
     "output_type": "execute_result"
    }
   ],
   "source": [
    "teacher_department"
   ]
  },
  {
   "cell_type": "code",
   "execution_count": 108,
   "metadata": {},
   "outputs": [],
   "source": [
    "teacher_department.to_csv('teachers.csv', index=False)"
   ]
  },
  {
   "cell_type": "code",
   "execution_count": null,
   "metadata": {},
   "outputs": [],
   "source": []
  }
 ],
 "metadata": {
  "kernelspec": {
   "display_name": "Python 3",
   "language": "python",
   "name": "python3"
  },
  "language_info": {
   "codemirror_mode": {
    "name": "ipython",
    "version": 3
   },
   "file_extension": ".py",
   "mimetype": "text/x-python",
   "name": "python",
   "nbconvert_exporter": "python",
   "pygments_lexer": "ipython3",
   "version": "3.6.5"
  }
 },
 "nbformat": 4,
 "nbformat_minor": 2
}

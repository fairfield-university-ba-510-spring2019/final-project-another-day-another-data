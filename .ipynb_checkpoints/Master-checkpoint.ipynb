{
 "cells": [
  {
   "cell_type": "markdown",
   "metadata": {},
   "source": [
    "**Building Tables for the DataBase**"
   ]
  },
  {
   "cell_type": "code",
   "execution_count": 34,
   "metadata": {},
   "outputs": [
    {
     "name": "stdout",
     "output_type": "stream",
     "text": [
      "The sql extension is already loaded. To reload it, use:\n",
      "  %reload_ext sql\n"
     ]
    }
   ],
   "source": [
    "%load_ext sql"
   ]
  },
  {
   "cell_type": "code",
   "execution_count": 35,
   "metadata": {},
   "outputs": [
    {
     "name": "stdout",
     "output_type": "stream",
     "text": [
      "Done.\n",
      "Done.\n",
      "Done.\n",
      "Done.\n",
      "Done.\n"
     ]
    },
    {
     "data": {
      "text/plain": [
       "[]"
      ]
     },
     "execution_count": 35,
     "metadata": {},
     "output_type": "execute_result"
    }
   ],
   "source": [
    "%%sql\n",
    "sqlite:///CourseData.db\n",
    "    \n",
    "DROP TABLE IF EXISTS COURSE_OFFERING;\n",
    "DROP TABLE IF EXISTS CATALOG_DESC;\n",
    "DROP TABLE IF EXISTS INSTRUCTOR;\n",
    "DROP TABLE IF EXISTS COURSE_MEETING;\n",
    "DROP TABLE IF EXISTS CATALOG_YEAR_FILL;"
   ]
  },
  {
   "cell_type": "code",
   "execution_count": 36,
   "metadata": {},
   "outputs": [
    {
     "name": "stdout",
     "output_type": "stream",
     "text": [
      " * sqlite:///CourseData.db\n",
      "Done.\n"
     ]
    },
    {
     "data": {
      "text/plain": [
       "[]"
      ]
     },
     "execution_count": 36,
     "metadata": {},
     "output_type": "execute_result"
    }
   ],
   "source": [
    "%%sql\n",
    "CREATE TABLE CATALOG_DESC (\n",
    "    catalog_desc_id INTEGER PRIMARY KEY,\n",
    "    catalog_id TEXT NOT NULL,\n",
    "    program_code TEXT NOT NULL,\n",
    "    program_name TEXT NOT NULL,\n",
    "    course_title TEXT NOT NULL,\n",
    "    credits TEXT NOT NULL,\n",
    "    prereqs TEXT,\n",
    "    coreqs TEXT,\n",
    "    fees TEXT,\n",
    "    attributes TEXT,\n",
    "    description TEXT,\n",
    "    catalog_year TEXT NOT NULL\n",
    ");"
   ]
  },
  {
   "cell_type": "code",
   "execution_count": 37,
   "metadata": {},
   "outputs": [
    {
     "name": "stdout",
     "output_type": "stream",
     "text": [
      " * sqlite:///CourseData.db\n",
      "Done.\n"
     ]
    },
    {
     "data": {
      "text/plain": [
       "[]"
      ]
     },
     "execution_count": 37,
     "metadata": {},
     "output_type": "execute_result"
    }
   ],
   "source": [
    "%%sql\n",
    "CREATE TABLE INSTRUCTOR (\n",
    "    instructor_id INTEGER PRIMARY KEY,\n",
    "    primary_instructor TEXT NOT NULL\n",
    ");"
   ]
  },
  {
   "cell_type": "code",
   "execution_count": 38,
   "metadata": {},
   "outputs": [
    {
     "name": "stdout",
     "output_type": "stream",
     "text": [
      " * sqlite:///CourseData.db\n",
      "Done.\n"
     ]
    },
    {
     "data": {
      "text/plain": [
       "[]"
      ]
     },
     "execution_count": 38,
     "metadata": {},
     "output_type": "execute_result"
    }
   ],
   "source": [
    "%%sql\n",
    "CREATE TABLE COURSE_OFFERING (\n",
    "    course_offering_id INTEGER PRIMARY KEY,\n",
    "    CRN TEXT NOT NULL,\n",
    "    catalog_desc_id INTEGER,\n",
    "    term TEXT NOT NULL,\n",
    "    section TEXT NOT NULL,\n",
    "    title TEXT NOT NULL,\n",
    "    credits INTEGER NOT NULL,\n",
    "    cap INTEGER NOT NULL,\n",
    "    act INTEGER NOT NULL,\n",
    "    rem INTEGER NOT NULL, \n",
    "    meetings TEXT NOT NULL, \n",
    "    timecodes TEXT NOT NULL,\n",
    "    catalog_year TEXT,\n",
    "    instructor_id INTEGER NOT NULL,\n",
    "    FOREIGN KEY (instructor_id) REFERENCES INSTRUCTOR (instructor_id),\n",
    "    FOREIGN KEY (catalog_desc_id) REFERENCES CATALOG_DESC (catalog_desc_id)\n",
    ");"
   ]
  },
  {
   "cell_type": "code",
   "execution_count": 39,
   "metadata": {},
   "outputs": [
    {
     "name": "stdout",
     "output_type": "stream",
     "text": [
      " * sqlite:///CourseData.db\n",
      "Done.\n"
     ]
    },
    {
     "data": {
      "text/plain": [
       "[]"
      ]
     },
     "execution_count": 39,
     "metadata": {},
     "output_type": "execute_result"
    }
   ],
   "source": [
    "%%sql\n",
    "CREATE TABLE COURSE_MEETING (\n",
    "    meet_id INTEGER PRIMARY KEY,\n",
    "    course_offering_id INTEGER NOT NULL,\n",
    "    CRN TEXT NOT NULL,\n",
    "    term TEXT NOT NULL,\n",
    "    location TEXT, \n",
    "    day TEXT NOT NULL, \n",
    "    start TEXT NOT NULL,\n",
    "    end TEXT NOT NULL,\n",
    "    FOREIGN KEY (course_offering_ID) REFERENCES COURSE_OFFERING (course_offering_ID)\n",
    ");"
   ]
  },
  {
   "cell_type": "code",
   "execution_count": 40,
   "metadata": {},
   "outputs": [
    {
     "name": "stdout",
     "output_type": "stream",
     "text": [
      " * sqlite:///CourseData.db\n",
      "Done.\n"
     ]
    },
    {
     "data": {
      "text/plain": [
       "[]"
      ]
     },
     "execution_count": 40,
     "metadata": {},
     "output_type": "execute_result"
    }
   ],
   "source": [
    "%%sql\n",
    "CREATE TABLE CATALOG_YEAR_FILL (\n",
    "    term TEXT NOT NULL,\n",
    "    catalog_year TEXT NOT NULL\n",
    ");"
   ]
  },
  {
   "cell_type": "code",
   "execution_count": 41,
   "metadata": {},
   "outputs": [
    {
     "name": "stdout",
     "output_type": "stream",
     "text": [
      " * sqlite:///CourseData.db\n",
      "8 rows affected.\n"
     ]
    },
    {
     "data": {
      "text/plain": [
       "[]"
      ]
     },
     "execution_count": 41,
     "metadata": {},
     "output_type": "execute_result"
    }
   ],
   "source": [
    "%%sql\n",
    "INSERT INTO CATALOG_YEAR_FILL (term, catalog_year) VALUES\n",
    "('Fall2017','2017_2018'), ('Winter2018','2017_2018'), ('Spring2018','2017_2018'), ('SpringBreak2018','2017_2018')\n",
    " , ('Summer2018','2017_2018'), ('Fall2018','2018_2019'), ('Winter2019','2018_2019'), ('Spring2019','2018_2019');"
   ]
  },
  {
   "cell_type": "code",
   "execution_count": 42,
   "metadata": {},
   "outputs": [
    {
     "name": "stdout",
     "output_type": "stream",
     "text": [
      " * sqlite:///CourseData.db\n",
      "1105 rows affected.\n"
     ]
    },
    {
     "data": {
      "text/plain": [
       "[]"
      ]
     },
     "execution_count": 42,
     "metadata": {},
     "output_type": "execute_result"
    }
   ],
   "source": [
    "%%sql\n",
    "INSERT INTO INSTRUCTOR (primary_instructor)\n",
    "SELECT DISTINCT primary_instructor\n",
    "FROM import_courses;"
   ]
  },
  {
   "cell_type": "code",
   "execution_count": 43,
   "metadata": {},
   "outputs": [
    {
     "name": "stdout",
     "output_type": "stream",
     "text": [
      " * sqlite:///CourseData.db\n",
      "4441 rows affected.\n"
     ]
    },
    {
     "data": {
      "text/plain": [
       "[]"
      ]
     },
     "execution_count": 43,
     "metadata": {},
     "output_type": "execute_result"
    }
   ],
   "source": [
    "%%sql\n",
    "INSERT INTO CATALOG_DESC (catalog_id, program_code, program_name, course_title, credits, prereqs, coreqs, fees, attributes, description, catalog_year)\n",
    "SELECT catalog_id, program_code, program_name, course_title, credits, prereqs, coreqs, fees, attributes, description, catalog_year\n",
    "FROM import_catalogs;"
   ]
  },
  {
   "cell_type": "code",
   "execution_count": 45,
   "metadata": {},
   "outputs": [
    {
     "name": "stdout",
     "output_type": "stream",
     "text": [
      " * sqlite:///CourseData.db\n",
      "15955 rows affected.\n"
     ]
    },
    {
     "data": {
      "text/plain": [
       "[]"
      ]
     },
     "execution_count": 45,
     "metadata": {},
     "output_type": "execute_result"
    }
   ],
   "source": [
    "%%sql\n",
    "INSERT INTO COURSE_OFFERING (CRN, term, section, title, credits, cap, act, rem, meetings, timecodes, instructor_id, catalog_desc_id, catalog_year)\n",
    "SELECT CRN, term, section, title, import_courses.credits, cap, act, rem, meetings, timecodes, instructor_id, catalog_desc_id, CATALOG_YEAR_FILL.catalog_year\n",
    "    FROM import_courses\n",
    "    JOIN INSTRUCTOR ON (import_courses.primary_instructor=INSTRUCTOR.primary_instructor)\n",
    "    LEFT JOIN CATALOG_YEAR_FILL USING (term)\n",
    "    LEFT JOIN CATALOG_DESC ON (import_courses.catalog_id=CATALOG_DESC.catalog_id AND CATALOG_YEAR_FILL.catalog_year=CATALOG_DESC.catalog_year);"
   ]
  },
  {
   "cell_type": "code",
   "execution_count": 46,
   "metadata": {},
   "outputs": [
    {
     "name": "stdout",
     "output_type": "stream",
     "text": [
      " * sqlite:///CourseData.db\n",
      "311159 rows affected.\n"
     ]
    },
    {
     "data": {
      "text/plain": [
       "[]"
      ]
     },
     "execution_count": 46,
     "metadata": {},
     "output_type": "execute_result"
    }
   ],
   "source": [
    "%%sql\n",
    "INSERT INTO COURSE_MEETING (course_offering_id, CRN, term, location, day, start, end)\n",
    "SELECT DISTINCT course_offering_id, import_course_meetings.CRN, import_course_meetings.term, location, day, start, end\n",
    "    FROM import_course_meetings\n",
    "    JOIN COURSE_OFFERING ON (import_course_meetings.CRN=COURSE_OFFERING.CRN AND import_course_meetings.term=COURSE_OFFERING.term);"
   ]
  },
  {
   "cell_type": "code",
   "execution_count": 47,
   "metadata": {},
   "outputs": [
    {
     "name": "stdout",
     "output_type": "stream",
     "text": [
      " * sqlite:///CourseData.db\n",
      "Done.\n"
     ]
    },
    {
     "data": {
      "text/html": [
       "<table>\n",
       "    <tr>\n",
       "        <th>COUNT(*)</th>\n",
       "    </tr>\n",
       "    <tr>\n",
       "        <td>317339</td>\n",
       "    </tr>\n",
       "</table>"
      ],
      "text/plain": [
       "[(317339,)]"
      ]
     },
     "execution_count": 47,
     "metadata": {},
     "output_type": "execute_result"
    }
   ],
   "source": [
    "%%sql\n",
    "SELECT COUNT(*)\n",
    "FROM import_course_meetings;"
   ]
  },
  {
   "cell_type": "code",
   "execution_count": 56,
   "metadata": {},
   "outputs": [
    {
     "name": "stdout",
     "output_type": "stream",
     "text": [
      " * sqlite:///CourseData.db\n",
      "Done.\n"
     ]
    },
    {
     "data": {
      "text/html": [
       "<table>\n",
       "    <tr>\n",
       "        <th>Teacher</th>\n",
       "        <th>No_Sections</th>\n",
       "    </tr>\n",
       "    <tr>\n",
       "        <td>Nicole Elizabeth  Heller</td>\n",
       "        <td>53</td>\n",
       "    </tr>\n",
       "    <tr>\n",
       "        <td>Anthony J.  DeCristofaro</td>\n",
       "        <td>5</td>\n",
       "    </tr>\n",
       "    <tr>\n",
       "        <td>Christine   Earls</td>\n",
       "        <td>5</td>\n",
       "    </tr>\n",
       "    <tr>\n",
       "        <td>Christine R.  Rodriguez</td>\n",
       "        <td>5</td>\n",
       "    </tr>\n",
       "    <tr>\n",
       "        <td>Michael Walden  Creane</td>\n",
       "        <td>5</td>\n",
       "    </tr>\n",
       "    <tr>\n",
       "        <td>Nancy A.  Moriber</td>\n",
       "        <td>5</td>\n",
       "    </tr>\n",
       "    <tr>\n",
       "        <td>Qin   Zhang</td>\n",
       "        <td>5</td>\n",
       "    </tr>\n",
       "    <tr>\n",
       "        <td>Sonya R.  Huber</td>\n",
       "        <td>5</td>\n",
       "    </tr>\n",
       "    <tr>\n",
       "        <td>William F.  Vasquez Mazariegos</td>\n",
       "        <td>5</td>\n",
       "    </tr>\n",
       "    <tr>\n",
       "        <td>Anderson   Weekes</td>\n",
       "        <td>4</td>\n",
       "    </tr>\n",
       "</table>"
      ],
      "text/plain": [
       "[('Nicole Elizabeth  Heller', 53),\n",
       " ('Anthony J.  DeCristofaro', 5),\n",
       " ('Christine   Earls', 5),\n",
       " ('Christine R.  Rodriguez', 5),\n",
       " ('Michael Walden  Creane', 5),\n",
       " ('Nancy A.  Moriber', 5),\n",
       " ('Qin   Zhang', 5),\n",
       " ('Sonya R.  Huber', 5),\n",
       " ('William F.  Vasquez Mazariegos', 5),\n",
       " ('Anderson   Weekes', 4)]"
      ]
     },
     "execution_count": 56,
     "metadata": {},
     "output_type": "execute_result"
    }
   ],
   "source": [
    "%%sql\n",
    "SELECT DISTINCT (primary_instructor) AS Teacher, COUNT(section) AS No_Sections\n",
    "FROM COURSE_OFFERING\n",
    "JOIN INSTRUCTOR ON (COURSE_OFFERING.instructor_id=INSTRUCTOR.instructor_id)\n",
    "WHERE act > 10 AND term = 'Fall2018'\n",
    "GROUP BY primary_instructor\n",
    "ORDER BY No_sections DESC\n",
    "LIMIT 10;"
   ]
  },
  {
   "cell_type": "code",
   "execution_count": 61,
   "metadata": {},
   "outputs": [
    {
     "name": "stdout",
     "output_type": "stream",
     "text": [
      " * sqlite:///CourseData.db\n",
      "Done.\n"
     ]
    },
    {
     "data": {
      "text/html": [
       "<table>\n",
       "    <tr>\n",
       "        <th>Teacher</th>\n",
       "        <th>Class</th>\n",
       "        <th>day</th>\n",
       "        <th>start</th>\n",
       "        <th>end</th>\n",
       "    </tr>\n",
       "    <tr>\n",
       "        <td>Christopher L.  Huntley</td>\n",
       "        <td>Databases for Business Analytics</td>\n",
       "        <td>T</td>\n",
       "        <td>2019-01-29T18:30:00</td>\n",
       "        <td>2019-01-29T21:30:00</td>\n",
       "    </tr>\n",
       "    <tr>\n",
       "        <td>Christopher L.  Huntley</td>\n",
       "        <td>Databases for Business Analytics</td>\n",
       "        <td>T</td>\n",
       "        <td>2019-02-05T18:30:00</td>\n",
       "        <td>2019-02-05T21:30:00</td>\n",
       "    </tr>\n",
       "    <tr>\n",
       "        <td>Christopher L.  Huntley</td>\n",
       "        <td>Databases for Business Analytics</td>\n",
       "        <td>T</td>\n",
       "        <td>2019-02-12T18:30:00</td>\n",
       "        <td>2019-02-12T21:30:00</td>\n",
       "    </tr>\n",
       "    <tr>\n",
       "        <td>Christopher L.  Huntley</td>\n",
       "        <td>Databases for Business Analytics</td>\n",
       "        <td>T</td>\n",
       "        <td>2019-02-26T18:30:00</td>\n",
       "        <td>2019-02-26T21:30:00</td>\n",
       "    </tr>\n",
       "    <tr>\n",
       "        <td>Christopher L.  Huntley</td>\n",
       "        <td>Databases for Business Analytics</td>\n",
       "        <td>T</td>\n",
       "        <td>2019-03-05T18:30:00</td>\n",
       "        <td>2019-03-05T21:30:00</td>\n",
       "    </tr>\n",
       "    <tr>\n",
       "        <td>Christopher L.  Huntley</td>\n",
       "        <td>Databases for Business Analytics</td>\n",
       "        <td>T</td>\n",
       "        <td>2019-03-12T18:30:00</td>\n",
       "        <td>2019-03-12T21:30:00</td>\n",
       "    </tr>\n",
       "    <tr>\n",
       "        <td>Christopher L.  Huntley</td>\n",
       "        <td>Databases for Business Analytics</td>\n",
       "        <td>T</td>\n",
       "        <td>2019-01-29T09:00:00</td>\n",
       "        <td>2019-01-29T16:00:00</td>\n",
       "    </tr>\n",
       "    <tr>\n",
       "        <td>Christopher L.  Huntley</td>\n",
       "        <td>Databases for Business Analytics</td>\n",
       "        <td>T</td>\n",
       "        <td>2019-02-05T09:00:00</td>\n",
       "        <td>2019-02-05T16:00:00</td>\n",
       "    </tr>\n",
       "    <tr>\n",
       "        <td>Christopher L.  Huntley</td>\n",
       "        <td>Databases for Business Analytics</td>\n",
       "        <td>T</td>\n",
       "        <td>2019-02-12T09:00:00</td>\n",
       "        <td>2019-02-12T16:00:00</td>\n",
       "    </tr>\n",
       "    <tr>\n",
       "        <td>Christopher L.  Huntley</td>\n",
       "        <td>Databases for Business Analytics</td>\n",
       "        <td>T</td>\n",
       "        <td>2019-02-26T09:00:00</td>\n",
       "        <td>2019-02-26T16:00:00</td>\n",
       "    </tr>\n",
       "    <tr>\n",
       "        <td>Christopher L.  Huntley</td>\n",
       "        <td>Databases for Business Analytics</td>\n",
       "        <td>T</td>\n",
       "        <td>2019-03-05T09:00:00</td>\n",
       "        <td>2019-03-05T16:00:00</td>\n",
       "    </tr>\n",
       "    <tr>\n",
       "        <td>Christopher L.  Huntley</td>\n",
       "        <td>Databases for Business Analytics</td>\n",
       "        <td>T</td>\n",
       "        <td>2019-03-12T09:00:00</td>\n",
       "        <td>2019-03-12T16:00:00</td>\n",
       "    </tr>\n",
       "    <tr>\n",
       "        <td>Christopher L.  Huntley</td>\n",
       "        <td>Databases for Business Analytics</td>\n",
       "        <td>S</td>\n",
       "        <td>2019-02-02T09:00:00</td>\n",
       "        <td>2019-02-02T16:00:00</td>\n",
       "    </tr>\n",
       "    <tr>\n",
       "        <td>Christopher L.  Huntley</td>\n",
       "        <td>Databases for Business Analytics</td>\n",
       "        <td>S</td>\n",
       "        <td>2019-02-16T09:00:00</td>\n",
       "        <td>2019-02-16T16:00:00</td>\n",
       "    </tr>\n",
       "    <tr>\n",
       "        <td>Christopher L.  Huntley</td>\n",
       "        <td>Databases for Business Analytics</td>\n",
       "        <td>S</td>\n",
       "        <td>2019-03-09T09:00:00</td>\n",
       "        <td>2019-03-09T16:00:00</td>\n",
       "    </tr>\n",
       "</table>"
      ],
      "text/plain": [
       "[('Christopher L.  Huntley', 'Databases for Business Analytics', 'T', '2019-01-29T18:30:00', '2019-01-29T21:30:00'),\n",
       " ('Christopher L.  Huntley', 'Databases for Business Analytics', 'T', '2019-02-05T18:30:00', '2019-02-05T21:30:00'),\n",
       " ('Christopher L.  Huntley', 'Databases for Business Analytics', 'T', '2019-02-12T18:30:00', '2019-02-12T21:30:00'),\n",
       " ('Christopher L.  Huntley', 'Databases for Business Analytics', 'T', '2019-02-26T18:30:00', '2019-02-26T21:30:00'),\n",
       " ('Christopher L.  Huntley', 'Databases for Business Analytics', 'T', '2019-03-05T18:30:00', '2019-03-05T21:30:00'),\n",
       " ('Christopher L.  Huntley', 'Databases for Business Analytics', 'T', '2019-03-12T18:30:00', '2019-03-12T21:30:00'),\n",
       " ('Christopher L.  Huntley', 'Databases for Business Analytics', 'T', '2019-01-29T09:00:00', '2019-01-29T16:00:00'),\n",
       " ('Christopher L.  Huntley', 'Databases for Business Analytics', 'T', '2019-02-05T09:00:00', '2019-02-05T16:00:00'),\n",
       " ('Christopher L.  Huntley', 'Databases for Business Analytics', 'T', '2019-02-12T09:00:00', '2019-02-12T16:00:00'),\n",
       " ('Christopher L.  Huntley', 'Databases for Business Analytics', 'T', '2019-02-26T09:00:00', '2019-02-26T16:00:00'),\n",
       " ('Christopher L.  Huntley', 'Databases for Business Analytics', 'T', '2019-03-05T09:00:00', '2019-03-05T16:00:00'),\n",
       " ('Christopher L.  Huntley', 'Databases for Business Analytics', 'T', '2019-03-12T09:00:00', '2019-03-12T16:00:00'),\n",
       " ('Christopher L.  Huntley', 'Databases for Business Analytics', 'S', '2019-02-02T09:00:00', '2019-02-02T16:00:00'),\n",
       " ('Christopher L.  Huntley', 'Databases for Business Analytics', 'S', '2019-02-16T09:00:00', '2019-02-16T16:00:00'),\n",
       " ('Christopher L.  Huntley', 'Databases for Business Analytics', 'S', '2019-03-09T09:00:00', '2019-03-09T16:00:00')]"
      ]
     },
     "execution_count": 61,
     "metadata": {},
     "output_type": "execute_result"
    }
   ],
   "source": [
    "%%sql\n",
    "SELECT primary_instructor AS Teacher, title AS Class, day, start, end\n",
    "FROM COURSE_OFFERING\n",
    "JOIN INSTRUCTOR ON (COURSE_OFFERING.instructor_id=INSTRUCTOR.instructor_id)\n",
    "JOIN COURSE_MEETING ON (COURSE_OFFERING.course_offering_id=COURSE_MEETING.course_offering_id)\n",
    "WHERE COURSE_OFFERING.CRN = '39006' AND COURSE_OFFERING.term = 'Spring2019';"
   ]
  },
  {
   "cell_type": "code",
   "execution_count": null,
   "metadata": {},
   "outputs": [],
   "source": []
  }
 ],
 "metadata": {
  "kernelspec": {
   "display_name": "Python 3",
   "language": "python",
   "name": "python3"
  },
  "language_info": {
   "codemirror_mode": {
    "name": "ipython",
    "version": 3
   },
   "file_extension": ".py",
   "mimetype": "text/x-python",
   "name": "python",
   "nbconvert_exporter": "python",
   "pygments_lexer": "ipython3",
   "version": "3.6.5"
  }
 },
 "nbformat": 4,
 "nbformat_minor": 2
}

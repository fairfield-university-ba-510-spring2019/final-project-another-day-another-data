{
 "cells": [
  {
   "cell_type": "markdown",
   "metadata": {},
   "source": [
    "**Building Tables for the DataBase**"
   ]
  },
  {
   "cell_type": "code",
   "execution_count": 29,
   "metadata": {},
   "outputs": [
    {
     "name": "stdout",
     "output_type": "stream",
     "text": [
      "The sql extension is already loaded. To reload it, use:\n",
      "  %reload_ext sql\n"
     ]
    }
   ],
   "source": [
    "#Loading in SQL extension\n",
    "%load_ext sql"
   ]
  },
  {
   "cell_type": "code",
   "execution_count": 32,
   "metadata": {},
   "outputs": [
    {
     "name": "stdout",
     "output_type": "stream",
     "text": [
      "Done.\n",
      "Done.\n",
      "Done.\n",
      "Done.\n"
     ]
    },
    {
     "data": {
      "text/plain": [
       "[]"
      ]
     },
     "execution_count": 32,
     "metadata": {},
     "output_type": "execute_result"
    }
   ],
   "source": [
    "%%sql\n",
    "sqlite:///CourseData.db\n",
    "DROP TABLE IF EXISTS COURSE_OFFERING;\n",
    "DROP TABLE IF EXISTS CATALOG_DESC;\n",
    "DROP TABLE IF EXISTS INSTRUCTOR;\n",
    "DROP TABLE IF EXISTS COURSE_MEETING;"
   ]
  },
  {
   "cell_type": "code",
   "execution_count": 15,
   "metadata": {},
   "outputs": [
    {
     "ename": "SyntaxError",
     "evalue": "invalid syntax (<ipython-input-15-88d0a0e8d232>, line 3)",
     "output_type": "error",
     "traceback": [
      "\u001b[0;36m  File \u001b[0;32m\"<ipython-input-15-88d0a0e8d232>\"\u001b[0;36m, line \u001b[0;32m3\u001b[0m\n\u001b[0;31m    CREATE TABLE COURSE_OFFERING (,\u001b[0m\n\u001b[0m               ^\u001b[0m\n\u001b[0;31mSyntaxError\u001b[0m\u001b[0;31m:\u001b[0m invalid syntax\n"
     ]
    }
   ],
   "source": [
    "#%%sql\\n\",\n",
    "#Creating the Course_Offering Table\\n\",\n",
    "CREATE TABLE COURSE_OFFERING (,\n",
    "    CRN INTEGER PRIMARY KEY,\n",
    "    catalog_id TEXT NOT NULL,\n",
    "    term_year TEXT NOT NULL,\n",
    "    section TEXT NOT NULL,\n",
    "    course_title TEXT NOT NULL,\n",
    "    credits TEXT NOT NULL,\n",
    "    cap INTEGER NOT NULL,\n",
    "    act INTEGER NOT NULL,\n",
    "    rem INTEGER NOT NULL,\n",
    "    year INTEGER NOT NULL, \n",
    "    meetings TEXT NOT NULL, \n",
    "    timecodes TEXT NOT NULL,\n",
    "    FOREIGN KEY (primary_instructor) REFERENCES INSTRUCTOR (instructor_id),\n",
    "    FOREIGN KEY (catalog_id) REFERENCES CATALOG_DESC (catalog_id),\n",
    "    FOREIGN KEY (term_year) REFERENCES CATALOG_DESC (term_year),\n",
    ");"
   ]
  },
  {
   "cell_type": "code",
   "execution_count": 16,
   "metadata": {},
   "outputs": [
    {
     "ename": "SyntaxError",
     "evalue": "invalid syntax (<ipython-input-16-091cd79980e7>, line 3)",
     "output_type": "error",
     "traceback": [
      "\u001b[0;36m  File \u001b[0;32m\"<ipython-input-16-091cd79980e7>\"\u001b[0;36m, line \u001b[0;32m3\u001b[0m\n\u001b[0;31m    CREATE TABLE CATALOG_DESC (\u001b[0m\n\u001b[0m               ^\u001b[0m\n\u001b[0;31mSyntaxError\u001b[0m\u001b[0;31m:\u001b[0m invalid syntax\n"
     ]
    }
   ],
   "source": [
    "#%%sql\n",
    "#Creating CATALOG_DESC Table\n",
    "CREATE TABLE CATALOG_DESC (\n",
    "    catalog_id TEXT PRIMARY KEY,\n",
    "    term_year TEXT PRIMARY KEY,\n",
    "    program_code TEXT NOT NULL,\n",
    "    program_name TEXT NOT NULL,\n",
    "    course_title TEXT NOT NULL,\n",
    "    credits TEXT NOT NULL,\n",
    "    prereqs TEXT,\n",
    "    coreqs TEXT,\n",
    "    fees INTEGER,\n",
    "    attributes TEXT,\n",
    "    description TEXT\n",
    ");"
   ]
  },
  {
   "cell_type": "code",
   "execution_count": 17,
   "metadata": {},
   "outputs": [
    {
     "ename": "SyntaxError",
     "evalue": "invalid syntax (<ipython-input-17-09daa0afb22f>, line 3)",
     "output_type": "error",
     "traceback": [
      "\u001b[0;36m  File \u001b[0;32m\"<ipython-input-17-09daa0afb22f>\"\u001b[0;36m, line \u001b[0;32m3\u001b[0m\n\u001b[0;31m    CREATE TABLE INSTRUCTOR (\u001b[0m\n\u001b[0m               ^\u001b[0m\n\u001b[0;31mSyntaxError\u001b[0m\u001b[0;31m:\u001b[0m invalid syntax\n"
     ]
    }
   ],
   "source": [
    "#%%sql\n",
    "#Creating INSTRUCTOR Table\n",
    "CREATE TABLE INSTRUCTOR (\n",
    "    instructor_id INTEGER PRIMARY KEY,\n",
    "    name TEXT NOT NULL,\n",
    "    email TEXT NOT NULL,\n",
    "    phone_ext TEXT,\n",
    "    PRIMARY KEY (instructor_id)\n",
    ");"
   ]
  },
  {
   "cell_type": "code",
   "execution_count": 18,
   "metadata": {},
   "outputs": [
    {
     "ename": "SyntaxError",
     "evalue": "invalid syntax (<ipython-input-18-161ecea75cdc>, line 3)",
     "output_type": "error",
     "traceback": [
      "\u001b[0;36m  File \u001b[0;32m\"<ipython-input-18-161ecea75cdc>\"\u001b[0;36m, line \u001b[0;32m3\u001b[0m\n\u001b[0;31m    CREATE TABLE COURSE_MEETING (\u001b[0m\n\u001b[0m               ^\u001b[0m\n\u001b[0;31mSyntaxError\u001b[0m\u001b[0;31m:\u001b[0m invalid syntax\n"
     ]
    }
   ],
   "source": [
    "#%%sql\n",
    "#Creating COURSE_MEETING Table\n",
    "CREATE TABLE COURSE_MEETING (\n",
    "    meet_id INTEGER NOT NULL auto_increment,\n",
    "    CRN INTEGER NOT NULL,\n",
    "    location TEXT, \n",
    "    day TEXT NOT NULL, \n",
    "    start TEXT NOT NULL,\n",
    "    end TEXT NOT NULL, \n",
    "    PRIMARY KEY (meet_id),\n",
    "    FOREIGN KEY (CRN) REFERENCES COURSE_OFFERING (CRN)\n",
    ");"
   ]
  },
  {
   "cell_type": "code",
   "execution_count": null,
   "metadata": {},
   "outputs": [],
   "source": []
  }
 ],
 "metadata": {
  "kernelspec": {
   "display_name": "Python 3",
   "language": "python",
   "name": "python3"
  },
  "language_info": {
   "codemirror_mode": {
    "name": "ipython",
    "version": 3
   },
   "file_extension": ".py",
   "mimetype": "text/x-python",
   "name": "python",
   "nbconvert_exporter": "python",
   "pygments_lexer": "ipython3",
   "version": "3.6.5"
  }
 },
 "nbformat": 4,
 "nbformat_minor": 2
}
